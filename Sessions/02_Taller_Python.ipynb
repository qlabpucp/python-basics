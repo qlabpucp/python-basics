{
 "cells": [
  {
   "cell_type": "markdown",
   "metadata": {
    "id": "m0os2if7vEdp"
   },
   "source": [
    "# **TALLER INTRODUCTORIO A PYTHON**\n",
    "\n",
    "# Sesión 2 - \"Operadores y Estructuras en Python\"\n",
    "Este taller introductorio está dirigido a estudiantes de la Universidad Nacional Toribio Rodríguez de Mendoza de Amazonas y aborda los fundamentos para el desarrollo de habilidades de programación con Python. El objetivo es otorgar los conocimientos fundamentales al estudiante sobre la estructuración del contenido, las mecánicas de funcionamiento y las capacidades de Python como herramienta para la investigación cuantitativa en la ciencia de datos. \n",
    "\n",
    "#### Fecha: \n",
    "12 de agosto\n",
    "#### Duración: \n",
    "7:00pm - 9:00pm\n",
    "#### Instructores: \n",
    "Esteban Cabrera (esteban.cabrera@pucp.edu.pe)\n",
    "\n",
    "Michael Encalada (michael.encalada@pucp.edu.pe)"
   ]
  },
  {
   "cell_type": "markdown",
   "metadata": {
    "id": "cIy0b9nQvEdt"
   },
   "source": [
    "## **Índice**"
   ]
  },
  {
   "cell_type": "markdown",
   "metadata": {
    "id": "QNjex7obvEdu"
   },
   "source": [
    "- <a href='#t4'>4. Operadores</a>\n",
    "     - <a href='#4.1.'>4.1. Operadores aritméticos</a>\n",
    "     - <a href='#4.2.'>4.2. Operadores de comparación</a>\n",
    "     - <a href='#4.3.'>4.3. Operadores lógicos</a>\n",
    "- <a href='#t5'>5. Tipos de datos II</a>\n",
    "     - <a href='#5.1.'>5.1. Listas</a>\n",
    "     - <a href='#5.2.'>5.2. Tuplas</a>\n",
    "     - <a href='#5.3.'>5.3. Diccionarios</a>\n",
    "- <a href='#t6'>6. Control de flujo</a>  \n",
    "     - <a href='#6.1.'>6.1. Sentencias condicionales</a>\n",
    "     - <a href='#6.2.'>6.2. Sentencias de bucle</a>\n",
    "- <a href='#t7'>7. Funciones</a>\n"
   ]
  },
  {
   "cell_type": "markdown",
   "metadata": {
    "id": "Gpv6cKzPvEeL"
   },
   "source": [
    "##  <a id='t4'>4. OPERADORES</a>"
   ]
  },
  {
   "cell_type": "markdown",
   "metadata": {
    "id": "kx1cpEF-vEeL"
   },
   "source": [
    "### 4.1. <a id='4.1.'>Operadores aritméticos</a>"
   ]
  },
  {
   "cell_type": "markdown",
   "metadata": {
    "id": "pS_QMIqXvEeM"
   },
   "source": [
    "| Operador | Nombre             | Ejemplo | Resultado |\n",
    "|----------|--------------------|---------|-----------|\n",
    "| `+`      | Suma               | `5+3`   |  `8`      |\n",
    "| `-`      | Resta              | `8-1`   |  `7`      |\n",
    "| `*`      | Multiplicación     | `2*3`   |  `6`      |\n",
    "| `/`      | División           | `8*2`   |  `4`      |\n",
    "| `%`      | Módulo (residuo)   | `9*2`   |  `1`      |\n",
    "| `**`     | Exponenciación     | `2**2`  |  `4`      |\n",
    "| `//`     | División de piso   | `13**2` |  `6`      |"
   ]
  },
  {
   "cell_type": "code",
   "execution_count": 24,
   "metadata": {
    "colab": {
     "base_uri": "https://localhost:8080/"
    },
    "executionInfo": {
     "elapsed": 306,
     "status": "ok",
     "timestamp": 1709602103650,
     "user": {
      "displayName": "Laboratorio de Ciencias Sociales",
      "userId": "13319980455210928079"
     },
     "user_tz": 300
    },
    "id": "QOV62OuJvEeN",
    "outputId": "210a683a-9607-4204-9979-1796eed3c6d8"
   },
   "outputs": [
    {
     "name": "stdout",
     "output_type": "stream",
     "text": [
      "37\n"
     ]
    }
   ],
   "source": [
    "# Suma\n",
    "a = 12 + 15 + 10\n",
    "print(a)"
   ]
  },
  {
   "cell_type": "code",
   "execution_count": 25,
   "metadata": {
    "colab": {
     "base_uri": "https://localhost:8080/"
    },
    "executionInfo": {
     "elapsed": 350,
     "status": "ok",
     "timestamp": 1709602107528,
     "user": {
      "displayName": "Laboratorio de Ciencias Sociales",
      "userId": "13319980455210928079"
     },
     "user_tz": 300
    },
    "id": "gw79F8U3vEeP",
    "outputId": "cb0a9c8e-c5f7-4de3-aa4d-b938d9ef96f7"
   },
   "outputs": [
    {
     "name": "stdout",
     "output_type": "stream",
     "text": [
      "12\n"
     ]
    }
   ],
   "source": [
    "# Resta\n",
    "b = 15 - 3\n",
    "print(b)"
   ]
  },
  {
   "cell_type": "code",
   "execution_count": 26,
   "metadata": {
    "colab": {
     "base_uri": "https://localhost:8080/"
    },
    "executionInfo": {
     "elapsed": 5,
     "status": "ok",
     "timestamp": 1709602194996,
     "user": {
      "displayName": "Laboratorio de Ciencias Sociales",
      "userId": "13319980455210928079"
     },
     "user_tz": 300
    },
    "id": "1S_JoOhoyPa-",
    "outputId": "98684bb4-09ea-4ee0-a866-b880e17dff42"
   },
   "outputs": [
    {
     "name": "stdout",
     "output_type": "stream",
     "text": [
      "4.666666666666667\n"
     ]
    }
   ],
   "source": [
    "# División\n",
    "c = 14/3\n",
    "print(c)"
   ]
  },
  {
   "cell_type": "code",
   "execution_count": 27,
   "metadata": {
    "colab": {
     "base_uri": "https://localhost:8080/"
    },
    "executionInfo": {
     "elapsed": 4,
     "status": "ok",
     "timestamp": 1709602160168,
     "user": {
      "displayName": "Laboratorio de Ciencias Sociales",
      "userId": "13319980455210928079"
     },
     "user_tz": 300
    },
    "id": "N4z2RHxbvEeP",
    "outputId": "dff75a1d-45d3-4c8a-98fb-e319e39014aa"
   },
   "outputs": [
    {
     "name": "stdout",
     "output_type": "stream",
     "text": [
      "4\n"
     ]
    }
   ],
   "source": [
    "# División de piso (trunca el resultado)\n",
    "d = 14//3\n",
    "print(d)"
   ]
  },
  {
   "cell_type": "code",
   "execution_count": 28,
   "metadata": {
    "colab": {
     "base_uri": "https://localhost:8080/"
    },
    "executionInfo": {
     "elapsed": 465,
     "status": "ok",
     "timestamp": 1709602232831,
     "user": {
      "displayName": "Laboratorio de Ciencias Sociales",
      "userId": "13319980455210928079"
     },
     "user_tz": 300
    },
    "id": "ncvRQbNsv7ik",
    "outputId": "51d23617-74fa-4194-8180-40b7962d813d"
   },
   "outputs": [
    {
     "name": "stdout",
     "output_type": "stream",
     "text": [
      "1\n"
     ]
    }
   ],
   "source": [
    "# Residuo\n",
    "f = 16 % 3\n",
    "print(f)\n"
   ]
  },
  {
   "cell_type": "code",
   "execution_count": 29,
   "metadata": {
    "colab": {
     "base_uri": "https://localhost:8080/"
    },
    "executionInfo": {
     "elapsed": 302,
     "status": "ok",
     "timestamp": 1709602277050,
     "user": {
      "displayName": "Laboratorio de Ciencias Sociales",
      "userId": "13319980455210928079"
     },
     "user_tz": 300
    },
    "id": "WwRSyAsZvEeO",
    "outputId": "457489ec-a119-4665-dff8-e0ab941e70ba"
   },
   "outputs": [
    {
     "name": "stdout",
     "output_type": "stream",
     "text": [
      "8\n"
     ]
    }
   ],
   "source": [
    "# Exponenciación\n",
    "e = 2**3\n",
    "print(e)"
   ]
  },
  {
   "cell_type": "code",
   "execution_count": 30,
   "metadata": {
    "colab": {
     "base_uri": "https://localhost:8080/"
    },
    "executionInfo": {
     "elapsed": 322,
     "status": "ok",
     "timestamp": 1709602291983,
     "user": {
      "displayName": "Laboratorio de Ciencias Sociales",
      "userId": "13319980455210928079"
     },
     "user_tz": 300
    },
    "id": "kJhDP3ubvEeQ",
    "outputId": "bacca52f-ba3f-42df-ec90-fe31afae4e7c"
   },
   "outputs": [
    {
     "name": "stdout",
     "output_type": "stream",
     "text": [
      "10.194444444444445\n"
     ]
    }
   ],
   "source": [
    "# Combinación de operaciones aritméticas\n",
    "g = (11 + 5)//2 + 7 / 6 **2 + 250 % 8\n",
    "print(g)"
   ]
  },
  {
   "cell_type": "markdown",
   "metadata": {
    "id": "00M3tYcvvEeR"
   },
   "source": [
    "### 4.2. <a id='4.2.'>Operadores de comparación</a>"
   ]
  },
  {
   "cell_type": "markdown",
   "metadata": {
    "id": "w7_wDV4UvEeS"
   },
   "source": [
    "Los siguientes operadores realizan comparaciones entre valores/variables. Cuando se comparan estos valores, el resultado es True o False."
   ]
  },
  {
   "cell_type": "markdown",
   "metadata": {
    "id": "9Y7zhfZnvEeS"
   },
   "source": [
    "| Operador | Nombre             | Ejemplo    | Resultado |\n",
    "|----------|--------------------|------------|-----------|\n",
    "| `>`      | Mayor que          | `23 > 43`  |  `True`   |\n",
    "| `<`      | Menor que          | `10 < 5`   |  `False`  |\n",
    "| `>=`     | Mayor o igual que  | `11 >= 11` |  `True`   |\n",
    "| `<=`     | Menor o igual que  | `8 <= 2`   |  `False`  |\n",
    "| `==`     | Igual a            | `14 == 13` |  `False`  |\n",
    "| `!=`     | No igual a         | `3 != 2`   |  `True`   |"
   ]
  },
  {
   "cell_type": "code",
   "execution_count": 31,
   "metadata": {
    "colab": {
     "base_uri": "https://localhost:8080/"
    },
    "executionInfo": {
     "elapsed": 3,
     "status": "ok",
     "timestamp": 1709602411691,
     "user": {
      "displayName": "Laboratorio de Ciencias Sociales",
      "userId": "13319980455210928079"
     },
     "user_tz": 300
    },
    "id": "h4W5XLTJvEeT",
    "outputId": "d5b537c9-b687-4917-e466-446ebb675f44"
   },
   "outputs": [
    {
     "data": {
      "text/plain": [
       "False"
      ]
     },
     "execution_count": 31,
     "metadata": {},
     "output_type": "execute_result"
    }
   ],
   "source": [
    "# Igual a\n",
    "32 == 23"
   ]
  },
  {
   "cell_type": "code",
   "execution_count": 32,
   "metadata": {
    "colab": {
     "base_uri": "https://localhost:8080/"
    },
    "executionInfo": {
     "elapsed": 3,
     "status": "ok",
     "timestamp": 1709602414841,
     "user": {
      "displayName": "Laboratorio de Ciencias Sociales",
      "userId": "13319980455210928079"
     },
     "user_tz": 300
    },
    "id": "TC8EzjakvEeU",
    "outputId": "765ba284-1f9b-48d6-ac0f-a89cc681ccac"
   },
   "outputs": [
    {
     "data": {
      "text/plain": [
       "True"
      ]
     },
     "execution_count": 32,
     "metadata": {},
     "output_type": "execute_result"
    }
   ],
   "source": [
    "# Menor que\n",
    "14 < 15"
   ]
  },
  {
   "cell_type": "code",
   "execution_count": 33,
   "metadata": {
    "colab": {
     "base_uri": "https://localhost:8080/"
    },
    "executionInfo": {
     "elapsed": 338,
     "status": "ok",
     "timestamp": 1709602419122,
     "user": {
      "displayName": "Laboratorio de Ciencias Sociales",
      "userId": "13319980455210928079"
     },
     "user_tz": 300
    },
    "id": "UpDVLubXvEeV",
    "outputId": "cd5ee6b1-9996-40d1-b923-a920cd955681"
   },
   "outputs": [
    {
     "data": {
      "text/plain": [
       "False"
      ]
     },
     "execution_count": 33,
     "metadata": {},
     "output_type": "execute_result"
    }
   ],
   "source": [
    "# Mayor o igual que\n",
    "10 <= 7"
   ]
  },
  {
   "cell_type": "code",
   "execution_count": 34,
   "metadata": {
    "colab": {
     "base_uri": "https://localhost:8080/"
    },
    "executionInfo": {
     "elapsed": 279,
     "status": "ok",
     "timestamp": 1709602443750,
     "user": {
      "displayName": "Laboratorio de Ciencias Sociales",
      "userId": "13319980455210928079"
     },
     "user_tz": 300
    },
    "id": "KOH-zmQovEeW",
    "outputId": "758f0f39-2e51-452b-ccb7-a1ec9c0866bd"
   },
   "outputs": [
    {
     "data": {
      "text/plain": [
       "False"
      ]
     },
     "execution_count": 34,
     "metadata": {},
     "output_type": "execute_result"
    }
   ],
   "source": [
    "# Los operadores aritméticos y de comparación se pueden combinar\n",
    "5 * 3//2 > 3 ** 2 - 1"
   ]
  },
  {
   "cell_type": "code",
   "execution_count": 35,
   "metadata": {
    "colab": {
     "base_uri": "https://localhost:8080/"
    },
    "executionInfo": {
     "elapsed": 5,
     "status": "ok",
     "timestamp": 1709602458328,
     "user": {
      "displayName": "Laboratorio de Ciencias Sociales",
      "userId": "13319980455210928079"
     },
     "user_tz": 300
    },
    "id": "b-dBPg3qvEeW",
    "outputId": "e7a8c80c-98e0-4440-9d1a-08c9bf495276"
   },
   "outputs": [
    {
     "data": {
      "text/plain": [
       "False"
      ]
     },
     "execution_count": 35,
     "metadata": {},
     "output_type": "execute_result"
    }
   ],
   "source": [
    "h = 5 * 3//2\n",
    "j = 3 ** 2 - 1\n",
    "h > j"
   ]
  },
  {
   "cell_type": "markdown",
   "metadata": {
    "id": "o0exHYTVvEeX"
   },
   "source": [
    "### 4.3. <a id='4.3.'>Operadores lógicos</a>"
   ]
  },
  {
   "cell_type": "markdown",
   "metadata": {
    "id": "HGiQehDfvEeY"
   },
   "source": [
    "Se trata de operadores lógicos de respuesta booleana"
   ]
  },
  {
   "cell_type": "markdown",
   "metadata": {
    "id": "QcIlL2YvvEeY"
   },
   "source": [
    "| Operador | Equivalente        | Ejemplo                    | Resultado |\n",
    "|----------|--------------------|----------------------------|-----------|\n",
    "| `and`    | y                  | `(3 > 2) and (8 > 5)`      |  `True`   |\n",
    "| `or`     | o                  | `(10 > 2) or (10 < 9)`    |  `True`  |\n",
    "| `not`    | no                 | `not (9 > 11)`             |  `True`   |"
   ]
  },
  {
   "cell_type": "code",
   "execution_count": 36,
   "metadata": {
    "colab": {
     "base_uri": "https://localhost:8080/"
    },
    "executionInfo": {
     "elapsed": 381,
     "status": "ok",
     "timestamp": 1709602570076,
     "user": {
      "displayName": "Laboratorio de Ciencias Sociales",
      "userId": "13319980455210928079"
     },
     "user_tz": 300
    },
    "id": "-cqrtBjevEeZ",
    "outputId": "bc7cf332-2075-4b42-db62-e54fa392f298"
   },
   "outputs": [
    {
     "data": {
      "text/plain": [
       "True"
      ]
     },
     "execution_count": 36,
     "metadata": {},
     "output_type": "execute_result"
    }
   ],
   "source": [
    "# And\n",
    "(5 > 1) and (6 > 2)"
   ]
  },
  {
   "cell_type": "code",
   "execution_count": 37,
   "metadata": {
    "colab": {
     "base_uri": "https://localhost:8080/"
    },
    "executionInfo": {
     "elapsed": 310,
     "status": "ok",
     "timestamp": 1709602573854,
     "user": {
      "displayName": "Laboratorio de Ciencias Sociales",
      "userId": "13319980455210928079"
     },
     "user_tz": 300
    },
    "id": "eA6nv5eFvEeZ",
    "outputId": "08b6be70-f1bf-4140-f391-0e7c5fb21321"
   },
   "outputs": [
    {
     "data": {
      "text/plain": [
       "True"
      ]
     },
     "execution_count": 37,
     "metadata": {},
     "output_type": "execute_result"
    }
   ],
   "source": [
    "# Not\n",
    "not (8 < 6)"
   ]
  },
  {
   "cell_type": "code",
   "execution_count": 38,
   "metadata": {
    "colab": {
     "base_uri": "https://localhost:8080/"
    },
    "executionInfo": {
     "elapsed": 309,
     "status": "ok",
     "timestamp": 1709602779495,
     "user": {
      "displayName": "Laboratorio de Ciencias Sociales",
      "userId": "13319980455210928079"
     },
     "user_tz": 300
    },
    "id": "-VbWAvLTQ-Ir",
    "outputId": "5bbf68c7-50fa-413c-92f1-41ecb1bd924b"
   },
   "outputs": [
    {
     "data": {
      "text/plain": [
       "True"
      ]
     },
     "execution_count": 38,
     "metadata": {},
     "output_type": "execute_result"
    }
   ],
   "source": [
    "not (9 > 11)"
   ]
  },
  {
   "cell_type": "code",
   "execution_count": 39,
   "metadata": {
    "colab": {
     "base_uri": "https://localhost:8080/"
    },
    "executionInfo": {
     "elapsed": 5,
     "status": "ok",
     "timestamp": 1709602769801,
     "user": {
      "displayName": "Laboratorio de Ciencias Sociales",
      "userId": "13319980455210928079"
     },
     "user_tz": 300
    },
    "id": "cQc7d7HLQ_FB",
    "outputId": "a159acab-25bb-4761-ac64-d952ed96f38d"
   },
   "outputs": [
    {
     "data": {
      "text/plain": [
       "False"
      ]
     },
     "execution_count": 39,
     "metadata": {},
     "output_type": "execute_result"
    }
   ],
   "source": [
    "(9 > 11)"
   ]
  },
  {
   "cell_type": "code",
   "execution_count": 40,
   "metadata": {
    "colab": {
     "base_uri": "https://localhost:8080/"
    },
    "executionInfo": {
     "elapsed": 337,
     "status": "ok",
     "timestamp": 1709602591361,
     "user": {
      "displayName": "Laboratorio de Ciencias Sociales",
      "userId": "13319980455210928079"
     },
     "user_tz": 300
    },
    "id": "xESEFd7qynPo",
    "outputId": "425dbba7-d4e2-4138-d091-11935e45d742"
   },
   "outputs": [
    {
     "data": {
      "text/plain": [
       "True"
      ]
     },
     "execution_count": 40,
     "metadata": {},
     "output_type": "execute_result"
    }
   ],
   "source": [
    "# Or\n",
    "(3 > 1) or (5 < 1)"
   ]
  },
  {
   "cell_type": "code",
   "execution_count": 41,
   "metadata": {
    "colab": {
     "base_uri": "https://localhost:8080/"
    },
    "executionInfo": {
     "elapsed": 3,
     "status": "ok",
     "timestamp": 1709602625143,
     "user": {
      "displayName": "Laboratorio de Ciencias Sociales",
      "userId": "13319980455210928079"
     },
     "user_tz": 300
    },
    "id": "lBt7gx6WQZwM",
    "outputId": "8f24ebd6-f652-40fc-8912-4a7537b204bf"
   },
   "outputs": [
    {
     "data": {
      "text/plain": [
       "True"
      ]
     },
     "execution_count": 41,
     "metadata": {},
     "output_type": "execute_result"
    }
   ],
   "source": [
    "(5 < 1) or (3 > 1)"
   ]
  },
  {
   "cell_type": "code",
   "execution_count": 42,
   "metadata": {
    "colab": {
     "base_uri": "https://localhost:8080/"
    },
    "executionInfo": {
     "elapsed": 304,
     "status": "ok",
     "timestamp": 1709602655785,
     "user": {
      "displayName": "Laboratorio de Ciencias Sociales",
      "userId": "13319980455210928079"
     },
     "user_tz": 300
    },
    "id": "YGO-ZHFKytdk",
    "outputId": "4c306171-aeb7-4742-afb8-e50c6e1a8f6e"
   },
   "outputs": [
    {
     "data": {
      "text/plain": [
       "True"
      ]
     },
     "execution_count": 42,
     "metadata": {},
     "output_type": "execute_result"
    }
   ],
   "source": [
    "# Más ejemplos\n",
    "(not (7 < 2)) and ((8 > 1) or (8 < 1))"
   ]
  },
  {
   "cell_type": "code",
   "execution_count": 43,
   "metadata": {
    "colab": {
     "base_uri": "https://localhost:8080/"
    },
    "executionInfo": {
     "elapsed": 321,
     "status": "ok",
     "timestamp": 1709602662000,
     "user": {
      "displayName": "Laboratorio de Ciencias Sociales",
      "userId": "13319980455210928079"
     },
     "user_tz": 300
    },
    "id": "AXLSvZY7ytbR",
    "outputId": "fcfad410-302d-4b57-cad7-85035fdfb443"
   },
   "outputs": [
    {
     "data": {
      "text/plain": [
       "False"
      ]
     },
     "execution_count": 43,
     "metadata": {},
     "output_type": "execute_result"
    }
   ],
   "source": [
    "# ¿Alguien puede decir que saldría?\n",
    "(not (7 > 2)) and ((8 > 1) or (8 < 1))"
   ]
  },
  {
   "cell_type": "markdown",
   "metadata": {
    "id": "x93ytDQuvEea"
   },
   "source": [
    "##  <a id='t5'>5. Tipos de datos II</a>"
   ]
  },
  {
   "cell_type": "markdown",
   "metadata": {
    "id": "4NjAi4n0vEea"
   },
   "source": [
    "### 5.1. <a id='5.1.'>Listas</a>"
   ]
  },
  {
   "cell_type": "markdown",
   "metadata": {
    "id": "znVcS_g-vEeb"
   },
   "source": [
    "Hasta ahora los tipos de datos que hemos estudiado tienen un solo elemento. Las listas **permiten almacenar y trabajar varios datos al mismo como una lista ordenada de valores**. Las listas se crean utilizando **corchetes []** y pueden contener elementos de diferentes tipos de datos, como números, cadenas de texto, booleanos. Son  colecciones ordenadas de items.\n",
    "\n",
    "Cabe recordar:\n",
    "* Se puede cambiar los items de la lista.\n",
    "* La longitud de la lista de puede obtener con la funcion <b>len()</b>\n",
    "* El primer item es el **indice 0**."
   ]
  },
  {
   "cell_type": "code",
   "execution_count": 44,
   "metadata": {
    "colab": {
     "base_uri": "https://localhost:8080/"
    },
    "executionInfo": {
     "elapsed": 2,
     "status": "ok",
     "timestamp": 1709604008053,
     "user": {
      "displayName": "Laboratorio de Ciencias Sociales",
      "userId": "13319980455210928079"
     },
     "user_tz": 300
    },
    "id": "UQqDrt6pvEeb",
    "outputId": "d97f9145-eee4-43b7-f29b-4bc25789cc41"
   },
   "outputs": [
    {
     "name": "stdout",
     "output_type": "stream",
     "text": [
      "['Sociología', 'Economía', 'Antropologia', 'Finanzas', 'Ciencia Política']\n"
     ]
    }
   ],
   "source": [
    "lista_1 = [2,5,3,1,7]\n",
    "lista_2 = [\"Sociología\", \"Economía\", \"Antropologia\", \"Finanzas\", \"Ciencia Política\"]\n",
    "print(lista_2)"
   ]
  },
  {
   "cell_type": "markdown",
   "metadata": {
    "id": "h9e1sCvnvEec"
   },
   "source": [
    "Las listas pueden contener elementos de diferentes tipos"
   ]
  },
  {
   "cell_type": "code",
   "execution_count": 45,
   "metadata": {
    "colab": {
     "base_uri": "https://localhost:8080/"
    },
    "executionInfo": {
     "elapsed": 5,
     "status": "ok",
     "timestamp": 1709604032784,
     "user": {
      "displayName": "Laboratorio de Ciencias Sociales",
      "userId": "13319980455210928079"
     },
     "user_tz": 300
    },
    "id": "hqPaDsWavEec",
    "outputId": "adbf9943-4515-4d5b-c638-1810f6c4465b"
   },
   "outputs": [
    {
     "name": "stdout",
     "output_type": "stream",
     "text": [
      "[5, 'hola', 50.55, False, 'bitte']\n"
     ]
    }
   ],
   "source": [
    "lista_3 = [5, 'hola', 50.55, False, \"bitte\"]\n",
    "print(lista_3)"
   ]
  },
  {
   "cell_type": "markdown",
   "metadata": {
    "id": "hpheYTM5vEed"
   },
   "source": [
    "Las listas pueden concatenarse mediante el operador de suma"
   ]
  },
  {
   "cell_type": "code",
   "execution_count": 46,
   "metadata": {
    "colab": {
     "base_uri": "https://localhost:8080/"
    },
    "executionInfo": {
     "elapsed": 4,
     "status": "ok",
     "timestamp": 1709604051097,
     "user": {
      "displayName": "Laboratorio de Ciencias Sociales",
      "userId": "13319980455210928079"
     },
     "user_tz": 300
    },
    "id": "bE-cHjz4vEed",
    "outputId": "3f9fc8f5-5bd9-4f7f-e421-471c630d3bc6"
   },
   "outputs": [
    {
     "name": "stdout",
     "output_type": "stream",
     "text": [
      "[2, 5, 3, 1, 7, 'Sociología', 'Economía', 'Antropologia', 'Finanzas', 'Ciencia Política']\n"
     ]
    }
   ],
   "source": [
    "lista_4 = lista_1 + lista_2\n",
    "print(lista_4)"
   ]
  },
  {
   "cell_type": "markdown",
   "metadata": {
    "id": "rwFfHcOEvEee"
   },
   "source": [
    "**Métodos** para listas"
   ]
  },
  {
   "cell_type": "markdown",
   "metadata": {
    "id": "qHOrRKlzvEee"
   },
   "source": [
    "| Método                                 | Operacion realizada                                              |\n",
    "|----------------------------------------|------------------------------------------------------------------|\n",
    "| `lista_2.copy()`                       | Hacer un duplicado de la lista                                   |\n",
    "| `lista_1.sort()`                       | Ordenar una lista                                                |\n",
    "| `lista_1.append(elemento_a)`           | Añadir el `elemento_a` a la `lista_1`                            |\n",
    "| `lista_1[n]`                           | Acceder al elemento en el orden `n` situado en la   `lista_1`    |"
   ]
  },
  {
   "cell_type": "code",
   "execution_count": 47,
   "metadata": {
    "colab": {
     "base_uri": "https://localhost:8080/"
    },
    "executionInfo": {
     "elapsed": 5,
     "status": "ok",
     "timestamp": 1709604219838,
     "user": {
      "displayName": "Laboratorio de Ciencias Sociales",
      "userId": "13319980455210928079"
     },
     "user_tz": 300
    },
    "id": "fceVQ_AfvEef",
    "outputId": "4aaea0cc-0938-49ac-c45e-8971d7f897de"
   },
   "outputs": [
    {
     "name": "stdout",
     "output_type": "stream",
     "text": [
      "[2, 5, 3, 1, 7]\n"
     ]
    }
   ],
   "source": [
    "# Copy\n",
    "lista_5 = lista_1.copy()\n",
    "print(lista_5)"
   ]
  },
  {
   "cell_type": "code",
   "execution_count": 48,
   "metadata": {
    "colab": {
     "base_uri": "https://localhost:8080/"
    },
    "executionInfo": {
     "elapsed": 430,
     "status": "ok",
     "timestamp": 1709604278579,
     "user": {
      "displayName": "Laboratorio de Ciencias Sociales",
      "userId": "13319980455210928079"
     },
     "user_tz": 300
    },
    "id": "x4gXQ-wZWrBr",
    "outputId": "edc6c4b5-7d04-4e69-9ba8-429edec8d956"
   },
   "outputs": [
    {
     "name": "stdout",
     "output_type": "stream",
     "text": [
      "[2, 5, 3, 1, 7]\n"
     ]
    }
   ],
   "source": [
    "print(lista_1)"
   ]
  },
  {
   "cell_type": "code",
   "execution_count": 49,
   "metadata": {
    "colab": {
     "base_uri": "https://localhost:8080/"
    },
    "executionInfo": {
     "elapsed": 390,
     "status": "ok",
     "timestamp": 1709604298264,
     "user": {
      "displayName": "Laboratorio de Ciencias Sociales",
      "userId": "13319980455210928079"
     },
     "user_tz": 300
    },
    "id": "LPXk8BV2vEef",
    "outputId": "a64af5da-8894-4d3f-9b03-925608e4f6e1"
   },
   "outputs": [
    {
     "name": "stdout",
     "output_type": "stream",
     "text": [
      "[2, 5, 3, 1, 7, 10]\n"
     ]
    }
   ],
   "source": [
    "# Append\n",
    "lista_1.append(10)\n",
    "print(lista_1)"
   ]
  },
  {
   "cell_type": "code",
   "execution_count": 50,
   "metadata": {
    "colab": {
     "base_uri": "https://localhost:8080/"
    },
    "executionInfo": {
     "elapsed": 5,
     "status": "ok",
     "timestamp": 1709604839629,
     "user": {
      "displayName": "Laboratorio de Ciencias Sociales",
      "userId": "13319980455210928079"
     },
     "user_tz": 300
    },
    "id": "QqhoovUsYdZX",
    "outputId": "839d1f27-e3cb-414a-f46b-ca5eac3a3442"
   },
   "outputs": [
    {
     "name": "stdout",
     "output_type": "stream",
     "text": [
      "[2, 5, 1, 7, 10]\n"
     ]
    }
   ],
   "source": [
    "#Quitar elementos\n",
    "lista_1.remove(3)\n",
    "print(lista_1)"
   ]
  },
  {
   "cell_type": "code",
   "execution_count": 51,
   "metadata": {
    "colab": {
     "base_uri": "https://localhost:8080/"
    },
    "executionInfo": {
     "elapsed": 365,
     "status": "ok",
     "timestamp": 1709604512143,
     "user": {
      "displayName": "Laboratorio de Ciencias Sociales",
      "userId": "13319980455210928079"
     },
     "user_tz": 300
    },
    "id": "AUsjsBVGXni0",
    "outputId": "7353c08a-18df-4179-b454-f39b13d156fb"
   },
   "outputs": [
    {
     "data": {
      "text/plain": [
       "5"
      ]
     },
     "execution_count": 51,
     "metadata": {},
     "output_type": "execute_result"
    }
   ],
   "source": [
    "#Numero de elementos\n",
    "len(lista_1)"
   ]
  },
  {
   "cell_type": "code",
   "execution_count": 52,
   "metadata": {
    "colab": {
     "base_uri": "https://localhost:8080/"
    },
    "executionInfo": {
     "elapsed": 310,
     "status": "ok",
     "timestamp": 1709604337889,
     "user": {
      "displayName": "Laboratorio de Ciencias Sociales",
      "userId": "13319980455210928079"
     },
     "user_tz": 300
    },
    "id": "ulocRaIuvEeg",
    "outputId": "74d11bf3-0f1d-406d-e99e-31f1eccd48d4"
   },
   "outputs": [
    {
     "data": {
      "text/plain": [
       "10"
      ]
     },
     "execution_count": 52,
     "metadata": {},
     "output_type": "execute_result"
    }
   ],
   "source": [
    "# Acceder mediante el índice\n",
    "lista_1[4]"
   ]
  },
  {
   "cell_type": "markdown",
   "metadata": {
    "id": "sZ0LvtJtvEeh"
   },
   "source": [
    "Métodos para obtener información de **listas numéricas**"
   ]
  },
  {
   "cell_type": "markdown",
   "metadata": {
    "id": "GgX5AQL1vEeh"
   },
   "source": [
    "| Método                   | Operacion realizada                                              |\n",
    "|--------------------------|------------------------------------------------------------------|\n",
    "| `sum(lista)`             | Sumar todos los elementos de la lista                            |\n",
    "| `min(lista)`             | Obtener el valor minimo de entre todos los elementos de la lista |\n",
    "| `len(lista)`             | Obtener el número de elementos de la lista                       |\n",
    "| `sum(lista)\\len(lista)`  | Obtener el valor promedio de una lista                           |"
   ]
  },
  {
   "cell_type": "code",
   "execution_count": 53,
   "metadata": {
    "colab": {
     "base_uri": "https://localhost:8080/"
    },
    "executionInfo": {
     "elapsed": 5,
     "status": "ok",
     "timestamp": 1709604421755,
     "user": {
      "displayName": "Laboratorio de Ciencias Sociales",
      "userId": "13319980455210928079"
     },
     "user_tz": 300
    },
    "id": "jdoPAxeqXQcI",
    "outputId": "35a09e84-d5d6-4a55-eaa9-96bf1e31c06c"
   },
   "outputs": [
    {
     "data": {
      "text/plain": [
       "25"
      ]
     },
     "execution_count": 53,
     "metadata": {},
     "output_type": "execute_result"
    }
   ],
   "source": [
    "sum(lista_1)"
   ]
  },
  {
   "cell_type": "code",
   "execution_count": 54,
   "metadata": {
    "colab": {
     "base_uri": "https://localhost:8080/"
    },
    "executionInfo": {
     "elapsed": 3,
     "status": "ok",
     "timestamp": 1709604452136,
     "user": {
      "displayName": "Laboratorio de Ciencias Sociales",
      "userId": "13319980455210928079"
     },
     "user_tz": 300
    },
    "id": "81YDn9k4XZEM",
    "outputId": "30be725e-5a71-4054-d164-774f6bc2a4e6"
   },
   "outputs": [
    {
     "data": {
      "text/plain": [
       "1"
      ]
     },
     "execution_count": 54,
     "metadata": {},
     "output_type": "execute_result"
    }
   ],
   "source": [
    "min(lista_1)"
   ]
  },
  {
   "cell_type": "code",
   "execution_count": 55,
   "metadata": {
    "colab": {
     "base_uri": "https://localhost:8080/"
    },
    "executionInfo": {
     "elapsed": 3,
     "status": "ok",
     "timestamp": 1709604475402,
     "user": {
      "displayName": "Laboratorio de Ciencias Sociales",
      "userId": "13319980455210928079"
     },
     "user_tz": 300
    },
    "id": "tjf7zzN0XeCZ",
    "outputId": "a32e1a55-191c-4624-8bb7-3eba82d09540"
   },
   "outputs": [
    {
     "data": {
      "text/plain": [
       "10"
      ]
     },
     "execution_count": 55,
     "metadata": {},
     "output_type": "execute_result"
    }
   ],
   "source": [
    "max(lista_1)"
   ]
  },
  {
   "cell_type": "markdown",
   "metadata": {
    "id": "y10PN3ezvEei"
   },
   "source": [
    "### 5.2. <a id='5.2.'>Tuplas</a>"
   ]
  },
  {
   "cell_type": "markdown",
   "metadata": {
    "id": "FlGbfT1VvEei"
   },
   "source": [
    "Son colecciones de elementos ordenados que se utilizan para almacenar datos de  manera **inmutable** . Esto significa que una vez definida una tupla, no se puede modificar sus elementos individuales ni agregar nuevos elementos a la tupla. Las tuplas se crean utilizando **paréntesis ()** y pueden componerse de diferentes tipos de datos"
   ]
  },
  {
   "cell_type": "code",
   "execution_count": 56,
   "metadata": {
    "colab": {
     "base_uri": "https://localhost:8080/"
    },
    "executionInfo": {
     "elapsed": 8,
     "status": "ok",
     "timestamp": 1709604628335,
     "user": {
      "displayName": "Laboratorio de Ciencias Sociales",
      "userId": "13319980455210928079"
     },
     "user_tz": 300
    },
    "id": "sANk3rX3vEej",
    "outputId": "46cc0d71-8c08-4998-ae80-6c32176e5583"
   },
   "outputs": [
    {
     "name": "stdout",
     "output_type": "stream",
     "text": [
      "(1, 3, 3, 5, 10)\n"
     ]
    }
   ],
   "source": [
    "tupla_1 = (1, 3, 3, 5, 10)\n",
    "print(tupla_1)"
   ]
  },
  {
   "cell_type": "markdown",
   "metadata": {
    "id": "q2GgkwOZvEej"
   },
   "source": [
    "Podemos acceder a sus elementos mediante el índice"
   ]
  },
  {
   "cell_type": "code",
   "execution_count": 57,
   "metadata": {
    "colab": {
     "base_uri": "https://localhost:8080/"
    },
    "executionInfo": {
     "elapsed": 291,
     "status": "ok",
     "timestamp": 1709604635544,
     "user": {
      "displayName": "Laboratorio de Ciencias Sociales",
      "userId": "13319980455210928079"
     },
     "user_tz": 300
    },
    "id": "ix-_ibTHvEej",
    "outputId": "a05e5ef0-8bb6-465b-eb65-6c7d4de0f546"
   },
   "outputs": [
    {
     "data": {
      "text/plain": [
       "3"
      ]
     },
     "execution_count": 57,
     "metadata": {},
     "output_type": "execute_result"
    }
   ],
   "source": [
    "tupla_1[1]"
   ]
  },
  {
   "cell_type": "markdown",
   "metadata": {
    "id": "3lUYWCzBvEek"
   },
   "source": [
    "No podemos modificar los elementos de ninguna manera"
   ]
  },
  {
   "cell_type": "code",
   "execution_count": 58,
   "metadata": {
    "colab": {
     "base_uri": "https://localhost:8080/",
     "height": 141
    },
    "executionInfo": {
     "elapsed": 11,
     "status": "error",
     "timestamp": 1709605288747,
     "user": {
      "displayName": "Laboratorio de Ciencias Sociales",
      "userId": "13319980455210928079"
     },
     "user_tz": 300
    },
    "id": "tnAYXSgGvEek",
    "outputId": "16a893d5-4e33-4777-be07-8a97b2996890"
   },
   "outputs": [],
   "source": [
    "# tupla_1.append(10)"
   ]
  },
  {
   "cell_type": "markdown",
   "metadata": {
    "id": "yG9Xh1e1vEel"
   },
   "source": [
    "No podemos hacer duplicados"
   ]
  },
  {
   "cell_type": "code",
   "execution_count": 59,
   "metadata": {
    "colab": {
     "base_uri": "https://localhost:8080/",
     "height": 141
    },
    "executionInfo": {
     "elapsed": 325,
     "status": "error",
     "timestamp": 1709605313725,
     "user": {
      "displayName": "Laboratorio de Ciencias Sociales",
      "userId": "13319980455210928079"
     },
     "user_tz": 300
    },
    "id": "gr0Od4-yvEel",
    "outputId": "4da16275-70b1-4bf0-8e6d-89bb324e56fb"
   },
   "outputs": [],
   "source": [
    "# tupla_2 = tupla_1.copy()"
   ]
  },
  {
   "cell_type": "markdown",
   "metadata": {
    "id": "D3q9Hd3Za2qg"
   },
   "source": [
    "No se pueden quitar elementos."
   ]
  },
  {
   "cell_type": "code",
   "execution_count": 60,
   "metadata": {
    "colab": {
     "base_uri": "https://localhost:8080/",
     "height": 141
    },
    "executionInfo": {
     "elapsed": 8,
     "status": "error",
     "timestamp": 1709605339554,
     "user": {
      "displayName": "Laboratorio de Ciencias Sociales",
      "userId": "13319980455210928079"
     },
     "user_tz": 300
    },
    "id": "OMpPvsNQauJt",
    "outputId": "6a03546b-7c1e-4e6e-d4d0-3498e386a08e"
   },
   "outputs": [],
   "source": [
    "#tupla_2 = tupla_1.remove(10)"
   ]
  },
  {
   "cell_type": "markdown",
   "metadata": {
    "id": "5w_LG9aJvEel"
   },
   "source": [
    "### 5.3. <a id='5.3.'>Diccionarios</a>"
   ]
  },
  {
   "cell_type": "markdown",
   "metadata": {
    "id": "BT_O6JT0vEem"
   },
   "source": [
    "Un diccionario en Python es **una estructura de datos que permite almacenar pares de clave-valor**. Cada elemento del diccionario tiene una clave única que se utiliza para acceder a su valor correspondiente. Es como un libro de palabras y definiciones, donde las claves son las palabras y los valores son las definiciones. Los diccionarios se crean utilizando **llaves {}** y son muy eficientes para buscar valores asociados a una clave específica."
   ]
  },
  {
   "cell_type": "code",
   "execution_count": 61,
   "metadata": {
    "id": "emNOPk-cvEem"
   },
   "outputs": [],
   "source": [
    "persona_1 = {'nombre':'José', 'apellido':'Gonzáles', 'edad':35, 'email':'jgonzales@gmail.com' }"
   ]
  },
  {
   "cell_type": "markdown",
   "metadata": {
    "id": "X2NiMnzZvEen"
   },
   "source": [
    "Podemos acceder a la información que necesitamos a través de las llaves"
   ]
  },
  {
   "cell_type": "code",
   "execution_count": 62,
   "metadata": {
    "colab": {
     "base_uri": "https://localhost:8080/",
     "height": 35
    },
    "executionInfo": {
     "elapsed": 388,
     "status": "ok",
     "timestamp": 1709604988217,
     "user": {
      "displayName": "Laboratorio de Ciencias Sociales",
      "userId": "13319980455210928079"
     },
     "user_tz": 300
    },
    "id": "poQSxP8MvEen",
    "outputId": "448412b6-f1ba-4d00-d5b7-e6269cfd917f"
   },
   "outputs": [
    {
     "data": {
      "text/plain": [
       "'José'"
      ]
     },
     "execution_count": 62,
     "metadata": {},
     "output_type": "execute_result"
    }
   ],
   "source": [
    "persona_1['nombre']"
   ]
  },
  {
   "cell_type": "markdown",
   "metadata": {
    "id": "rNdvueHwvEeo"
   },
   "source": [
    "Puede haber más de un valor por cada llave"
   ]
  },
  {
   "cell_type": "code",
   "execution_count": 63,
   "metadata": {
    "id": "ag6lZwzevEeo"
   },
   "outputs": [],
   "source": [
    "personas = { 'nombres' :['José', 'Antonia', 'María'],\n",
    "             'apellido':['Gonzáles', 'Méndez', 'Rojas'],\n",
    "             'edad'    :[35, 35, 35],\n",
    "             'email'   :['jgonzales@gmail.com', 'amendez@gmail.com', 'mrojas@gmail.com'] }"
   ]
  },
  {
   "cell_type": "code",
   "execution_count": 64,
   "metadata": {
    "colab": {
     "base_uri": "https://localhost:8080/"
    },
    "executionInfo": {
     "elapsed": 301,
     "status": "ok",
     "timestamp": 1709605023293,
     "user": {
      "displayName": "Laboratorio de Ciencias Sociales",
      "userId": "13319980455210928079"
     },
     "user_tz": 300
    },
    "id": "KWZaywq5vEep",
    "outputId": "0edfff82-f734-4ef2-f905-bb14176501cf"
   },
   "outputs": [
    {
     "data": {
      "text/plain": [
       "[35, 35, 35]"
      ]
     },
     "execution_count": 64,
     "metadata": {},
     "output_type": "execute_result"
    }
   ],
   "source": [
    "personas['edad']"
   ]
  },
  {
   "cell_type": "markdown",
   "metadata": {
    "id": "a4P7wT-yvEep"
   },
   "source": [
    "Podemos añadir un nuevo par clave-valor"
   ]
  },
  {
   "cell_type": "code",
   "execution_count": 65,
   "metadata": {
    "colab": {
     "base_uri": "https://localhost:8080/"
    },
    "executionInfo": {
     "elapsed": 297,
     "status": "ok",
     "timestamp": 1709605060769,
     "user": {
      "displayName": "Laboratorio de Ciencias Sociales",
      "userId": "13319980455210928079"
     },
     "user_tz": 300
    },
    "id": "EyIFGihXvEeq",
    "outputId": "4e0e78b8-b412-4ea7-bd81-258a0b2defec"
   },
   "outputs": [
    {
     "data": {
      "text/plain": [
       "{'nombre': 'José',\n",
       " 'apellido': 'Gonzáles',\n",
       " 'edad': 35,\n",
       " 'email': 'jgonzales@gmail.com',\n",
       " 'Residencia': 'Lima'}"
      ]
     },
     "execution_count": 65,
     "metadata": {},
     "output_type": "execute_result"
    }
   ],
   "source": [
    "persona_1.update( { 'Residencia' :  'Lima' } )\n",
    "persona_1"
   ]
  },
  {
   "cell_type": "markdown",
   "metadata": {
    "id": "qqQ-XpaHvEeq"
   },
   "source": [
    "Es posible emparejar listas en pares clave-valor"
   ]
  },
  {
   "cell_type": "code",
   "execution_count": 66,
   "metadata": {
    "colab": {
     "base_uri": "https://localhost:8080/"
    },
    "executionInfo": {
     "elapsed": 4,
     "status": "ok",
     "timestamp": 1709605149350,
     "user": {
      "displayName": "Laboratorio de Ciencias Sociales",
      "userId": "13319980455210928079"
     },
     "user_tz": 300
    },
    "id": "3LnpVCl7vEer",
    "outputId": "e076f748-3d61-43bd-ec91-27bfe705d926"
   },
   "outputs": [
    {
     "data": {
      "text/plain": [
       "{'Fray Martin': 15001,\n",
       " 'Santa Rosa de Puquio': 15003,\n",
       " 'Cuchicorral': 15004,\n",
       " 'Santiago de Punchauca': 15006}"
      ]
     },
     "execution_count": 66,
     "metadata": {},
     "output_type": "execute_result"
    }
   ],
   "source": [
    "# Definir listas\n",
    "ciudades      = ['Fray Martin','Santa Rosa de Puquio','Cuchicorral','Santiago de Punchauca' ]\n",
    "codigo_postal = [15001,15003,15004,15006]\n",
    "\n",
    "# Emparejar las listas\n",
    "diccionario_1 = dict( zip( ciudades , codigo_postal ) )\n",
    "\n",
    "# Visualizar el resultado\n",
    "diccionario_1"
   ]
  },
  {
   "cell_type": "markdown",
   "metadata": {
    "id": "YYF_-vd5vEer"
   },
   "source": [
    "##  <a id='t6'>6. Control de flujo</a>"
   ]
  },
  {
   "cell_type": "markdown",
   "metadata": {
    "id": "losQKU3RvEes"
   },
   "source": [
    "Hasta ahora hemos elaborado scripts que se ejecutan de arriba hacia abajo y de izquierda a derecha; cuando se ejecuta el la última línea, el programa termina. Sin embargo, existen herramientas en Python que permiten alterar el flujo normal de un programa. El uso de estas herramientas es denominado control de flujo."
   ]
  },
  {
   "cell_type": "markdown",
   "metadata": {
    "id": "iZEwHR41vEes"
   },
   "source": [
    "### 6.1. <a id='6.1.'>Sentencias condicionales</a>"
   ]
  },
  {
   "cell_type": "markdown",
   "metadata": {
    "id": "smyGMZxwvEes"
   },
   "source": [
    "Este tipo de sentencias nos permiten alterar el flujo de un programa mediante el cumplimiento de una condición."
   ]
  },
  {
   "cell_type": "markdown",
   "metadata": {
    "id": "PzdX_t-VvEet"
   },
   "source": [
    "| Sentencia condicional    | Operacion realizada                                              |\n",
    "|--------------------------|------------------------------------------------------------------|\n",
    "| `if`                     | Se usa para ejecutar un bloque de código si una condición es verdadera                            |\n",
    "| `else`                   | Se usa en conjunto con if para ejecutar un bloque de código cuando la condición en el if es falsa |\n",
    "| `elif`                   | Se usa para verificar múltiples condiciones en orden y ejecutar el bloque de código de la primera condición verdadera                     |"
   ]
  },
  {
   "cell_type": "code",
   "execution_count": 67,
   "metadata": {
    "colab": {
     "base_uri": "https://localhost:8080/"
    },
    "executionInfo": {
     "elapsed": 3,
     "status": "ok",
     "timestamp": 1709605536637,
     "user": {
      "displayName": "Laboratorio de Ciencias Sociales",
      "userId": "13319980455210928079"
     },
     "user_tz": 300
    },
    "id": "36ZF1-DwvEet",
    "outputId": "d5785ad5-2456-4ae5-9748-a2d9cd5c2614"
   },
   "outputs": [
    {
     "name": "stdout",
     "output_type": "stream",
     "text": [
      "Hace calor, lleva protector solar.\n"
     ]
    }
   ],
   "source": [
    "# Ejemplo 1\n",
    "temperatura = 35\n",
    "\n",
    "if temperatura > 30:\n",
    "    print(\"Hace calor, lleva protector solar.\")"
   ]
  },
  {
   "cell_type": "code",
   "execution_count": 68,
   "metadata": {
    "colab": {
     "base_uri": "https://localhost:8080/"
    },
    "executionInfo": {
     "elapsed": 3,
     "status": "ok",
     "timestamp": 1709605566720,
     "user": {
      "displayName": "Laboratorio de Ciencias Sociales",
      "userId": "13319980455210928079"
     },
     "user_tz": 300
    },
    "id": "lsVGfrb4vEeu",
    "outputId": "49985c99-478b-4e5c-8b19-c519ab94fbd5"
   },
   "outputs": [
    {
     "name": "stdout",
     "output_type": "stream",
     "text": [
      "No hace calor, descuida.\n"
     ]
    }
   ],
   "source": [
    "# Ejemplo 2\n",
    "temperatura = 25\n",
    "\n",
    "if temperatura > 30:\n",
    "    print(\"Hace calor, lleva protector solar.\")\n",
    "else:\n",
    "    print(\"No hace calor, descuida.\")"
   ]
  },
  {
   "cell_type": "code",
   "execution_count": 69,
   "metadata": {
    "colab": {
     "base_uri": "https://localhost:8080/"
    },
    "executionInfo": {
     "elapsed": 425,
     "status": "ok",
     "timestamp": 1709605598698,
     "user": {
      "displayName": "Laboratorio de Ciencias Sociales",
      "userId": "13319980455210928079"
     },
     "user_tz": 300
    },
    "id": "3bDEqS0FvEeu",
    "outputId": "d651e4fd-b662-463d-8181-2e0c6a32a1fa"
   },
   "outputs": [
    {
     "name": "stdout",
     "output_type": "stream",
     "text": [
      "No hace calor, descuida\n"
     ]
    }
   ],
   "source": [
    "# Ejemplo 3\n",
    "temperatura = 25\n",
    "\n",
    "if temperatura > 30:\n",
    "    print(\"Hace calor, lleva protector solar.\")\n",
    "elif temperatura > 20:\n",
    "    print(\"No hace calor, descuida\")\n",
    "else:\n",
    "    print(\"Hace frío, lleva un abrigo\")"
   ]
  },
  {
   "cell_type": "code",
   "execution_count": 70,
   "metadata": {
    "colab": {
     "base_uri": "https://localhost:8080/"
    },
    "executionInfo": {
     "elapsed": 4,
     "status": "ok",
     "timestamp": 1709605791517,
     "user": {
      "displayName": "Laboratorio de Ciencias Sociales",
      "userId": "13319980455210928079"
     },
     "user_tz": 300
    },
    "id": "bCXXXYelccER",
    "outputId": "85e5289d-ad14-439f-f324-d69397033bce"
   },
   "outputs": [
    {
     "name": "stdout",
     "output_type": "stream",
     "text": [
      "Hace frío, lleva un abrigo\n"
     ]
    }
   ],
   "source": [
    "# Ejemplo 3\n",
    "temperatura = 25\n",
    "\n",
    "if temperatura > 30:\n",
    "    print(\"Hace calor, lleva protector solar.\")\n",
    "if temperatura > 40:\n",
    "    print(\"No hace calor, descuida\")\n",
    "else:\n",
    "    print(\"Hace frío, lleva un abrigo\")"
   ]
  },
  {
   "cell_type": "code",
   "execution_count": 71,
   "metadata": {
    "colab": {
     "base_uri": "https://localhost:8080/"
    },
    "executionInfo": {
     "elapsed": 300,
     "status": "ok",
     "timestamp": 1709605641124,
     "user": {
      "displayName": "Laboratorio de Ciencias Sociales",
      "userId": "13319980455210928079"
     },
     "user_tz": 300
    },
    "id": "00_EUsUdb2TW",
    "outputId": "206de25f-2ae4-401b-f16e-dc0f715e744f"
   },
   "outputs": [
    {
     "name": "stdout",
     "output_type": "stream",
     "text": [
      "Hace frío, lleva un abrigo\n"
     ]
    }
   ],
   "source": [
    "# Ejemplo 3\n",
    "temperatura = 25\n",
    "\n",
    "if temperatura > 40:\n",
    "    print(\"Hace calor, lleva protector solar.\")\n",
    "elif temperatura > 30:\n",
    "    print(\"No hace calor, descuida\")\n",
    "else:\n",
    "    print(\"Hace frío, lleva un abrigo\")"
   ]
  },
  {
   "cell_type": "markdown",
   "metadata": {
    "id": "cj8p380kvEev"
   },
   "source": [
    "### 6.2. <a id='6.2.'>Sentencias de bucle</a>"
   ]
  },
  {
   "cell_type": "markdown",
   "metadata": {
    "id": "8c8RCojPvEev"
   },
   "source": [
    "Se usan para repetir una acción una o más veces"
   ]
  },
  {
   "cell_type": "markdown",
   "metadata": {
    "id": "LpkyfaeLvEev"
   },
   "source": [
    "| Sentencia de bucle       | Operacion realizada                                              |\n",
    "|--------------------------|------------------------------------------------------------------|\n",
    "| `for`                     | Se utiliza para iterar sobre una secuencia (como una lista, tupla o cadena) o un rango de números y ejecutar un bloque de código para cada elemento en esa secuencia.                            |\n",
    "| `while`                   |  Se utiliza para repetir un bloque de código mientras una condición sea verdadera. El código se ejecuta una y otra vez hasta que la condición sea falsa. |"
   ]
  },
  {
   "cell_type": "code",
   "execution_count": 72,
   "metadata": {
    "colab": {
     "base_uri": "https://localhost:8080/"
    },
    "executionInfo": {
     "elapsed": 12,
     "status": "ok",
     "timestamp": 1709770757444,
     "user": {
      "displayName": "Laboratorio de Ciencias Sociales",
      "userId": "13319980455210928079"
     },
     "user_tz": 300
    },
    "id": "T8uklOG8vEew",
    "outputId": "c4c9df3f-50e3-4113-b9ea-57c9d9e32519"
   },
   "outputs": [
    {
     "name": "stdout",
     "output_type": "stream",
     "text": [
      "Su estatura es 1.65 metros\n",
      "Su estatura es 1.72 metros\n",
      "Su estatura es 1.71 metros\n",
      "Su estatura es 1.82 metros\n",
      "Su estatura es 1.68 metros\n",
      "Su estatura es 1.65 metros\n"
     ]
    }
   ],
   "source": [
    "# Ejemplo 1:\n",
    "lista_estaturas = [165, 172, 171, 182, 168, 165]\n",
    "\n",
    "for estatura in lista_estaturas:\n",
    "    estatura_metros = estatura/100\n",
    "    print(\"Su estatura es \" + str(estatura_metros) + \" metros\")"
   ]
  },
  {
   "cell_type": "code",
   "execution_count": 73,
   "metadata": {
    "colab": {
     "base_uri": "https://localhost:8080/"
    },
    "executionInfo": {
     "elapsed": 449,
     "status": "ok",
     "timestamp": 1709771328151,
     "user": {
      "displayName": "Laboratorio de Ciencias Sociales",
      "userId": "13319980455210928079"
     },
     "user_tz": 300
    },
    "id": "FPivjVfQTMzx",
    "outputId": "fd70ebdf-93c3-4b9e-d6d0-ae978230efea"
   },
   "outputs": [
    {
     "name": "stdout",
     "output_type": "stream",
     "text": [
      "el numero es 11\n",
      "el numero es 12\n",
      "el numero es 13\n",
      "el numero es 14\n",
      "el numero es 15\n",
      "el numero es 17\n",
      "el numero es 18\n",
      "el numero es 19\n",
      "el numero es 20\n"
     ]
    }
   ],
   "source": [
    "lista_numeros = [1, 2, 3, 4, 5, 7, 8, 9, 10]\n",
    "\n",
    "for n in lista_numeros:\n",
    "  suma = n + 10\n",
    "  print(\"el numero es \" + str(suma))"
   ]
  },
  {
   "cell_type": "code",
   "execution_count": 74,
   "metadata": {
    "colab": {
     "base_uri": "https://localhost:8080/"
    },
    "executionInfo": {
     "elapsed": 7552,
     "status": "ok",
     "timestamp": 1709771510309,
     "user": {
      "displayName": "Laboratorio de Ciencias Sociales",
      "userId": "13319980455210928079"
     },
     "user_tz": 300
    },
    "id": "kImWOP1vvEew",
    "outputId": "8bade09c-dfaa-40f9-86a2-48f2e14298e0"
   },
   "outputs": [
    {
     "name": "stdout",
     "output_type": "stream",
     "text": [
      "¡Te quedan 10 puntos de vida!\n",
      "¡Game over! Tu personaje ha sido derrotado.\n"
     ]
    }
   ],
   "source": [
    "vida_jugador = 10\n",
    "\n",
    "while vida_jugador > 0:\n",
    "    print(\"¡Te quedan\", vida_jugador, \"puntos de vida!\")\n",
    "    ataque_enemigo = int(input(\"Enemigo ataca. ¿Cuánto daño recibes? \"))\n",
    "    vida_jugador = vida_jugador - ataque_enemigo\n",
    "\n",
    "print(\"¡Game over! Tu personaje ha sido derrotado.\")"
   ]
  },
  {
   "cell_type": "code",
   "execution_count": 75,
   "metadata": {
    "colab": {
     "base_uri": "https://localhost:8080/"
    },
    "executionInfo": {
     "elapsed": 19706,
     "status": "ok",
     "timestamp": 1709773385030,
     "user": {
      "displayName": "Laboratorio de Ciencias Sociales",
      "userId": "13319980455210928079"
     },
     "user_tz": 300
    },
    "id": "M1DbK93za82N",
    "outputId": "5823f8e4-df9d-47a9-8f4c-56c208c9bc19"
   },
   "outputs": [
    {
     "name": "stdout",
     "output_type": "stream",
     "text": [
      "¡Te quedan 10.0 puntos de vida!\n",
      "¡Game over! Tu personaje ha sido derrotado.\n"
     ]
    }
   ],
   "source": [
    "vida_jugador = 10.0  #cambiar a float\n",
    "\n",
    "while vida_jugador > 0:\n",
    "    print(\"¡Te quedan\", vida_jugador, \"puntos de vida!\")\n",
    "\n",
    "    # cambiar input a float\n",
    "    ataque_enemigo = float(input(\"Enemigo ataca. ¿Cuánto daño recibes? \"))\n",
    "\n",
    "    vida_jugador = vida_jugador - ataque_enemigo\n",
    "\n",
    "print(\"¡Game over! Tu personaje ha sido derrotado.\")"
   ]
  },
  {
   "cell_type": "code",
   "execution_count": 76,
   "metadata": {
    "colab": {
     "base_uri": "https://localhost:8080/"
    },
    "executionInfo": {
     "elapsed": 673,
     "status": "ok",
     "timestamp": 1709771406113,
     "user": {
      "displayName": "Laboratorio de Ciencias Sociales",
      "userId": "13319980455210928079"
     },
     "user_tz": 300
    },
    "id": "MWwafxbxUN3L",
    "outputId": "47452da8-4d79-4cee-8510-a22a69dfae58"
   },
   "outputs": [
    {
     "data": {
      "text/plain": [
       "float"
      ]
     },
     "execution_count": 76,
     "metadata": {},
     "output_type": "execute_result"
    }
   ],
   "source": [
    "type(vida_jugador)"
   ]
  },
  {
   "cell_type": "markdown",
   "metadata": {
    "id": "-na7JnBEvEex"
   },
   "source": [
    "##  <a id='t7'>7. Funciones</a>"
   ]
  },
  {
   "cell_type": "markdown",
   "metadata": {
    "id": "C6Nz6a68vEex"
   },
   "source": [
    "Las funciones en Python son **bloques de código**  que realizan tareas específicas y pueden ser reutilizados en diferentes partes de un programa. Funcionan como \"máquinas\" que toman datos de entrada (llamados argumentos o parámetros), los procesan y devuelven un resultado. Aquí hay una explicación breve:"
   ]
  },
  {
   "cell_type": "code",
   "execution_count": 77,
   "metadata": {
    "id": "GoMRgw9nvEey"
   },
   "outputs": [],
   "source": [
    "def saludar(nombre):\n",
    "    mensaje = \"Hola, \" + nombre\n",
    "    return mensaje"
   ]
  },
  {
   "cell_type": "code",
   "execution_count": 78,
   "metadata": {
    "colab": {
     "base_uri": "https://localhost:8080/",
     "height": 35
    },
    "executionInfo": {
     "elapsed": 847,
     "status": "ok",
     "timestamp": 1709771761317,
     "user": {
      "displayName": "Laboratorio de Ciencias Sociales",
      "userId": "13319980455210928079"
     },
     "user_tz": 300
    },
    "id": "1kiqD-kMvEez",
    "outputId": "f66fa009-cc1c-4b1c-e37b-ba5067066208"
   },
   "outputs": [
    {
     "data": {
      "text/plain": [
       "'Hola, Lucero'"
      ]
     },
     "execution_count": 78,
     "metadata": {},
     "output_type": "execute_result"
    }
   ],
   "source": [
    "saludar(\"Lucero\")"
   ]
  },
  {
   "cell_type": "markdown",
   "metadata": {
    "id": "BsyRLOlAvEez"
   },
   "source": [
    "La estructura básica de una función es la siguiente:"
   ]
  },
  {
   "cell_type": "code",
   "execution_count": 79,
   "metadata": {
    "id": "0zgo1rITvEez"
   },
   "outputs": [],
   "source": [
    "def calcular_imc(peso, estatura):\n",
    "    '''\n",
    "    Objetivo:\n",
    "        - Calcular el IMC de una persona dado su peso y altura\n",
    "\n",
    "    Input:\n",
    "        - peso:     peso en kilogramos\n",
    "        - estatura: estatura en centrímetros\n",
    "\n",
    "    Output:\n",
    "        - IMC calculado\n",
    "    '''\n",
    "    estatura_cm = estatura/100\n",
    "    imc         = peso/(estatura_cm)**2\n",
    "    imc         = round(imc, 3)\n",
    "    return imc"
   ]
  },
  {
   "cell_type": "code",
   "execution_count": 80,
   "metadata": {
    "colab": {
     "base_uri": "https://localhost:8080/"
    },
    "executionInfo": {
     "elapsed": 432,
     "status": "ok",
     "timestamp": 1709771955599,
     "user": {
      "displayName": "Laboratorio de Ciencias Sociales",
      "userId": "13319980455210928079"
     },
     "user_tz": 300
    },
    "id": "hBIXn4jlvEe0",
    "outputId": "05962436-d142-474f-c6c4-0c3663a257b8"
   },
   "outputs": [
    {
     "data": {
      "text/plain": [
       "25.391"
      ]
     },
     "execution_count": 80,
     "metadata": {},
     "output_type": "execute_result"
    }
   ],
   "source": [
    "calcular_imc(65,160)"
   ]
  },
  {
   "cell_type": "markdown",
   "metadata": {
    "id": "p8feft2bvEe0"
   },
   "source": [
    "Un ejemplo adicional de función:"
   ]
  },
  {
   "cell_type": "code",
   "execution_count": 81,
   "metadata": {},
   "outputs": [],
   "source": [
    "def par_impar( n ):\n",
    "\n",
    "    '''\n",
    "    Objetivo:\n",
    "        - Determinar si un número es par o impar\n",
    "\n",
    "    Input:\n",
    "        - n: Número\n",
    "\n",
    "    Output:\n",
    "        - Se indica si el número es par o impar.\n",
    "    '''\n",
    "\n",
    "    if n%2 == 0:\n",
    "        output = f\"{n} es un número par\"\n",
    "    else:\n",
    "        output = f\"{n} es un número impar\"\n",
    "\n",
    "    return output"
   ]
  },
  {
   "cell_type": "code",
   "execution_count": 82,
   "metadata": {},
   "outputs": [
    {
     "data": {
      "text/plain": [
       "'18 es un número par'"
      ]
     },
     "execution_count": 82,
     "metadata": {},
     "output_type": "execute_result"
    }
   ],
   "source": [
    "par_impar(18)"
   ]
  },
  {
   "cell_type": "code",
   "execution_count": 83,
   "metadata": {},
   "outputs": [
    {
     "data": {
      "text/plain": [
       "'9 es un número impar'"
      ]
     },
     "execution_count": 83,
     "metadata": {},
     "output_type": "execute_result"
    }
   ],
   "source": [
    "par_impar(9)"
   ]
  },
  {
   "cell_type": "code",
   "execution_count": 84,
   "metadata": {},
   "outputs": [
    {
     "data": {
      "text/plain": [
       "'10005 es un número impar'"
      ]
     },
     "execution_count": 84,
     "metadata": {},
     "output_type": "execute_result"
    }
   ],
   "source": [
    "par_impar(10005)"
   ]
  },
  {
   "cell_type": "code",
   "execution_count": 85,
   "metadata": {
    "id": "ai8kd7LQvEe1"
   },
   "outputs": [],
   "source": [
    "def pobreza_hogares( n_personas, n_habitaciones, ingreso ):\n",
    "\n",
    "    '''\n",
    "    Objetivo:\n",
    "        - Determinar si un hogar es pobre\n",
    "\n",
    "    Input:\n",
    "        - n_personas:     número de personas que componen regularmente el hogar\n",
    "        - n_habitaciones: número de habitaciones del hogar\n",
    "        - ingreso:        ingreso monetario bruto mensual a nivel de hogar\n",
    "\n",
    "    Procedimiento:\n",
    "        - Se calcula el ratio de personas por habitación. Si este ratio es menor a 2.4,\n",
    "          se considera que existe hacinamiento en el hogar.\n",
    "        - Se calcula el ingreso per cápita mensual. Si el valor de este indicador es\n",
    "          mayor a 450, se considera que el ingreso es suficiente (no pobre).\n",
    "        - Si se cumplen las dos condiciones: no hacinamiento e ingreso suficiente,\n",
    "          el hogar se considera \"no pobre\". Todos los demás casos posibles sí\n",
    "          implican que el hogar es pobre.\n",
    "\n",
    "    Output:\n",
    "        - Un veredicto que determina si el hogar es pobre.\n",
    "    '''\n",
    "\n",
    "    ratio_habs         = n_personas / n_habitaciones\n",
    "    ingreso_pc         = ingreso    / n_personas\n",
    "    no_hacinamiento    = ratio_habs < 2.4\n",
    "    ingreso_suficiente = ingreso_pc > 450\n",
    "\n",
    "    no_pobre = no_hacinamiento and ingreso_suficiente\n",
    "\n",
    "    if no_pobre  == True:\n",
    "        veredicto = \"No es un hogar pobre\"\n",
    "    else:\n",
    "        veredicto = \"Sí es un hogar pobre\"\n",
    "\n",
    "    return veredicto"
   ]
  },
  {
   "cell_type": "code",
   "execution_count": 86,
   "metadata": {
    "colab": {
     "base_uri": "https://localhost:8080/",
     "height": 35
    },
    "executionInfo": {
     "elapsed": 7,
     "status": "ok",
     "timestamp": 1709772187291,
     "user": {
      "displayName": "Laboratorio de Ciencias Sociales",
      "userId": "13319980455210928079"
     },
     "user_tz": 300
    },
    "id": "MpthuVCJvEe1",
    "outputId": "7f61fda9-96aa-4da6-c65e-a92457e4cdf1"
   },
   "outputs": [
    {
     "data": {
      "text/plain": [
       "'Sí es un hogar pobre'"
      ]
     },
     "execution_count": 86,
     "metadata": {},
     "output_type": "execute_result"
    }
   ],
   "source": [
    "# Hogar 1\n",
    "\n",
    "n_personas_1     = 5\n",
    "n_habitaciones_1 = 3\n",
    "ingreso_1        = 1800\n",
    "\n",
    "pobreza_hogares(n_personas_1, n_habitaciones_1, ingreso_1)"
   ]
  },
  {
   "cell_type": "code",
   "execution_count": 87,
   "metadata": {
    "colab": {
     "base_uri": "https://localhost:8080/",
     "height": 35
    },
    "executionInfo": {
     "elapsed": 497,
     "status": "ok",
     "timestamp": 1709772238471,
     "user": {
      "displayName": "Laboratorio de Ciencias Sociales",
      "userId": "13319980455210928079"
     },
     "user_tz": 300
    },
    "id": "xaKQhV0fvEe1",
    "outputId": "d1404590-1fdb-449c-c2f4-bdb5e6e8e00b"
   },
   "outputs": [
    {
     "data": {
      "text/plain": [
       "'No es un hogar pobre'"
      ]
     },
     "execution_count": 87,
     "metadata": {},
     "output_type": "execute_result"
    }
   ],
   "source": [
    "# Hogar 2\n",
    "\n",
    "n_personas_2     = 3\n",
    "n_habitaciones_2 = 3\n",
    "ingreso_2        = 2500\n",
    "\n",
    "pobreza_hogares(n_personas_2, n_habitaciones_2, ingreso_2)"
   ]
  },
  {
   "cell_type": "code",
   "execution_count": 88,
   "metadata": {
    "colab": {
     "base_uri": "https://localhost:8080/",
     "height": 35
    },
    "executionInfo": {
     "elapsed": 441,
     "status": "ok",
     "timestamp": 1709772216553,
     "user": {
      "displayName": "Laboratorio de Ciencias Sociales",
      "userId": "13319980455210928079"
     },
     "user_tz": 300
    },
    "id": "DyCT1stR-2Jv",
    "outputId": "a6fbe3ba-0fb4-4792-d215-a338829405a1"
   },
   "outputs": [
    {
     "data": {
      "text/plain": [
       "'Sí es un hogar pobre'"
      ]
     },
     "execution_count": 88,
     "metadata": {},
     "output_type": "execute_result"
    }
   ],
   "source": [
    "# Hogar 3\n",
    "\n",
    "n_personas_3     = 10\n",
    "n_habitaciones_3 = 20\n",
    "ingreso_3        = 4000\n",
    "\n",
    "pobreza_hogares(n_personas_3, n_habitaciones_3, ingreso_3)"
   ]
  }
 ],
 "metadata": {
  "colab": {
   "provenance": []
  },
  "kernelspec": {
   "display_name": "Python 3 (ipykernel)",
   "language": "python",
   "name": "python3"
  },
  "language_info": {
   "codemirror_mode": {
    "name": "ipython",
    "version": 3
   },
   "file_extension": ".py",
   "mimetype": "text/x-python",
   "name": "python",
   "nbconvert_exporter": "python",
   "pygments_lexer": "ipython3",
   "version": "3.12.4"
  }
 },
 "nbformat": 4,
 "nbformat_minor": 4
}

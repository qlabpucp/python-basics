{
 "cells": [
  {
   "cell_type": "markdown",
   "id": "824abff4-f414-42e1-bb16-02159dc4867a",
   "metadata": {},
   "source": [
    "# **TALLER INTRODUCTORIO A PYTHON**\n",
    "\n",
    "# Sesión 5 - \"Introducción a la estadística en Python\" \n",
    "El taller aborda los fundamentos del manejo de estadísticas con Python. El objetivo es proporcionar al estudiante los conocimientos fundamentales para realizar las principales tareas estadísticas en Python. Los códigos en Python serán escritos y ejecutados en Jupyter Notebook. Se proporcionarán a los estudiantes las bases de datos necesarias para poder ejecutar los códigos.\n",
    "\n",
    "En la primera sesión, cubriremos estadísticas descriptivas, proporcionando herramientas para calcular medidas de tendencia central, dispersión y estadísticas resumidas. Luego, profundizaremos en cálculos de probabilidad y técnicas de muestreo, incluyendo tanto con reemplazo como sin reemplazo. Además, introduciremos distribuciones de probabilidad discreta y continua utilizando `scipy.stats`.\n",
    "\n",
    "#### Fecha: \n",
    "16 de agosto\n",
    "#### Duración: \n",
    "7:00pm - 9:00pm\n",
    "#### Instructor: \n",
    "Esteban Cabrera (esteban.cabrera@pucp.edu.pe)\n",
    "\n",
    "## **Tabla de Contenidos**\n",
    "- <a href='#t1'>11. Estadísticas Descriptivas en Python</a>\n",
    "     - <a href='#1.1.'>11.1 Medidas de tendencia central</a>\n",
    "        - <a href='#1.1.1'>Media</a>\n",
    "        - <a href='#1.1.2'>Media ponderada</a>\n",
    "        - <a href='#1.1.3'>Media armónica</a> \n",
    "        - <a href='#1.1.4'>Media geométrica</a>\n",
    "        - <a href='#1.1.5'>Mediana</a>\n",
    "        - <a href='#1.1.6'>Moda</a> \n",
    "     - <a href='#1.2.'>11.2 Medidas de dispersión</a>\n",
    "        - <a href='#1.2.1'>Varianza</a>\n",
    "        - <a href='#1.2.2'>Desviación estándar</a>\n",
    "        - <a href='#1.2.3'>Asimetría</a>\n",
    "        - <a href='#1.2.4'>Percentiles</a>\n",
    "     - <a href='#1.3.'>11.3 Resumen de estadísticas descriptivas</a>\n",
    "- <a href='#t2'>12. Probabilidades en Python</a>\n",
    "     - <a href='#2.1.'>12.1 Calcular probabilidades</a>\n",
    "     - <a href='#2.2.'>12.2 Muestreo</a>\n",
    "- <a href='#t3'>13. Distribuciones con scipy.stats</a>\n",
    "     - <a href='#3.1.'>13.1 Distribuciones de probabilidad discretas</a>\n",
    "         - <a href='#3.1.1'>Distribución empírica discreta</a> \n",
    "         - <a href='#3.1.2'>Distribución uniforme discreta</a>  \n",
    "     - <a href='#3.2.'>13.2 Distribuciones de probabilidad continuas</a>\n",
    "         - <a href='#3.2.1'>Distribución uniforme continua</a>\n",
    "         - <a href='#3.2.2'>Distribución binomial</a> \n",
    "         - <a href='#3.2.3'>Distribución normal</a>"
   ]
  },
  {
   "cell_type": "markdown",
   "id": "2e09d6da-1002-4619-a58f-234b12902f14",
   "metadata": {},
   "source": [
    "# <a id='t1'> 11. Estadísticas Descriptivas en Python</a>\n",
    "En este taller, nos embarcamos en un viaje al mundo de la estadística utilizando el versátil lenguaje de programación Python. La estadística desempeña un papel fundamental en la extracción de ideas significativas a partir de los datos, y Python proporciona una plataforma poderosa para realizar análisis estadísticos de manera eficiente. Prepárate para explorar los fundamentos del análisis estadístico, aprender bibliotecas esenciales de Python y adquirir las habilidades para tomar decisiones informadas basadas en datos. Para este curso, principalmente utilizaremos las bibliotecas numpy y pandas."
   ]
  },
  {
   "cell_type": "markdown",
   "id": "3695043f-88a5-45a3-977e-573082be3f9a",
   "metadata": {},
   "source": [
    "## <a id='1.1.'> 11.1 Medidas de tendencia central </a>\n",
    "En esta sección, nos adentramos en el concepto fundamental de las \"Medidas de Tendencia Central\". En el corazón del análisis estadístico, estas medidas proporcionan un resumen del valor central o promedio dentro de un conjunto de datos, ofreciendo información crucial sobre sus tendencias centrales. Exploraremos tres medidas principales: la **media**, que representa el promedio aritmético; la **mediana**, que identifica el valor central; y la **moda**, que representa el valor más frecuente. Primero utilizaremos **arrays de numpy** para aplicar estas funciones. Luego, utilizaremos una base de datos que contiene datos macroeconómicos de Perú."
   ]
  },
  {
   "cell_type": "code",
   "execution_count": 1,
   "id": "33cba7df-5c09-49e5-95c7-94ddc41340b5",
   "metadata": {
    "tags": []
   },
   "outputs": [],
   "source": [
    ">>> import math\n",
    ">>> import statistics\n",
    ">>> import numpy as np\n",
    ">>> from scipy import stats\n",
    ">>> import scipy\n",
    ">>> import pandas as pd\n",
    ">>> import matplotlib.pyplot as plt"
   ]
  },
  {
   "cell_type": "code",
   "execution_count": 2,
   "id": "c9a3365e-ac10-4577-9ca7-589dcfd4e1ce",
   "metadata": {
    "tags": []
   },
   "outputs": [],
   "source": [
    "# We create an list and the same list with a nan value\n",
    ">>> x = [8.0, 1, 2.5, 4, 28.0]\n",
    ">>> x_nan = [8.0, 1, 2.5, math.nan, 4, 28.0]"
   ]
  },
  {
   "cell_type": "code",
   "execution_count": 3,
   "id": "5c517a1a-706f-4f0a-a556-574895841950",
   "metadata": {
    "tags": []
   },
   "outputs": [],
   "source": [
    "# Alternatively\n",
    ">>> x_nan = [8.0, 1, 2.5, np.nan, 4, 28.0]"
   ]
  },
  {
   "cell_type": "code",
   "execution_count": 4,
   "id": "a97b91b2-32bc-495c-9c04-42cd404b30c9",
   "metadata": {
    "tags": []
   },
   "outputs": [],
   "source": [
    "# We create their array and series versions\n",
    ">>> y, y_nan = np.array(x), np.array(x_nan)\n",
    ">>> z, z_nan = pd.Series(x), pd.Series(x_nan)"
   ]
  },
  {
   "cell_type": "markdown",
   "id": "5db497dd-8bd7-4992-833d-dac0f494bcdc",
   "metadata": {},
   "source": [
    "### <a id='1.1.1'> Media </a>\n",
    "Podemos calcular la media dividiendo la suma entre la longitud. Esto no funciona si incluimos el valor NaN. Las funciones ```mean()``` y ```fmean()``` retornan el mismo valor de una manera más elegante. ```fmean()``` siempre devuelve un número flotante y es más rápido que ```mean()```."
   ]
  },
  {
   "cell_type": "code",
   "execution_count": 5,
   "id": "f1d56f7b-2a34-4c93-b104-03e403f1157d",
   "metadata": {
    "tags": []
   },
   "outputs": [
    {
     "name": "stdout",
     "output_type": "stream",
     "text": [
      "8.7\n"
     ]
    }
   ],
   "source": [
    "# We can calculate the mean dividing the sum againts the length\n",
    "mean = sum(x) / len(x)\n",
    "print(mean)"
   ]
  },
  {
   "cell_type": "code",
   "execution_count": 6,
   "id": "a6d5cc8f-7241-4db5-9d2e-e67ad69550fc",
   "metadata": {
    "tags": []
   },
   "outputs": [
    {
     "name": "stdout",
     "output_type": "stream",
     "text": [
      "nan\n"
     ]
    }
   ],
   "source": [
    "# This does not work if we include the nan value\n",
    "mean = sum(x_nan) / len(x_nan)\n",
    "print(mean)"
   ]
  },
  {
   "cell_type": "code",
   "execution_count": 7,
   "id": "31a0f97e-1a0c-4cc5-9f1d-a0ca758c8196",
   "metadata": {
    "tags": []
   },
   "outputs": [
    {
     "name": "stdout",
     "output_type": "stream",
     "text": [
      "8.7\n",
      "8.7\n"
     ]
    }
   ],
   "source": [
    "# We can apply Python built-in functions of the statistics package\n",
    "mean = statistics.mean(x)\n",
    "print(mean)\n",
    "mean = statistics.fmean(x)\n",
    "print(mean)"
   ]
  },
  {
   "cell_type": "code",
   "execution_count": 8,
   "id": "ed9213c6-c8bc-40d7-b9bc-77ebc24ea1ff",
   "metadata": {
    "tags": []
   },
   "outputs": [
    {
     "name": "stdout",
     "output_type": "stream",
     "text": [
      "nan\n",
      "nan\n"
     ]
    }
   ],
   "source": [
    "# But they do not work wit nan values\n",
    "mean = statistics.mean(x_nan)\n",
    "print(mean)\n",
    "mean = statistics.fmean(x_nan)\n",
    "print(mean)"
   ]
  },
  {
   "cell_type": "markdown",
   "id": "1301135e-63bd-478d-9df9-140bb2d5bfdd",
   "metadata": {},
   "source": [
    "Numpy también nos ofrece las funciones ```np.mean()``` y ```np.nanmean()```, así como el método ```.mean()```.\n"
   ]
  },
  {
   "cell_type": "code",
   "execution_count": 9,
   "id": "12e9f90d-ab9f-44f3-aeeb-d321cc52f329",
   "metadata": {
    "tags": []
   },
   "outputs": [
    {
     "name": "stdout",
     "output_type": "stream",
     "text": [
      "8.7\n",
      "nan\n"
     ]
    }
   ],
   "source": [
    "# We can also use the numpy function on lists\n",
    "mean = np.mean(x)\n",
    "print(mean)\n",
    "mean = np.mean(x_nan)\n",
    "print(mean)"
   ]
  },
  {
   "cell_type": "code",
   "execution_count": 10,
   "id": "e23dd3f8-266a-4d4b-a729-96cae83cefee",
   "metadata": {
    "tags": []
   },
   "outputs": [
    {
     "name": "stdout",
     "output_type": "stream",
     "text": [
      "8.7\n",
      "nan\n"
     ]
    }
   ],
   "source": [
    "# We can also use numpy method on arrays\n",
    "mean = y.mean()\n",
    "print(mean)\n",
    "mean = y_nan.mean()\n",
    "print(mean)"
   ]
  },
  {
   "cell_type": "code",
   "execution_count": 11,
   "id": "0d65da40-ec03-4c8a-97b9-6849474750b8",
   "metadata": {
    "tags": []
   },
   "outputs": [
    {
     "name": "stdout",
     "output_type": "stream",
     "text": [
      "8.7\n",
      "8.7\n"
     ]
    }
   ],
   "source": [
    "# We can also use numpy method on series. The pandas method authomatically ignores nan values\n",
    "mean = z.mean()\n",
    "print(mean)\n",
    "mean = z_nan.mean()\n",
    "print(mean)"
   ]
  },
  {
   "cell_type": "code",
   "execution_count": 12,
   "id": "dfdbf0cc-a702-4b11-aaf0-46fa4967e0a3",
   "metadata": {
    "tags": []
   },
   "outputs": [
    {
     "name": "stdout",
     "output_type": "stream",
     "text": [
      "8.7\n",
      "8.7\n"
     ]
    }
   ],
   "source": [
    "# We can do the same for lists and arrays for nanmean()\n",
    "print(np.nanmean(y_nan))\n",
    "print(np.nanmean(x_nan))"
   ]
  },
  {
   "cell_type": "markdown",
   "id": "bf690e96-d965-4fa1-983c-7105c0d35aa1",
   "metadata": {},
   "source": [
    "### <a id='1.1.2'> Media ponderada </a>\n",
    "La media ponderada, o promedio ponderado, es una extensión de la media regular en estadística. Nos permite asignar diferentes pesos a los puntos de datos individuales, indicando su impacto variable en el resultado general. Puedes calcular la media ponderada con funciones integradas de Python combinando ```sum()``` con ```range()``` o ```zip()```."
   ]
  },
  {
   "cell_type": "code",
   "execution_count": 13,
   "id": "735eb057-6f82-48ac-8c3d-6903522bea71",
   "metadata": {
    "tags": []
   },
   "outputs": [
    {
     "name": "stdout",
     "output_type": "stream",
     "text": [
      "6.95\n"
     ]
    }
   ],
   "source": [
    "# We define the values and their weights\n",
    ">>> x = [8.0, 1, 2.5, 4, 28.0]\n",
    ">>> w = [0.1, 0.2, 0.3, 0.25, 0.15]\n",
    "# We calculate the weighted mean\n",
    "wmean = sum(w[i] * x[i] for i in range(len(x))) / sum(w)\n",
    "print(wmean)"
   ]
  },
  {
   "cell_type": "code",
   "execution_count": 14,
   "id": "2523c576-3e7c-48eb-b85c-a3d0f05a25e6",
   "metadata": {
    "tags": []
   },
   "outputs": [
    {
     "name": "stdout",
     "output_type": "stream",
     "text": [
      "6.95\n"
     ]
    }
   ],
   "source": [
    "# Alternatively\n",
    "wmean = sum(x_ * w_ for (x_, w_) in zip(x, w)) / sum(w)\n",
    "print(wmean)"
   ]
  },
  {
   "cell_type": "markdown",
   "id": "9f24e2b5-1f39-4e88-9f1b-c32b648778a7",
   "metadata": {},
   "source": [
    "También puedes usar ```np.average()``` para obtener la media ponderada de arrays de NumPy o Series de pandas."
   ]
  },
  {
   "cell_type": "code",
   "execution_count": 15,
   "id": "3da407ed-42cd-4f04-a758-70d7cc866b41",
   "metadata": {
    "tags": []
   },
   "outputs": [
    {
     "name": "stdout",
     "output_type": "stream",
     "text": [
      "6.95\n"
     ]
    }
   ],
   "source": [
    "# We calculate the weighted mean of an array\n",
    "wmean = np.average(y, weights=w)\n",
    "print(wmean)"
   ]
  },
  {
   "cell_type": "code",
   "execution_count": 16,
   "id": "015b8065-bd16-4b39-8530-8c53d5428728",
   "metadata": {
    "tags": []
   },
   "outputs": [
    {
     "name": "stdout",
     "output_type": "stream",
     "text": [
      "6.95\n"
     ]
    }
   ],
   "source": [
    "# We calculate the weighted mean of a pandas series\n",
    "wmean = np.average(z, weights=w)\n",
    "print(wmean)"
   ]
  },
  {
   "cell_type": "markdown",
   "id": "aee2ce6c-5552-4ab2-9ede-d423118e4907",
   "metadata": {},
   "source": [
    "Un enfoque alternativo implica utilizar el producto elemento a elemento de w * y y luego aplicar ```np.sum()``` o ```.sum()``` de esta forma ```(w * y).sum() / w.sum().```"
   ]
  },
  {
   "cell_type": "code",
   "execution_count": 17,
   "id": "2d58eb60-b36a-4956-a7f8-a49010d5354e",
   "metadata": {
    "tags": []
   },
   "outputs": [
    {
     "data": {
      "text/plain": [
       "np.float64(6.95)"
      ]
     },
     "execution_count": 17,
     "metadata": {},
     "output_type": "execute_result"
    }
   ],
   "source": [
    "w = np.array(w)\n",
    "(w * y).sum() / w.sum()"
   ]
  },
  {
   "cell_type": "markdown",
   "id": "c9492251-5838-4e17-ba74-3210685683ff",
   "metadata": {},
   "source": [
    "Esto no funciona cuando los datos contienen valores NaN.\n"
   ]
  },
  {
   "cell_type": "code",
   "execution_count": 18,
   "id": "0255c9aa-17bd-4422-a819-d3551b35d328",
   "metadata": {
    "tags": []
   },
   "outputs": [
    {
     "name": "stdout",
     "output_type": "stream",
     "text": [
      "nan\n",
      "nan\n"
     ]
    }
   ],
   "source": [
    "w = np.array([0.1, 0.2, 0.3, 0.0, 0.2, 0.1])\n",
    "wmean = np.average(y_nan, weights=w)\n",
    "print(wmean)\n",
    "wmean = np.average(z_nan, weights=w)\n",
    "print(wmean)"
   ]
  },
  {
   "cell_type": "markdown",
   "id": "d94ba9be-7082-4e2a-9ca2-1e4e8f144af5",
   "metadata": {},
   "source": [
    "### <a id='1.1.3'> Media Armónica </a>\n",
    "La media armónica, a diferencia de la media ponderada, resalta la importancia de los valores más pequeños en un conjunto de datos. La media armónica tiene en cuenta los valores recíprocos, lo que la hace especialmente útil en escenarios donde las tasas o relaciones juegan un papel crucial. Su fórmula se expresa como\n",
    "$$\n",
    "\\frac{n}{\\sum_i \\left(\\frac{1}{x_i}\\right)}, \\text{donde } i = 1, 2, ..., n\n",
    "$$\n",
    "\n",
    "En Python, puedes calcular fácilmente la media armónica utilizando funciones como ```scipy.stats.hmean()``` o ```statistics.harmonic_mean(x)```."
   ]
  },
  {
   "cell_type": "code",
   "execution_count": 19,
   "id": "733699d8-68f7-4afd-8ba6-b9b982897746",
   "metadata": {
    "tags": []
   },
   "outputs": [
    {
     "name": "stdout",
     "output_type": "stream",
     "text": [
      "2.7613412228796843\n"
     ]
    }
   ],
   "source": [
    "x = [8.0, 1, 2.5, 4, 28.0]\n",
    "hmean = len(x) / sum(1 / item for item in x)\n",
    "print(hmean)"
   ]
  },
  {
   "cell_type": "code",
   "execution_count": 20,
   "id": "3dfff181-0737-404a-b822-f41755971c7b",
   "metadata": {
    "tags": []
   },
   "outputs": [
    {
     "name": "stdout",
     "output_type": "stream",
     "text": [
      "2.7613412228796843\n"
     ]
    }
   ],
   "source": [
    "# We can use scipy\n",
    "hmean = stats.hmean(x)\n",
    "print(hmean)"
   ]
  },
  {
   "cell_type": "code",
   "execution_count": 21,
   "id": "cc9c68d3-3218-4e2b-acad-5139d23460a8",
   "metadata": {
    "tags": []
   },
   "outputs": [
    {
     "name": "stdout",
     "output_type": "stream",
     "text": [
      "2.7613412228796843\n"
     ]
    }
   ],
   "source": [
    "# Or we can use the built-in statistics package\n",
    "hmean = statistics.harmonic_mean(x)\n",
    "print(hmean)"
   ]
  },
  {
   "cell_type": "code",
   "execution_count": 22,
   "id": "934eb5d1-26ce-4601-9fa1-379c40666ae6",
   "metadata": {
    "tags": []
   },
   "outputs": [
    {
     "data": {
      "text/plain": [
       "nan"
      ]
     },
     "execution_count": 22,
     "metadata": {},
     "output_type": "execute_result"
    }
   ],
   "source": [
    "# If there is a nan value it returns nan\n",
    "statistics.harmonic_mean(x_nan)"
   ]
  },
  {
   "cell_type": "code",
   "execution_count": 23,
   "id": "151bd96a-a52a-4e04-a705-a6c22ef171f8",
   "metadata": {
    "tags": []
   },
   "outputs": [
    {
     "data": {
      "text/plain": [
       "0"
      ]
     },
     "execution_count": 23,
     "metadata": {},
     "output_type": "execute_result"
    }
   ],
   "source": [
    "# If there is a 0 it returns 0\n",
    "statistics.harmonic_mean([1, 0, 2])"
   ]
  },
  {
   "cell_type": "code",
   "execution_count": 24,
   "id": "7c24db2e-3949-4062-9171-70390e6cc084",
   "metadata": {
    "tags": []
   },
   "outputs": [],
   "source": [
    "# If there a negative number, it returns an error\n",
    "#statistics.harmonic_mean([1, 2, -2]) "
   ]
  },
  {
   "cell_type": "code",
   "execution_count": 25,
   "id": "7a6a294f-7a7e-491e-9b4e-d0d6cd277a68",
   "metadata": {
    "tags": []
   },
   "outputs": [
    {
     "name": "stdout",
     "output_type": "stream",
     "text": [
      "2.7613412228796843\n",
      "2.7613412228796843\n"
     ]
    }
   ],
   "source": [
    "# We can apply it to arrays and pandas series\n",
    "print(stats.hmean(y))\n",
    "print(stats.hmean(z))"
   ]
  },
  {
   "cell_type": "markdown",
   "id": "421e3b6b-64d5-4d67-94d3-1d72336e10fc",
   "metadata": {},
   "source": [
    "### <a id='1.1.4'> Media Geométrica </a>\n",
    "La media geométrica se expresa matemáticamente como la raíz n-ésima del producto de todos los n elementos \\( x_i \\) en un conjunto de datos \\( x \\):\n",
    "\n",
    "$$ \\sqrt[n]{\\prod_{i=1}^{n} x_i}, \\text{donde } (i = 1, 2, \\ldots, n) $$"
   ]
  },
  {
   "cell_type": "markdown",
   "id": "bc132612-92c1-4a5e-90c6-b4aafe056bda",
   "metadata": {},
   "source": [
    "Puedes incorporar la media geométrica usando Python puro de la siguiente manera"
   ]
  },
  {
   "cell_type": "code",
   "execution_count": 26,
   "id": "97f2b7d4-acfa-40c5-84f4-2b8f531413d2",
   "metadata": {
    "tags": []
   },
   "outputs": [
    {
     "name": "stdout",
     "output_type": "stream",
     "text": [
      "4.677885674856041\n"
     ]
    }
   ],
   "source": [
    "gmean = 1\n",
    "for item in x:\n",
    "     gmean *= item\n",
    "\n",
    "gmean **= 1 / len(x)\n",
    "print(gmean)"
   ]
  },
  {
   "cell_type": "markdown",
   "id": "2af5294e-b42c-472d-923f-6f2a8af6c841",
   "metadata": {
    "tags": []
   },
   "source": [
    "Además, podemos usar ```statistics.geometric_mean()```"
   ]
  },
  {
   "cell_type": "code",
   "execution_count": 27,
   "id": "9a8f7b2c-f2b6-434a-979f-1984e443a61e",
   "metadata": {
    "tags": []
   },
   "outputs": [
    {
     "data": {
      "text/plain": [
       "4.67788567485604"
      ]
     },
     "execution_count": 27,
     "metadata": {},
     "output_type": "execute_result"
    }
   ],
   "source": [
    "# We can also use the statistics built-in function\n",
    "gmean = statistics.geometric_mean(x)\n",
    "gmean"
   ]
  },
  {
   "cell_type": "code",
   "execution_count": 28,
   "id": "08063753-7737-4240-8ca3-17f70af5b3c7",
   "metadata": {
    "tags": []
   },
   "outputs": [
    {
     "data": {
      "text/plain": [
       "nan"
      ]
     },
     "execution_count": 28,
     "metadata": {},
     "output_type": "execute_result"
    }
   ],
   "source": [
    "# Doesn't work with nan values\n",
    "gmean = statistics.geometric_mean(x_nan)\n",
    "gmean"
   ]
  },
  {
   "cell_type": "markdown",
   "id": "b563a5b7-d4ea-44b5-93f0-29725fade2c8",
   "metadata": {},
   "source": [
    "También puedes obtener la media geométrica usando ```scipy.stats.gmean()``` en arrays y series de pandas."
   ]
  },
  {
   "cell_type": "code",
   "execution_count": 29,
   "id": "78f616ad-f290-49fb-aa10-50aec6c9f7c1",
   "metadata": {},
   "outputs": [
    {
     "name": "stdout",
     "output_type": "stream",
     "text": [
      "4.67788567485604\n",
      "nan\n"
     ]
    }
   ],
   "source": [
    "print(stats.gmean(y))\n",
    "\n",
    "print(stats.gmean(y_nan))"
   ]
  },
  {
   "cell_type": "code",
   "execution_count": 30,
   "id": "f8bdd852-d018-456a-946e-9347a9d107fc",
   "metadata": {
    "tags": []
   },
   "outputs": [
    {
     "name": "stdout",
     "output_type": "stream",
     "text": [
      "4.67788567485604\n",
      "nan\n"
     ]
    }
   ],
   "source": [
    "print(stats.gmean(z))\n",
    "\n",
    "print(stats.gmean(z_nan))"
   ]
  },
  {
   "cell_type": "markdown",
   "id": "31f8d07b-0f0b-4014-8358-4db84811cba0",
   "metadata": {},
   "source": [
    "### <a id='1.1.5'> Mediana </a>\n",
    "La mediana de una muestra corresponde al elemento central del conjunto de datos ordenado, sin importar si la ordenación se realiza en orden ascendente o descendente. Para un número impar de elementos $((n))$, la mediana es el valor en la posición central, específicamente en $0.5((n + 1))$. En el caso de un número par de elementos, la mediana se determina tomando el promedio de los dos valores centrales ubicados en las posiciones $0.5(n)$ y $0.5(n + 1)$."
   ]
  },
  {
   "cell_type": "code",
   "execution_count": 31,
   "id": "a0fa063c-24e0-4c2b-8126-242e78e12024",
   "metadata": {
    "tags": []
   },
   "outputs": [],
   "source": [
    "x = [8.0, 1, 2.5, 4, 28.0]\n",
    "x_nan = [8.0, 1, 2.5, math.nan, 4, 28.0]\n",
    "y, y_nan = np.array(x), np.array(x_nan)\n",
    "z, z_nan = pd.Series(x), pd.Series(x_nan)"
   ]
  },
  {
   "cell_type": "markdown",
   "id": "d4384a59-8121-4ca0-bd98-d827d43587f2",
   "metadata": {},
   "source": [
    "Esta función ```calculate_median()``` toma un conjunto de datos como entrada, lo ordena y calcula la mediana, considerando conjuntos de datos de longitud impar y par."
   ]
  },
  {
   "cell_type": "code",
   "execution_count": 32,
   "id": "7823f8c9-5e04-4d9a-93b3-aefb501f600e",
   "metadata": {
    "tags": []
   },
   "outputs": [
    {
     "name": "stdout",
     "output_type": "stream",
     "text": [
      "Median: 4\n"
     ]
    }
   ],
   "source": [
    "def calculate_median(data):\n",
    "    n = len(data)\n",
    "    sorted_data = sorted(data)\n",
    "\n",
    "    if n % 2:\n",
    "        median_value = sorted_data[round(0.5 * (n - 1))]\n",
    "    else:\n",
    "        index = round(0.5 * n)\n",
    "        median_value = 0.5 * (sorted_data[index - 1] + sorted_data[index])\n",
    "\n",
    "    return median_value\n",
    "\n",
    "median_ = calculate_median(x)\n",
    "print(\"Median:\", median_)"
   ]
  },
  {
   "cell_type": "markdown",
   "id": "35e82863-c839-4092-8f77-d2aedb1f9b0d",
   "metadata": {},
   "source": [
    "También podemos usar la función ```statistics.median()```. La forma ordenada de x, [1, 2.5, 4, 8.0, 28.0], coloca a 4 en la posición central. Al eliminar el último elemento (28.0) de x, la versión ordenada se convierte en [1, 2.5, 4, 8.0]. En este caso, con dos elementos centrales, 2.5 y 4, su promedio es 3.25."
   ]
  },
  {
   "cell_type": "code",
   "execution_count": 33,
   "id": "110a6cab-f016-4d04-92e6-f80c0333ad54",
   "metadata": {
    "tags": []
   },
   "outputs": [
    {
     "data": {
      "text/plain": [
       "4"
      ]
     },
     "execution_count": 33,
     "metadata": {},
     "output_type": "execute_result"
    }
   ],
   "source": [
    "median_ = statistics.median(x)\n",
    "median_"
   ]
  },
  {
   "cell_type": "code",
   "execution_count": 34,
   "id": "efade28f-f035-4109-a067-42e62f91575c",
   "metadata": {
    "tags": []
   },
   "outputs": [
    {
     "data": {
      "text/plain": [
       "3.25"
      ]
     },
     "execution_count": 34,
     "metadata": {},
     "output_type": "execute_result"
    }
   ],
   "source": [
    "median_ = statistics.median(x[:-1])\n",
    "median_"
   ]
  },
  {
   "cell_type": "markdown",
   "id": "39b788b4-bfd0-4a3d-853f-d4d0e7d89c25",
   "metadata": {},
   "source": [
    "Además, podemos usar ```statistics.median_low()``` y ```statistics.median_high()```. Cuando el número de elementos es impar, estas funciones operan de manera similar a ```median()```, ya que hay un valor central único. Sin embargo, si el conteo es par, ```median_low()``` devuelve el valor central más bajo, mientras que ```median_high()``` proporciona el valor central más alto."
   ]
  },
  {
   "cell_type": "code",
   "execution_count": 35,
   "id": "72565711-e5ab-4d59-b725-8a7b82ef7e4c",
   "metadata": {
    "tags": []
   },
   "outputs": [
    {
     "data": {
      "text/plain": [
       "2.5"
      ]
     },
     "execution_count": 35,
     "metadata": {},
     "output_type": "execute_result"
    }
   ],
   "source": [
    "# median_low will return 2.5\n",
    "median_ = statistics.median_low(x[:-1])\n",
    "median_"
   ]
  },
  {
   "cell_type": "code",
   "execution_count": 36,
   "id": "ea5fcb7a-cb32-4e87-9a55-7557a0caaf45",
   "metadata": {
    "tags": []
   },
   "outputs": [
    {
     "data": {
      "text/plain": [
       "4"
      ]
     },
     "execution_count": 36,
     "metadata": {},
     "output_type": "execute_result"
    }
   ],
   "source": [
    "# median_high will return 4\n",
    "median_ = statistics.median_high(x[:-1])\n",
    "median_"
   ]
  },
  {
   "cell_type": "markdown",
   "id": "954eb729-df96-4048-94dd-081abb7eec33",
   "metadata": {},
   "source": [
    "Estas funciones funcionan bien con NaN, a diferencia de la mayoría de otras funciones."
   ]
  },
  {
   "cell_type": "code",
   "execution_count": 37,
   "id": "e03afc75-300c-4510-a348-202ed38e3d76",
   "metadata": {
    "tags": []
   },
   "outputs": [
    {
     "name": "stdout",
     "output_type": "stream",
     "text": [
      "6.0\n",
      "4\n",
      "8.0\n"
     ]
    }
   ],
   "source": [
    "print(statistics.median(x_nan))\n",
    "print(statistics.median_low(x_nan))\n",
    "print(statistics.median_high(x_nan))"
   ]
  },
  {
   "cell_type": "markdown",
   "id": "5ec47b08-5810-48a4-90c8-801286fd52b9",
   "metadata": {},
   "source": [
    "Podemos usar Numpy de manera similar con ```np.median()```, obteniendo los mismos resultados para listas, arrays y Series."
   ]
  },
  {
   "cell_type": "code",
   "execution_count": 38,
   "id": "1472607a-9731-46ba-b149-d55282da0816",
   "metadata": {
    "tags": []
   },
   "outputs": [
    {
     "name": "stdout",
     "output_type": "stream",
     "text": [
      "4.0\n",
      "3.25\n"
     ]
    }
   ],
   "source": [
    "median_ = np.median(y)\n",
    "print(median_)\n",
    "\n",
    "median_ = np.median(z[:-1])\n",
    "print(median_)"
   ]
  },
  {
   "cell_type": "markdown",
   "id": "a0dcc15a-f970-4ca6-a604-127b6f9ddb04",
   "metadata": {
    "tags": []
   },
   "source": [
    "En caso de que queramos incluir valores NaN, entonces utilizamos ```np.nanmedian()```.\n"
   ]
  },
  {
   "cell_type": "code",
   "execution_count": 39,
   "id": "5b299fda-cc71-4064-9caa-2a7fd23e3da5",
   "metadata": {
    "tags": []
   },
   "outputs": [
    {
     "name": "stdout",
     "output_type": "stream",
     "text": [
      "4.0\n",
      "3.25\n"
     ]
    }
   ],
   "source": [
    "median_ = np.nanmedian(y_nan)\n",
    "print(median_)\n",
    "\n",
    "median_ = np.nanmedian(z_nan[:-1])\n",
    "print(median_)"
   ]
  },
  {
   "cell_type": "markdown",
   "id": "56929dee-37a7-4aab-92cd-d77c948a6e08",
   "metadata": {},
   "source": [
    "Finalmente, tenemos el método de pandas Series ```.median()``` que ignora los valores NaN de manera predeterminada."
   ]
  },
  {
   "cell_type": "code",
   "execution_count": 40,
   "id": "310160cd-2b9f-4756-b919-adddd99d51c5",
   "metadata": {
    "tags": []
   },
   "outputs": [
    {
     "name": "stdout",
     "output_type": "stream",
     "text": [
      "4.0\n",
      "4.0\n"
     ]
    }
   ],
   "source": [
    "print(z.median())\n",
    "print(z_nan.median())"
   ]
  },
  {
   "cell_type": "markdown",
   "id": "5810693c-9727-40ae-9d63-b3c550d8549a",
   "metadata": {},
   "source": [
    "### <a id='1.1.6'> Moda </a>  \n",
    "La moda en una muestra se refiere al valor que aparece con mayor frecuencia en el conjunto de datos. Si no hay un valor único con la frecuencia más alta, el conjunto de datos se considera multimodal, ya que contiene múltiples valores modales. Podemos obtener fácilmente la moda de esta manera:"
   ]
  },
  {
   "cell_type": "code",
   "execution_count": 41,
   "id": "d740f7da-7c8d-4e58-870c-44aa625dcda2",
   "metadata": {
    "tags": []
   },
   "outputs": [
    {
     "data": {
      "text/plain": [
       "6"
      ]
     },
     "execution_count": 41,
     "metadata": {},
     "output_type": "execute_result"
    }
   ],
   "source": [
    "u = [6, 3, 6, 9, 12, 9, 6]\n",
    "mode_ = max((u.count(item), item) for item in set(u))[1]\n",
    "mode_"
   ]
  },
  {
   "cell_type": "markdown",
   "id": "b8a4a992-2781-4e46-a52d-6f14fc5c1df8",
   "metadata": {},
   "source": [
    "También podemos obtener la moda con ```statistics.mode()``` y ```statistics.multimode()```."
   ]
  },
  {
   "cell_type": "code",
   "execution_count": 42,
   "id": "ab01800f-c175-42a9-a1d5-d28803b5697d",
   "metadata": {
    "tags": []
   },
   "outputs": [
    {
     "data": {
      "text/plain": [
       "6"
      ]
     },
     "execution_count": 42,
     "metadata": {},
     "output_type": "execute_result"
    }
   ],
   "source": [
    "mode_ = statistics.mode(u)\n",
    "mode_"
   ]
  },
  {
   "cell_type": "code",
   "execution_count": 43,
   "id": "f08c3ad3-a6bc-4eb5-886f-0abe9c6eeca5",
   "metadata": {
    "tags": []
   },
   "outputs": [
    {
     "data": {
      "text/plain": [
       "[6, 9]"
      ]
     },
     "execution_count": 43,
     "metadata": {},
     "output_type": "execute_result"
    }
   ],
   "source": [
    "u = [6, 3, 6, 9, 12, 9, 6, 9]\n",
    "mode_ = statistics.multimode(u)\n",
    "mode_"
   ]
  },
  {
   "cell_type": "code",
   "execution_count": 44,
   "id": "b152445e-fa52-49c9-a34d-aa8cb7de2283",
   "metadata": {
    "tags": []
   },
   "outputs": [
    {
     "data": {
      "text/plain": [
       "[11, 13]"
      ]
     },
     "execution_count": 44,
     "metadata": {},
     "output_type": "execute_result"
    }
   ],
   "source": [
    "v = [11, 13, 11, 13, 17, 13, 11]\n",
    "mode_ = statistics.multimode(v)\n",
    "mode_"
   ]
  },
  {
   "cell_type": "markdown",
   "id": "cb975b97-8b76-413f-afe3-d83b75b24035",
   "metadata": {},
   "source": [
    "Ambas funciones manejan valores NaN como valores regulares y pueden devolver NaN como el valor modal."
   ]
  },
  {
   "cell_type": "code",
   "execution_count": 45,
   "id": "d8064787-881a-4ab6-bd99-b2b8c5f787a6",
   "metadata": {
    "tags": []
   },
   "outputs": [
    {
     "data": {
      "text/plain": [
       "[2, nan]"
      ]
     },
     "execution_count": 45,
     "metadata": {},
     "output_type": "execute_result"
    }
   ],
   "source": [
    "statistics.multimode([2, math.nan, 2, math.nan, 5])"
   ]
  },
  {
   "cell_type": "markdown",
   "id": "9704838e-ca6c-49c6-a75d-2ef763418ddb",
   "metadata": {},
   "source": [
    "También puedes obtener la moda con ```scipy.stats.mode()```.\n"
   ]
  },
  {
   "cell_type": "code",
   "execution_count": 46,
   "id": "c9e39a0a-5594-4d54-bfa1-0a8afa5d0414",
   "metadata": {
    "tags": []
   },
   "outputs": [
    {
     "data": {
      "text/plain": [
       "ModeResult(mode=np.int64(6), count=np.int64(3))"
      ]
     },
     "execution_count": 46,
     "metadata": {},
     "output_type": "execute_result"
    }
   ],
   "source": [
    "u = np.array(u)\n",
    "mode_ = stats.mode(u)\n",
    "mode_"
   ]
  },
  {
   "cell_type": "markdown",
   "id": "2ad6e435-1f7e-4e0e-b0e1-5ee7083ca1bf",
   "metadata": {},
   "source": [
    "Podemos obtener la moda y su número de ocurrencias como arrays de NumPy con notación de punto.\n"
   ]
  },
  {
   "cell_type": "code",
   "execution_count": 47,
   "id": "f06f6ed7-a42b-4128-9a37-54084afa499c",
   "metadata": {
    "tags": []
   },
   "outputs": [
    {
     "name": "stdout",
     "output_type": "stream",
     "text": [
      "6\n",
      "3\n"
     ]
    }
   ],
   "source": [
    "print(mode_.mode)\n",
    "print(mode_.count)"
   ]
  },
  {
   "cell_type": "markdown",
   "id": "37012fd4-8d03-44ce-802c-592ea2b86e29",
   "metadata": {},
   "source": [
    "Las Series de pandas tienen el método ```.mode()``` que maneja bien los valores multimodales y por defecto ignora los valores NaN.\n"
   ]
  },
  {
   "cell_type": "code",
   "execution_count": 48,
   "id": "2b221f8e-de75-40dd-9d25-812b592e90a0",
   "metadata": {
    "tags": []
   },
   "outputs": [
    {
     "name": "stdout",
     "output_type": "stream",
     "text": [
      "0    6\n",
      "1    9\n",
      "dtype: int64\n",
      "0    11\n",
      "1    13\n",
      "dtype: int64\n",
      "0    2.0\n",
      "dtype: float64\n"
     ]
    }
   ],
   "source": [
    "u, v, w = pd.Series(u), pd.Series(v), pd.Series([2, 2, math.nan])\n",
    "print(u.mode())\n",
    "print(v.mode())\n",
    "print(w.mode())"
   ]
  },
  {
   "cell_type": "markdown",
   "id": "74347de3-392e-4998-b455-b90b68eb496a",
   "metadata": {},
   "source": [
    "## <a id='1.1.'> 11.2 Medidas de dispersión </a>\n",
    "En esta sección, exploramos las herramientas esenciales que nos ayudan a entender la variabilidad y dispersión dentro de un conjunto de datos. Medidas como el rango, la varianza y la desviación estándar proporcionan información sobre cómo se distribuyen los puntos de datos alrededor de la tendencia central. Al usar estas medidas de dispersión, obtendrás una comprensión más profunda de la distribución de los datos, lo que te permitirá tomar decisiones informadas y extraer conclusiones significativas de tus análisis estadísticos."
   ]
  },
  {
   "cell_type": "markdown",
   "id": "7a492cbc",
   "metadata": {},
   "source": [
    "### <a id='1.2.1'> Varianza </a>  \n",
    "\n",
    "La varianza muestral mide cómo están dispersos los datos, indicando numéricamente la distancia de los puntos de datos respecto a la media. Matemáticamente, la varianza muestral de un conjunto de datos \\( x \\) con \\( n \\) elementos se expresa como\n",
    "\n",
    "$$ s^2 = \\frac{\\sum_{i}(x_i - \\text{mean}(x))^2}{(n - 1)} $$\n",
    "\n",
    "donde \\( i = 1, 2, ..., n \\) y \\( \\text{mean}(x) \\) representa la media muestral de \\( x \\)."
   ]
  },
  {
   "cell_type": "markdown",
   "id": "85eb53d4",
   "metadata": {},
   "source": [
    "Aquí tienes un método para calcular la varianza muestral usando solo Python sin librerías:"
   ]
  },
  {
   "cell_type": "code",
   "execution_count": 49,
   "id": "8feb925e",
   "metadata": {},
   "outputs": [
    {
     "data": {
      "text/plain": [
       "123.2"
      ]
     },
     "execution_count": 49,
     "metadata": {},
     "output_type": "execute_result"
    }
   ],
   "source": [
    "n = len(x)\n",
    "mean_ = sum(x) / n\n",
    "var_ = sum((item - mean_)**2 for item in x) / (n - 1)\n",
    "var_"
   ]
  },
  {
   "cell_type": "markdown",
   "id": "c1063792",
   "metadata": {},
   "source": [
    "Si bien este enfoque es efectivo y calcula con precisión la varianza muestral, una solución más concisa y elegante sería utilizar la función existente `statistics.variance()`.\n"
   ]
  },
  {
   "cell_type": "code",
   "execution_count": 50,
   "id": "3620504b",
   "metadata": {},
   "outputs": [
    {
     "data": {
      "text/plain": [
       "123.2"
      ]
     },
     "execution_count": 50,
     "metadata": {},
     "output_type": "execute_result"
    }
   ],
   "source": [
    "var_ = statistics.variance(x)\n",
    "var_"
   ]
  },
  {
   "cell_type": "markdown",
   "id": "26b1cad5",
   "metadata": {},
   "source": [
    "Si tus datos contienen valores NaN, usar `statistics.variance()` hará que la función devuelva NaN. Esto es consistente con `mean()` y la mayoría de otras funciones dentro de la biblioteca de estadísticas de Python."
   ]
  },
  {
   "cell_type": "code",
   "execution_count": 51,
   "id": "57a7c3f5",
   "metadata": {},
   "outputs": [
    {
     "data": {
      "text/plain": [
       "nan"
      ]
     },
     "execution_count": 51,
     "metadata": {},
     "output_type": "execute_result"
    }
   ],
   "source": [
    "statistics.variance(x_nan)"
   ]
  },
  {
   "cell_type": "markdown",
   "id": "fb0bb2a0",
   "metadata": {},
   "source": [
    "Otra opción para calcular la varianza muestral es utilizando NumPy. Puedes utilizar tanto la función `np.var()` como su método correspondiente `.var()`. Es crucial especificar el parámetro `ddof=1` para establecer los grados de libertad delta en 1. Este parámetro asegura el cálculo correcto de $s^2$, donde se usa $(n - 1)$ en el denominador en lugar de $n$."
   ]
  },
  {
   "cell_type": "code",
   "execution_count": 52,
   "id": "be77a0ef",
   "metadata": {},
   "outputs": [
    {
     "name": "stdout",
     "output_type": "stream",
     "text": [
      "123.19999999999999\n",
      "123.19999999999999\n"
     ]
    }
   ],
   "source": [
    "var_ = np.var(y, ddof=1)\n",
    "print(var_)\n",
    "\n",
    "var_ = y.var(ddof=1)\n",
    "print(var_)"
   ]
  },
  {
   "cell_type": "markdown",
   "id": "b17dd5f1",
   "metadata": {},
   "source": [
    "Si tenemos valores NaN en el conjunto de datos, entonces `np.var()` y `.var()` devolverán NaN."
   ]
  },
  {
   "cell_type": "code",
   "execution_count": 53,
   "id": "6337c5af",
   "metadata": {},
   "outputs": [
    {
     "name": "stdout",
     "output_type": "stream",
     "text": [
      "nan\n",
      "nan\n"
     ]
    }
   ],
   "source": [
    "print(np.var(y_nan, ddof=1))\n",
    "\n",
    "print(y_nan.var(ddof=1))"
   ]
  },
  {
   "cell_type": "markdown",
   "id": "b3b2a4fa",
   "metadata": {},
   "source": [
    "La función `np.nanvar()` en NumPy ignora los valores NaN y también requiere que especifiques `ddof=1`.\n",
    "\n",
    "Para los objetos `pd.Series`, el método `.var()` omite los valores NaN por defecto."
   ]
  },
  {
   "cell_type": "code",
   "execution_count": 54,
   "id": "b1e6cc0a",
   "metadata": {
    "scrolled": true
   },
   "outputs": [
    {
     "name": "stdout",
     "output_type": "stream",
     "text": [
      "123.19999999999999\n",
      "123.19999999999999\n"
     ]
    }
   ],
   "source": [
    "print(z.var(ddof=1))\n",
    "\n",
    "print(z_nan.var(ddof=1))"
   ]
  },
  {
   "cell_type": "markdown",
   "id": "5ac7a5b3",
   "metadata": {},
   "source": [
    "El cálculo de la varianza poblacional se asemeja al de la varianza muestral, pero con una ligera diferencia en el denominador:\n",
    "$$\n",
    "\\frac{\\sum_{i}(x_i - \\text{mean}(x))^2}{n}\n",
    "$$\n",
    "donde $n$ representa el número de elementos en toda la población. Para calcular la varianza poblacional:\n",
    "\n",
    "En la implementación en Python puro, reemplaza $(n - 1)$ por $n$.\n",
    "Utiliza `statistics.pvariance()` en lugar de `statistics.variance()` para el módulo de estadísticas de Python.\n",
    "Para NumPy o pandas, especifica el parámetro `ddof=0`. En NumPy, puedes omitir `ddof` porque su valor predeterminado es 0."
   ]
  },
  {
   "cell_type": "markdown",
   "id": "d5e871c1",
   "metadata": {},
   "source": [
    "### <a id='1.2.2'> Desviación estándar </a>  \n",
    "La desviación estándar mide la dispersión o dispersión de los puntos de datos alrededor del valor medio. Proporciona una indicación numérica de cuánto se desvían los puntos de datos individuales de la media. Matemáticamente, la desviación estándar de un conjunto de datos se puede calcular tomando la raíz cuadrada de la varianza. Al igual que la varianza, la desviación estándar ayuda a comprender la distribución de los datos y a evaluar la consistencia o variabilidad dentro del conjunto de datos.\n"
   ]
  },
  {
   "cell_type": "markdown",
   "id": "ecf6da24",
   "metadata": {},
   "source": [
    "Lo puedes calcular en Python"
   ]
  },
  {
   "cell_type": "code",
   "execution_count": 55,
   "id": "faa6b660",
   "metadata": {},
   "outputs": [
    {
     "data": {
      "text/plain": [
       "np.float64(11.099549540409285)"
      ]
     },
     "execution_count": 55,
     "metadata": {},
     "output_type": "execute_result"
    }
   ],
   "source": [
    "std_ = var_ ** 0.5\n",
    "std_"
   ]
  },
  {
   "cell_type": "markdown",
   "id": "8ab863b1",
   "metadata": {},
   "source": [
    "También puedes usar `statistics.stdev()`\n"
   ]
  },
  {
   "cell_type": "code",
   "execution_count": 56,
   "id": "db7c3926",
   "metadata": {},
   "outputs": [
    {
     "data": {
      "text/plain": [
       "11.099549540409287"
      ]
     },
     "execution_count": 56,
     "metadata": {},
     "output_type": "execute_result"
    }
   ],
   "source": [
    "std_ = statistics.stdev(x)\n",
    "std_"
   ]
  },
  {
   "cell_type": "markdown",
   "id": "155349dc",
   "metadata": {},
   "source": [
    "Puedes calcular la desviación estándar usando NumPy de manera similar. Tanto la función `std()` como su método correspondiente `.std()` pueden emplearse para este propósito. En caso de que haya valores NaN dentro del conjunto de datos, estos resultarán en resultados NaN.\n"
   ]
  },
  {
   "cell_type": "code",
   "execution_count": 57,
   "id": "dc2374ac",
   "metadata": {},
   "outputs": [
    {
     "name": "stdout",
     "output_type": "stream",
     "text": [
      "11.099549540409285\n",
      "11.099549540409285\n",
      "nan\n",
      "nan\n"
     ]
    }
   ],
   "source": [
    "print(np.std(y, ddof=1))\n",
    "\n",
    "print(y.std(ddof=1))\n",
    "\n",
    "print(np.std(y_nan, ddof=1))\n",
    "\n",
    "print(y_nan.std(ddof=1))"
   ]
  },
  {
   "cell_type": "markdown",
   "id": "e43139ec",
   "metadata": {},
   "source": [
    "Para ignorar estos valores NaN, puedes utilizar `np.nanstd()`. Esencialmente, el uso de `std()`, `.std()` y `nanstd()` en NumPy es similar al de `var()`, `.var()` y `nanvar()`.\n"
   ]
  },
  {
   "cell_type": "code",
   "execution_count": 58,
   "id": "2d0eeba0",
   "metadata": {},
   "outputs": [
    {
     "name": "stdout",
     "output_type": "stream",
     "text": [
      "11.099549540409285\n"
     ]
    }
   ],
   "source": [
    "print(np.nanstd(y_nan, ddof=1))"
   ]
  },
  {
   "cell_type": "markdown",
   "id": "47920ce2",
   "metadata": {},
   "source": [
    "Además, los objetos `pd.Series` ofrecen el método `.std()`, que excluye automáticamente los valores NaN.\n"
   ]
  },
  {
   "cell_type": "code",
   "execution_count": 59,
   "id": "c840e6ec",
   "metadata": {
    "scrolled": true
   },
   "outputs": [
    {
     "name": "stdout",
     "output_type": "stream",
     "text": [
      "11.099549540409285\n",
      "11.099549540409285\n"
     ]
    }
   ],
   "source": [
    "print(z.std(ddof=1))\n",
    "\n",
    "print(z_nan.std(ddof=1))"
   ]
  },
  {
   "cell_type": "markdown",
   "id": "f9dd53e4",
   "metadata": {},
   "source": [
    "La desviación estándar poblacional abarca la totalidad de la población. Representa la raíz cuadrada positiva de la varianza poblacional. Para calcularla, sigue un procedimiento similar al de la desviación estándar muestral, con algunas diferencias:\n",
    "\n",
    "1. Toma la raíz cuadrada de la varianza poblacional en el enfoque de Python puro.\n",
    "2. Utiliza `statistics.pstdev()` en lugar de `statistics.stdev()` para el módulo de estadísticas de Python.\n",
    "3. Al usar NumPy o pandas, especifica `ddof=0`. En NumPy, puedes omitir `ddof` ya que su valor predeterminado es 0.\n"
   ]
  },
  {
   "cell_type": "markdown",
   "id": "3467b71a",
   "metadata": {},
   "source": [
    "### <a id='1.2.3'> Asimetría </a> \n",
    "La asimetría muestral mide la asimetría de una muestra de datos. Se mide como\n",
    "$$\n",
    "Skew = \\frac{n}{(n-1)(n-2)} \\times \\sum_{i=1}^{n} \\left( \\frac{X_i - \\text{mean}(X)}{\\text{std}(X)} \\right)^3\n",
    "$$\n",
    "\n"
   ]
  },
  {
   "cell_type": "code",
   "execution_count": 60,
   "id": "07d6853b",
   "metadata": {},
   "outputs": [
    {
     "data": {
      "text/plain": [
       "1.947043227390592"
      ]
     },
     "execution_count": 60,
     "metadata": {},
     "output_type": "execute_result"
    }
   ],
   "source": [
    "x = [8.0, 1, 2.5, 4, 28.0]\n",
    "n = len(x)\n",
    "mean_ = sum(x) / n\n",
    "var_ = sum((item - mean_)**2 for item in x) / (n - 1)\n",
    "std_ = var_ ** 0.5\n",
    "skew_ = (sum((item - mean_)**3 for item in x)\n",
    "         * n / ((n - 1) * (n - 2) * std_**3))\n",
    "skew_"
   ]
  },
  {
   "cell_type": "markdown",
   "id": "8b98c37d",
   "metadata": {},
   "source": [
    "La asimetría positiva indica que hay una cola en el lado derecho de la distribución de $x$."
   ]
  },
  {
   "cell_type": "markdown",
   "id": "3508044b",
   "metadata": {},
   "source": [
    "También podemos calcular la asimetría muestral con `scipy.stats.skew()`.\n"
   ]
  },
  {
   "cell_type": "code",
   "execution_count": 61,
   "id": "51797423",
   "metadata": {},
   "outputs": [
    {
     "name": "stdout",
     "output_type": "stream",
     "text": [
      "1.9470432273905927\n",
      "nan\n"
     ]
    }
   ],
   "source": [
    "y, y_nan = np.array(x), np.array(x_nan)\n",
    "print(scipy.stats.skew(y, bias=False))\n",
    "\n",
    "print(scipy.stats.skew(y_nan, bias=False))"
   ]
  },
  {
   "cell_type": "markdown",
   "id": "daff52fd",
   "metadata": {},
   "source": [
    "El parámetro bias se configura como False para activar los ajustes por sesgo estadístico. El parámetro nan_policy, que es opcional, acepta tres valores: 'propagate', 'raise' u 'omit'. Este parámetro proporciona control sobre el manejo de los valores NaN."
   ]
  },
  {
   "cell_type": "markdown",
   "id": "5e08a1fe",
   "metadata": {},
   "source": [
    "El método `.skew()` de los objetos Series de pandas también proporciona la asimetría de un conjunto de datos."
   ]
  },
  {
   "cell_type": "code",
   "execution_count": 62,
   "id": "f61b402e",
   "metadata": {},
   "outputs": [
    {
     "name": "stdout",
     "output_type": "stream",
     "text": [
      "1.9470432273905924\n",
      "1.9470432273905924\n"
     ]
    }
   ],
   "source": [
    "z, z_nan = pd.Series(x), pd.Series(x_nan)\n",
    "print(z.skew())\n",
    "\n",
    "print(z_nan.skew())"
   ]
  },
  {
   "cell_type": "markdown",
   "id": "78d98cae",
   "metadata": {},
   "source": [
    "### <a id='1.2.4'> Percentiles </a>\n",
    "\n",
    "El percentil $p$ de la muestra indica el elemento dentro del conjunto de datos tal que $p\\%$ de los elementos del conjunto son menores o iguales a ese valor, y $(100 − p)\\%$ de los elementos son mayores o iguales a él. Si existen dos elementos de este tipo en el conjunto de datos, el percentil $p$ de la muestra es su media aritmética. Cada conjunto de datos comprende tres cuartiles, que representan los percentiles que dividen el conjunto de datos en cuatro segmentos:\n",
    "\n",
    "- El primer cuartil corresponde al percentil 25 de la muestra, segregando aproximadamente el 25% de los elementos más pequeños del resto del conjunto de datos.\n",
    "- El segundo cuartil, también conocido como el percentil 50 de la muestra o la mediana, se encuentra entre el primer y segundo cuartil, con aproximadamente el 25% de los elementos entre cada cuartil.\n",
    "- El tercer cuartil indica el percentil 75 de la muestra, dividiendo aproximadamente el 25% de los elementos más grandes del resto del conjunto de datos."
   ]
  },
  {
   "cell_type": "code",
   "execution_count": 63,
   "id": "02f825c9",
   "metadata": {},
   "outputs": [
    {
     "name": "stdout",
     "output_type": "stream",
     "text": [
      "[np.float64(50.5)]\n",
      "[np.float64(25.75), np.float64(50.5), np.float64(75.25)]\n"
     ]
    }
   ],
   "source": [
    "x = np.arange(1, 101, 1)\n",
    "print(statistics.quantiles(x, n=2))\n",
    "\n",
    "print(statistics.quantiles(x, n=4, method='inclusive'))"
   ]
  },
  {
   "cell_type": "markdown",
   "id": "fc936a68",
   "metadata": {},
   "source": [
    "En este ejemplo, 8.0 es la mediana de $x$, mientras que 0.1 y 21.0 son los percentiles 25 y 75 del conjunto de datos, respectivamente. El parámetro $n$ define la cantidad de percentiles de igual probabilidad resultantes, y el método determina cómo calcularlos."
   ]
  },
  {
   "cell_type": "code",
   "execution_count": 64,
   "id": "e1b9411b",
   "metadata": {},
   "outputs": [
    {
     "name": "stdout",
     "output_type": "stream",
     "text": [
      "5.95\n",
      "95.05\n"
     ]
    }
   ],
   "source": [
    "y = np.array(x)\n",
    "print(np.percentile(y, 5))\n",
    "\n",
    "print(np.percentile(y, 95))"
   ]
  },
  {
   "cell_type": "markdown",
   "id": "14130cbc",
   "metadata": {},
   "source": [
    "La función `percentile()` requiere varios argumentos. El conjunto de datos debe ser proporcionado como el primer argumento, seguido del valor del percentil como el segundo argumento. El conjunto de datos puede estar en formato de array de `NumPy`, lista, tupla o estructura de datos comparable. El valor del percentil puede variar de 0 a 100, como se ilustró en el ejemplo anterior. Sin embargo, también puede ser una secuencia de números."
   ]
  },
  {
   "cell_type": "code",
   "execution_count": 65,
   "id": "aa4bd654",
   "metadata": {},
   "outputs": [
    {
     "data": {
      "text/plain": [
       "array([25.75, 50.5 , 75.25])"
      ]
     },
     "execution_count": 65,
     "metadata": {},
     "output_type": "execute_result"
    }
   ],
   "source": [
    "np.percentile(y, [25, 50, 75])"
   ]
  },
  {
   "cell_type": "markdown",
   "id": "24c3bd86",
   "metadata": {},
   "source": [
    "Este código calcula simultáneamente los percentiles 25, 50 y 75."
   ]
  },
  {
   "cell_type": "markdown",
   "id": "0e7b814b",
   "metadata": {},
   "source": [
    "Si prefieres ignorar los valores NaN, deberías utilizar `np.nanpercentile()` en su lugar."
   ]
  },
  {
   "cell_type": "code",
   "execution_count": 66,
   "id": "d6235c3f",
   "metadata": {},
   "outputs": [
    {
     "name": "stdout",
     "output_type": "stream",
     "text": [
      "[nan nan nan]\n",
      "[2. 3. 4.]\n"
     ]
    }
   ],
   "source": [
    "y_nan = np.array([1, 2, 3, 4, 5, np.nan])\n",
    "\n",
    "print(np.percentile(y_nan, [25, 50, 75]))\n",
    "print(np.nanpercentile(y_nan, [25, 50, 75]))"
   ]
  },
  {
   "cell_type": "markdown",
   "id": "3745f76f",
   "metadata": {},
   "source": [
    "NumPy proporciona una funcionalidad similar a través de `quantile()` y `nanquantile()`. Al usar estas funciones, debes especificar los valores de cuantil como números entre 0 y 1, en lugar de como percentiles."
   ]
  },
  {
   "cell_type": "code",
   "execution_count": 67,
   "id": "32e2df84",
   "metadata": {},
   "outputs": [
    {
     "name": "stdout",
     "output_type": "stream",
     "text": [
      "5.95\n",
      "95.05\n",
      "[25.75 50.5  75.25]\n",
      "[2. 3. 4.]\n"
     ]
    }
   ],
   "source": [
    "print(np.quantile(y, 0.05))\n",
    "\n",
    "print(np.quantile(y, 0.95))\n",
    "\n",
    "print(np.quantile(y, [0.25, 0.5, 0.75]))\n",
    "\n",
    "print(np.nanquantile(y_nan, [0.25, 0.5, 0.75]))"
   ]
  },
  {
   "cell_type": "markdown",
   "id": "75c7ec00",
   "metadata": {},
   "source": [
    "Los objetos Series de Pandas también poseen el método `.quantile()`."
   ]
  },
  {
   "cell_type": "code",
   "execution_count": 68,
   "id": "4417025e",
   "metadata": {},
   "outputs": [
    {
     "name": "stdout",
     "output_type": "stream",
     "text": [
      "5.95\n",
      "95.05\n"
     ]
    }
   ],
   "source": [
    "z, z_nan = pd.Series(y), pd.Series(y_nan)\n",
    "\n",
    "print(z.quantile(0.05))\n",
    "\n",
    "print(z.quantile(0.95))"
   ]
  },
  {
   "cell_type": "markdown",
   "id": "ec37cf61",
   "metadata": {},
   "source": [
    "Funciona automáticamente con valores NaN."
   ]
  },
  {
   "cell_type": "code",
   "execution_count": 69,
   "id": "9103a28c",
   "metadata": {},
   "outputs": [
    {
     "name": "stdout",
     "output_type": "stream",
     "text": [
      "0.25    25.75\n",
      "0.50    50.50\n",
      "0.75    75.25\n",
      "dtype: float64\n",
      "0.25    2.0\n",
      "0.50    3.0\n",
      "0.75    4.0\n",
      "dtype: float64\n"
     ]
    }
   ],
   "source": [
    "print(z.quantile([0.25, 0.5, 0.75]))\n",
    "\n",
    "print(z_nan.quantile([0.25, 0.5, 0.75]))"
   ]
  },
  {
   "cell_type": "markdown",
   "id": "704a5ea8",
   "metadata": {},
   "source": [
    "## <a id='1.3.'> 11.3 Resumen de estadísticas descriptivas </a>\n",
    "\n",
    "Puedes utilizar SciPy y pandas para obtener estadísticas descriptivas de manera eficiente con una sola llamada a una función o método. Por ejemplo, puedes usar `scipy.stats.describe()` como veremos en esta subsección"
   ]
  },
  {
   "cell_type": "markdown",
   "id": "23eeb52a-af53-439a-a087-1d9f12fcf518",
   "metadata": {},
   "source": [
    "### Ahora trabajemos con un dataframe con datos de Perú"
   ]
  },
  {
   "cell_type": "code",
   "execution_count": 70,
   "id": "e2469192-c458-45fd-8c9d-a1826be98533",
   "metadata": {
    "tags": []
   },
   "outputs": [],
   "source": [
    "# We read and transform the database\n",
    ">>> peru = pd.read_excel('../Datasets/peru.xlsx', parse_dates=['Year'])\n",
    ">>> peru = peru.drop(columns=['Unnamed: 0', 'Country'])\n",
    ">>> peru.set_index('Year', inplace=True)"
   ]
  },
  {
   "cell_type": "code",
   "execution_count": 71,
   "id": "d4d058fa-cf6a-4e2a-9af1-0c01222f353f",
   "metadata": {
    "tags": []
   },
   "outputs": [
    {
     "data": {
      "text/html": [
       "<div>\n",
       "<style scoped>\n",
       "    .dataframe tbody tr th:only-of-type {\n",
       "        vertical-align: middle;\n",
       "    }\n",
       "\n",
       "    .dataframe tbody tr th {\n",
       "        vertical-align: top;\n",
       "    }\n",
       "\n",
       "    .dataframe thead th {\n",
       "        text-align: right;\n",
       "    }\n",
       "</style>\n",
       "<table border=\"1\" class=\"dataframe\">\n",
       "  <thead>\n",
       "    <tr style=\"text-align: right;\">\n",
       "      <th></th>\n",
       "      <th>Current account balance</th>\n",
       "      <th>General government net debt</th>\n",
       "      <th>General government total expenditure</th>\n",
       "      <th>Unemployment rate</th>\n",
       "      <th>CPI</th>\n",
       "      <th>CBI</th>\n",
       "    </tr>\n",
       "    <tr>\n",
       "      <th>Year</th>\n",
       "      <th></th>\n",
       "      <th></th>\n",
       "      <th></th>\n",
       "      <th></th>\n",
       "      <th></th>\n",
       "      <th></th>\n",
       "    </tr>\n",
       "  </thead>\n",
       "  <tbody>\n",
       "    <tr>\n",
       "      <th>1980-01-01</th>\n",
       "      <td>-5.175</td>\n",
       "      <td>NaN</td>\n",
       "      <td>NaN</td>\n",
       "      <td>7.326</td>\n",
       "      <td>59.145</td>\n",
       "      <td>0.43875</td>\n",
       "    </tr>\n",
       "    <tr>\n",
       "      <th>1981-01-01</th>\n",
       "      <td>-9.673</td>\n",
       "      <td>NaN</td>\n",
       "      <td>NaN</td>\n",
       "      <td>6.800</td>\n",
       "      <td>75.433</td>\n",
       "      <td>0.43875</td>\n",
       "    </tr>\n",
       "    <tr>\n",
       "      <th>1982-01-01</th>\n",
       "      <td>-9.142</td>\n",
       "      <td>NaN</td>\n",
       "      <td>NaN</td>\n",
       "      <td>6.400</td>\n",
       "      <td>64.460</td>\n",
       "      <td>0.43875</td>\n",
       "    </tr>\n",
       "    <tr>\n",
       "      <th>1983-01-01</th>\n",
       "      <td>-6.842</td>\n",
       "      <td>NaN</td>\n",
       "      <td>NaN</td>\n",
       "      <td>9.000</td>\n",
       "      <td>111.149</td>\n",
       "      <td>0.43875</td>\n",
       "    </tr>\n",
       "    <tr>\n",
       "      <th>1984-01-01</th>\n",
       "      <td>-1.381</td>\n",
       "      <td>NaN</td>\n",
       "      <td>NaN</td>\n",
       "      <td>8.900</td>\n",
       "      <td>110.209</td>\n",
       "      <td>0.43875</td>\n",
       "    </tr>\n",
       "  </tbody>\n",
       "</table>\n",
       "</div>"
      ],
      "text/plain": [
       "            Current account balance  General government net debt  \\\n",
       "Year                                                               \n",
       "1980-01-01                   -5.175                          NaN   \n",
       "1981-01-01                   -9.673                          NaN   \n",
       "1982-01-01                   -9.142                          NaN   \n",
       "1983-01-01                   -6.842                          NaN   \n",
       "1984-01-01                   -1.381                          NaN   \n",
       "\n",
       "            General government total expenditure  Unemployment rate      CPI  \\\n",
       "Year                                                                           \n",
       "1980-01-01                                   NaN              7.326   59.145   \n",
       "1981-01-01                                   NaN              6.800   75.433   \n",
       "1982-01-01                                   NaN              6.400   64.460   \n",
       "1983-01-01                                   NaN              9.000  111.149   \n",
       "1984-01-01                                   NaN              8.900  110.209   \n",
       "\n",
       "                CBI  \n",
       "Year                 \n",
       "1980-01-01  0.43875  \n",
       "1981-01-01  0.43875  \n",
       "1982-01-01  0.43875  \n",
       "1983-01-01  0.43875  \n",
       "1984-01-01  0.43875  "
      ]
     },
     "execution_count": 71,
     "metadata": {},
     "output_type": "execute_result"
    }
   ],
   "source": [
    "# We analize it\n",
    "peru.head()"
   ]
  },
  {
   "cell_type": "code",
   "execution_count": 72,
   "id": "7378a0f6-3ba1-4461-80da-d1c69120b090",
   "metadata": {
    "tags": []
   },
   "outputs": [
    {
     "data": {
      "text/html": [
       "<div>\n",
       "<style scoped>\n",
       "    .dataframe tbody tr th:only-of-type {\n",
       "        vertical-align: middle;\n",
       "    }\n",
       "\n",
       "    .dataframe tbody tr th {\n",
       "        vertical-align: top;\n",
       "    }\n",
       "\n",
       "    .dataframe thead th {\n",
       "        text-align: right;\n",
       "    }\n",
       "</style>\n",
       "<table border=\"1\" class=\"dataframe\">\n",
       "  <thead>\n",
       "    <tr style=\"text-align: right;\">\n",
       "      <th></th>\n",
       "      <th>Current account balance</th>\n",
       "      <th>General government net debt</th>\n",
       "      <th>General government total expenditure</th>\n",
       "      <th>Unemployment rate</th>\n",
       "      <th>CPI</th>\n",
       "      <th>CBI</th>\n",
       "    </tr>\n",
       "  </thead>\n",
       "  <tbody>\n",
       "    <tr>\n",
       "      <th>count</th>\n",
       "      <td>42.000000</td>\n",
       "      <td>22.000000</td>\n",
       "      <td>22.000000</td>\n",
       "      <td>42.000000</td>\n",
       "      <td>41.000000</td>\n",
       "      <td>41.000000</td>\n",
       "    </tr>\n",
       "    <tr>\n",
       "      <th>mean</th>\n",
       "      <td>-3.368333</td>\n",
       "      <td>17.760636</td>\n",
       "      <td>21.070182</td>\n",
       "      <td>7.779119</td>\n",
       "      <td>315.795195</td>\n",
       "      <td>0.702226</td>\n",
       "    </tr>\n",
       "    <tr>\n",
       "      <th>std</th>\n",
       "      <td>3.052220</td>\n",
       "      <td>13.084920</td>\n",
       "      <td>1.740462</td>\n",
       "      <td>1.752538</td>\n",
       "      <td>1266.240395</td>\n",
       "      <td>0.171591</td>\n",
       "    </tr>\n",
       "    <tr>\n",
       "      <th>min</th>\n",
       "      <td>-9.673000</td>\n",
       "      <td>1.499000</td>\n",
       "      <td>18.593000</td>\n",
       "      <td>4.156000</td>\n",
       "      <td>0.192000</td>\n",
       "      <td>0.438750</td>\n",
       "    </tr>\n",
       "    <tr>\n",
       "      <th>25%</th>\n",
       "      <td>-5.428250</td>\n",
       "      <td>7.350000</td>\n",
       "      <td>19.901500</td>\n",
       "      <td>6.710500</td>\n",
       "      <td>2.804000</td>\n",
       "      <td>0.438750</td>\n",
       "    </tr>\n",
       "    <tr>\n",
       "      <th>50%</th>\n",
       "      <td>-2.966000</td>\n",
       "      <td>12.611500</td>\n",
       "      <td>20.948500</td>\n",
       "      <td>7.863500</td>\n",
       "      <td>3.759000</td>\n",
       "      <td>0.811250</td>\n",
       "    </tr>\n",
       "    <tr>\n",
       "      <th>75%</th>\n",
       "      <td>-1.285000</td>\n",
       "      <td>29.997250</td>\n",
       "      <td>21.466000</td>\n",
       "      <td>8.975000</td>\n",
       "      <td>73.529000</td>\n",
       "      <td>0.811250</td>\n",
       "    </tr>\n",
       "    <tr>\n",
       "      <th>max</th>\n",
       "      <td>3.331000</td>\n",
       "      <td>38.672000</td>\n",
       "      <td>26.862000</td>\n",
       "      <td>13.000000</td>\n",
       "      <td>7481.691000</td>\n",
       "      <td>0.811250</td>\n",
       "    </tr>\n",
       "  </tbody>\n",
       "</table>\n",
       "</div>"
      ],
      "text/plain": [
       "       Current account balance  General government net debt  \\\n",
       "count                42.000000                    22.000000   \n",
       "mean                 -3.368333                    17.760636   \n",
       "std                   3.052220                    13.084920   \n",
       "min                  -9.673000                     1.499000   \n",
       "25%                  -5.428250                     7.350000   \n",
       "50%                  -2.966000                    12.611500   \n",
       "75%                  -1.285000                    29.997250   \n",
       "max                   3.331000                    38.672000   \n",
       "\n",
       "       General government total expenditure  Unemployment rate          CPI  \\\n",
       "count                             22.000000          42.000000    41.000000   \n",
       "mean                              21.070182           7.779119   315.795195   \n",
       "std                                1.740462           1.752538  1266.240395   \n",
       "min                               18.593000           4.156000     0.192000   \n",
       "25%                               19.901500           6.710500     2.804000   \n",
       "50%                               20.948500           7.863500     3.759000   \n",
       "75%                               21.466000           8.975000    73.529000   \n",
       "max                               26.862000          13.000000  7481.691000   \n",
       "\n",
       "             CBI  \n",
       "count  41.000000  \n",
       "mean    0.702226  \n",
       "std     0.171591  \n",
       "min     0.438750  \n",
       "25%     0.438750  \n",
       "50%     0.811250  \n",
       "75%     0.811250  \n",
       "max     0.811250  "
      ]
     },
     "execution_count": 72,
     "metadata": {},
     "output_type": "execute_result"
    }
   ],
   "source": [
    "# We further analyse it with the describe() function\n",
    "peru.describe()"
   ]
  },
  {
   "cell_type": "code",
   "execution_count": 73,
   "id": "21fadd8d-17f3-4528-a434-fcbc78af4b06",
   "metadata": {
    "tags": []
   },
   "outputs": [
    {
     "data": {
      "text/plain": [
       "Current account balance                 42\n",
       "General government net debt             22\n",
       "General government total expenditure    22\n",
       "Unemployment rate                       42\n",
       "CPI                                     41\n",
       "CBI                                     41\n",
       "dtype: int64"
      ]
     },
     "execution_count": 73,
     "metadata": {},
     "output_type": "execute_result"
    }
   ],
   "source": [
    "peru.count()"
   ]
  },
  {
   "cell_type": "code",
   "execution_count": 74,
   "id": "39264fd4-f138-47f0-b3b9-aa89469abdea",
   "metadata": {
    "tags": []
   },
   "outputs": [
    {
     "data": {
      "text/plain": [
       "Current account balance                  -3.368333\n",
       "General government net debt              17.760636\n",
       "General government total expenditure     21.070182\n",
       "Unemployment rate                         7.779119\n",
       "CPI                                     315.795195\n",
       "CBI                                       0.702226\n",
       "dtype: float64"
      ]
     },
     "execution_count": 74,
     "metadata": {},
     "output_type": "execute_result"
    }
   ],
   "source": [
    "peru.mean()"
   ]
  },
  {
   "cell_type": "code",
   "execution_count": 75,
   "id": "0776044c-362e-45ea-b108-47b8d60de843",
   "metadata": {
    "tags": []
   },
   "outputs": [
    {
     "data": {
      "text/plain": [
       "Current account balance                    3.33100\n",
       "General government net debt               38.67200\n",
       "General government total expenditure      26.86200\n",
       "Unemployment rate                         13.00000\n",
       "CPI                                     7481.69100\n",
       "CBI                                        0.81125\n",
       "dtype: float64"
      ]
     },
     "execution_count": 75,
     "metadata": {},
     "output_type": "execute_result"
    }
   ],
   "source": [
    "peru.max()"
   ]
  },
  {
   "cell_type": "code",
   "execution_count": 76,
   "id": "0276d2b6-f054-4903-ac43-ea690e5868ee",
   "metadata": {
    "tags": []
   },
   "outputs": [
    {
     "data": {
      "text/plain": [
       "Current account balance                 -9.67300\n",
       "General government net debt              1.49900\n",
       "General government total expenditure    18.59300\n",
       "Unemployment rate                        4.15600\n",
       "CPI                                      0.19200\n",
       "CBI                                      0.43875\n",
       "dtype: float64"
      ]
     },
     "execution_count": 76,
     "metadata": {},
     "output_type": "execute_result"
    }
   ],
   "source": [
    "peru.min()"
   ]
  },
  {
   "cell_type": "markdown",
   "id": "7e0f4b27-074d-4ba7-9fc1-39ae330d07e0",
   "metadata": {},
   "source": [
    "We can equally inspect it using the numpy library. We can use np.mean(), np.median() and stats.mode()"
   ]
  },
  {
   "cell_type": "code",
   "execution_count": 77,
   "id": "f39eedae-93ac-425f-aded-7509491830f2",
   "metadata": {
    "tags": []
   },
   "outputs": [
    {
     "name": "stdout",
     "output_type": "stream",
     "text": [
      "La media del saldo de cuenta corriente es -3.368333333333333\n",
      "La media de la deuda neta del gobierno general es 17.760636363636365\n",
      "La media del gasto total del gobierno general es 21.07018181818182\n",
      "La media de la tasa de desempleo es 7.779119047619046\n",
      "La media del IPC es 315.7951951219512\n",
      "La media del ICB es 0.7022256097560977\n"
     ]
    }
   ],
   "source": [
    "print(f'La media del saldo de cuenta corriente es {np.mean(peru[\"Current account balance\"])}')\n",
    "print(f'La media de la deuda neta del gobierno general es {np.mean(peru[\"General government net debt\"])}')\n",
    "print(f'La media del gasto total del gobierno general es {np.mean(peru[\"General government total expenditure\"])}')\n",
    "print(f'La media de la tasa de desempleo es {np.mean(peru[\"Unemployment rate\"])}')\n",
    "print(f'La media del IPC es {np.mean(peru[\"CPI\"])}')\n",
    "print(f'La media del ICB es {np.mean(peru[\"CBI\"])}')"
   ]
  },
  {
   "cell_type": "code",
   "execution_count": 78,
   "id": "53229bef-9cae-4cb4-a21e-47beab62ee70",
   "metadata": {
    "tags": []
   },
   "outputs": [
    {
     "name": "stdout",
     "output_type": "stream",
     "text": [
      "La mediana del saldo de cuenta corriente es -2.966\n",
      "La mediana de la deuda neta del gobierno general es nan\n",
      "La mediana del gasto total del gobierno general es nan\n",
      "La mediana de la tasa de desempleo es 7.8635\n",
      "La mediana del IPC es nan\n",
      "La mediana del ICB es nan\n"
     ]
    }
   ],
   "source": [
    "print(f'La mediana del saldo de cuenta corriente es {np.median(peru[\"Current account balance\"])}')\n",
    "print(f'La mediana de la deuda neta del gobierno general es {np.median(peru[\"General government net debt\"])}')\n",
    "print(f'La mediana del gasto total del gobierno general es {np.median(peru[\"General government total expenditure\"])}')\n",
    "print(f'La mediana de la tasa de desempleo es {np.median(peru[\"Unemployment rate\"])}')\n",
    "print(f'La mediana del IPC es {np.median(peru[\"CPI\"])}')\n",
    "print(f'La mediana del ICB es {np.median(peru[\"CBI\"])}')"
   ]
  },
  {
   "cell_type": "code",
   "execution_count": 79,
   "id": "a5f27015-805b-4e60-a3b9-0dee43e342da",
   "metadata": {
    "tags": []
   },
   "outputs": [
    {
     "name": "stdout",
     "output_type": "stream",
     "text": [
      "La moda del saldo de cuenta corriente es -9.673\n",
      "La moda de la deuda neta del gobierno general es nan\n",
      "La moda del gasto total del gobierno general es nan\n",
      "La moda de la tasa de desempleo es 9.4\n",
      "La moda del IPC es 0.192\n",
      "La moda del ICB es 0.81125\n"
     ]
    }
   ],
   "source": [
    "import warnings\n",
    "warnings.filterwarnings(\"ignore\")\n",
    "\n",
    "print(f'La moda del saldo de cuenta corriente es {stats.mode(peru[\"Current account balance\"])[0]}')\n",
    "print(f'La moda de la deuda neta del gobierno general es {stats.mode(peru[\"General government net debt\"])[0]}')\n",
    "print(f'La moda del gasto total del gobierno general es {stats.mode(peru[\"General government total expenditure\"])[0]}')\n",
    "print(f'La moda de la tasa de desempleo es {stats.mode(peru[\"Unemployment rate\"])[0]}')\n",
    "print(f'La moda del IPC es {stats.mode(peru[\"CPI\"])[0]}')\n",
    "print(f'La moda del ICB es {stats.mode(peru[\"CBI\"])[0]}')"
   ]
  },
  {
   "cell_type": "markdown",
   "id": "695b83fe-e28f-481f-b8d6-0e2c31b02b3f",
   "metadata": {},
   "source": [
    "### ¿Qué hacemos con los valores nans ?"
   ]
  },
  {
   "cell_type": "code",
   "execution_count": 80,
   "id": "739be4e7-ff66-41b8-b534-bad38884070c",
   "metadata": {},
   "outputs": [
    {
     "data": {
      "text/html": [
       "<div>\n",
       "<style scoped>\n",
       "    .dataframe tbody tr th:only-of-type {\n",
       "        vertical-align: middle;\n",
       "    }\n",
       "\n",
       "    .dataframe tbody tr th {\n",
       "        vertical-align: top;\n",
       "    }\n",
       "\n",
       "    .dataframe thead th {\n",
       "        text-align: right;\n",
       "    }\n",
       "</style>\n",
       "<table border=\"1\" class=\"dataframe\">\n",
       "  <thead>\n",
       "    <tr style=\"text-align: right;\">\n",
       "      <th></th>\n",
       "      <th>Current account balance</th>\n",
       "      <th>General government net debt</th>\n",
       "      <th>General government total expenditure</th>\n",
       "      <th>Unemployment rate</th>\n",
       "      <th>CPI</th>\n",
       "      <th>CBI</th>\n",
       "    </tr>\n",
       "    <tr>\n",
       "      <th>Year</th>\n",
       "      <th></th>\n",
       "      <th></th>\n",
       "      <th></th>\n",
       "      <th></th>\n",
       "      <th></th>\n",
       "      <th></th>\n",
       "    </tr>\n",
       "  </thead>\n",
       "  <tbody>\n",
       "    <tr>\n",
       "      <th>1980-01-01</th>\n",
       "      <td>-5.175</td>\n",
       "      <td>0.0</td>\n",
       "      <td>0.0</td>\n",
       "      <td>7.326</td>\n",
       "      <td>59.145</td>\n",
       "      <td>0.43875</td>\n",
       "    </tr>\n",
       "    <tr>\n",
       "      <th>1981-01-01</th>\n",
       "      <td>-9.673</td>\n",
       "      <td>0.0</td>\n",
       "      <td>0.0</td>\n",
       "      <td>6.800</td>\n",
       "      <td>75.433</td>\n",
       "      <td>0.43875</td>\n",
       "    </tr>\n",
       "    <tr>\n",
       "      <th>1982-01-01</th>\n",
       "      <td>-9.142</td>\n",
       "      <td>0.0</td>\n",
       "      <td>0.0</td>\n",
       "      <td>6.400</td>\n",
       "      <td>64.460</td>\n",
       "      <td>0.43875</td>\n",
       "    </tr>\n",
       "    <tr>\n",
       "      <th>1983-01-01</th>\n",
       "      <td>-6.842</td>\n",
       "      <td>0.0</td>\n",
       "      <td>0.0</td>\n",
       "      <td>9.000</td>\n",
       "      <td>111.149</td>\n",
       "      <td>0.43875</td>\n",
       "    </tr>\n",
       "    <tr>\n",
       "      <th>1984-01-01</th>\n",
       "      <td>-1.381</td>\n",
       "      <td>0.0</td>\n",
       "      <td>0.0</td>\n",
       "      <td>8.900</td>\n",
       "      <td>110.209</td>\n",
       "      <td>0.43875</td>\n",
       "    </tr>\n",
       "  </tbody>\n",
       "</table>\n",
       "</div>"
      ],
      "text/plain": [
       "            Current account balance  General government net debt  \\\n",
       "Year                                                               \n",
       "1980-01-01                   -5.175                          0.0   \n",
       "1981-01-01                   -9.673                          0.0   \n",
       "1982-01-01                   -9.142                          0.0   \n",
       "1983-01-01                   -6.842                          0.0   \n",
       "1984-01-01                   -1.381                          0.0   \n",
       "\n",
       "            General government total expenditure  Unemployment rate      CPI  \\\n",
       "Year                                                                           \n",
       "1980-01-01                                   0.0              7.326   59.145   \n",
       "1981-01-01                                   0.0              6.800   75.433   \n",
       "1982-01-01                                   0.0              6.400   64.460   \n",
       "1983-01-01                                   0.0              9.000  111.149   \n",
       "1984-01-01                                   0.0              8.900  110.209   \n",
       "\n",
       "                CBI  \n",
       "Year                 \n",
       "1980-01-01  0.43875  \n",
       "1981-01-01  0.43875  \n",
       "1982-01-01  0.43875  \n",
       "1983-01-01  0.43875  \n",
       "1984-01-01  0.43875  "
      ]
     },
     "execution_count": 80,
     "metadata": {},
     "output_type": "execute_result"
    }
   ],
   "source": [
    "# We can either fill them with 0s \n",
    "peru_filled = peru.fillna(0)\n",
    "peru_filled.head()"
   ]
  },
  {
   "cell_type": "code",
   "execution_count": 81,
   "id": "4cc19b00-af71-4ba0-8b6d-885e9ce51f8b",
   "metadata": {
    "tags": []
   },
   "outputs": [
    {
     "data": {
      "text/html": [
       "<div>\n",
       "<style scoped>\n",
       "    .dataframe tbody tr th:only-of-type {\n",
       "        vertical-align: middle;\n",
       "    }\n",
       "\n",
       "    .dataframe tbody tr th {\n",
       "        vertical-align: top;\n",
       "    }\n",
       "\n",
       "    .dataframe thead th {\n",
       "        text-align: right;\n",
       "    }\n",
       "</style>\n",
       "<table border=\"1\" class=\"dataframe\">\n",
       "  <thead>\n",
       "    <tr style=\"text-align: right;\">\n",
       "      <th></th>\n",
       "      <th>Current account balance</th>\n",
       "      <th>General government net debt</th>\n",
       "      <th>General government total expenditure</th>\n",
       "      <th>Unemployment rate</th>\n",
       "      <th>CPI</th>\n",
       "      <th>CBI</th>\n",
       "    </tr>\n",
       "    <tr>\n",
       "      <th>Year</th>\n",
       "      <th></th>\n",
       "      <th></th>\n",
       "      <th></th>\n",
       "      <th></th>\n",
       "      <th></th>\n",
       "      <th></th>\n",
       "    </tr>\n",
       "  </thead>\n",
       "  <tbody>\n",
       "    <tr>\n",
       "      <th>2000-01-01</th>\n",
       "      <td>-3.064</td>\n",
       "      <td>37.680</td>\n",
       "      <td>21.735</td>\n",
       "      <td>7.847</td>\n",
       "      <td>3.759</td>\n",
       "      <td>0.81125</td>\n",
       "    </tr>\n",
       "    <tr>\n",
       "      <th>2001-01-01</th>\n",
       "      <td>-2.351</td>\n",
       "      <td>37.060</td>\n",
       "      <td>20.934</td>\n",
       "      <td>9.246</td>\n",
       "      <td>1.975</td>\n",
       "      <td>0.81125</td>\n",
       "    </tr>\n",
       "    <tr>\n",
       "      <th>2002-01-01</th>\n",
       "      <td>-2.031</td>\n",
       "      <td>38.128</td>\n",
       "      <td>19.649</td>\n",
       "      <td>9.420</td>\n",
       "      <td>0.192</td>\n",
       "      <td>0.81125</td>\n",
       "    </tr>\n",
       "    <tr>\n",
       "      <th>2003-01-01</th>\n",
       "      <td>-1.592</td>\n",
       "      <td>38.672</td>\n",
       "      <td>20.113</td>\n",
       "      <td>9.424</td>\n",
       "      <td>2.261</td>\n",
       "      <td>0.81125</td>\n",
       "    </tr>\n",
       "    <tr>\n",
       "      <th>2004-01-01</th>\n",
       "      <td>0.094</td>\n",
       "      <td>34.958</td>\n",
       "      <td>19.558</td>\n",
       "      <td>9.436</td>\n",
       "      <td>3.662</td>\n",
       "      <td>0.81125</td>\n",
       "    </tr>\n",
       "  </tbody>\n",
       "</table>\n",
       "</div>"
      ],
      "text/plain": [
       "            Current account balance  General government net debt  \\\n",
       "Year                                                               \n",
       "2000-01-01                   -3.064                       37.680   \n",
       "2001-01-01                   -2.351                       37.060   \n",
       "2002-01-01                   -2.031                       38.128   \n",
       "2003-01-01                   -1.592                       38.672   \n",
       "2004-01-01                    0.094                       34.958   \n",
       "\n",
       "            General government total expenditure  Unemployment rate    CPI  \\\n",
       "Year                                                                         \n",
       "2000-01-01                                21.735              7.847  3.759   \n",
       "2001-01-01                                20.934              9.246  1.975   \n",
       "2002-01-01                                19.649              9.420  0.192   \n",
       "2003-01-01                                20.113              9.424  2.261   \n",
       "2004-01-01                                19.558              9.436  3.662   \n",
       "\n",
       "                CBI  \n",
       "Year                 \n",
       "2000-01-01  0.81125  \n",
       "2001-01-01  0.81125  \n",
       "2002-01-01  0.81125  \n",
       "2003-01-01  0.81125  \n",
       "2004-01-01  0.81125  "
      ]
     },
     "execution_count": 81,
     "metadata": {},
     "output_type": "execute_result"
    }
   ],
   "source": [
    "# Or drop the observations with nans\n",
    "peru_dropped = peru.dropna()\n",
    "peru_dropped.head()"
   ]
  },
  {
   "cell_type": "code",
   "execution_count": 82,
   "id": "b4befeba",
   "metadata": {},
   "outputs": [
    {
     "data": {
      "text/html": [
       "<div>\n",
       "<style scoped>\n",
       "    .dataframe tbody tr th:only-of-type {\n",
       "        vertical-align: middle;\n",
       "    }\n",
       "\n",
       "    .dataframe tbody tr th {\n",
       "        vertical-align: top;\n",
       "    }\n",
       "\n",
       "    .dataframe thead th {\n",
       "        text-align: right;\n",
       "    }\n",
       "</style>\n",
       "<table border=\"1\" class=\"dataframe\">\n",
       "  <thead>\n",
       "    <tr style=\"text-align: right;\">\n",
       "      <th></th>\n",
       "      <th>Current account balance</th>\n",
       "      <th>General government net debt</th>\n",
       "      <th>General government total expenditure</th>\n",
       "      <th>Unemployment rate</th>\n",
       "      <th>CPI</th>\n",
       "      <th>CBI</th>\n",
       "    </tr>\n",
       "    <tr>\n",
       "      <th>Year</th>\n",
       "      <th></th>\n",
       "      <th></th>\n",
       "      <th></th>\n",
       "      <th></th>\n",
       "      <th></th>\n",
       "      <th></th>\n",
       "    </tr>\n",
       "  </thead>\n",
       "  <tbody>\n",
       "    <tr>\n",
       "      <th>1980-01-01</th>\n",
       "      <td>-5.175</td>\n",
       "      <td>NaN</td>\n",
       "      <td>NaN</td>\n",
       "      <td>7.326</td>\n",
       "      <td>59.145</td>\n",
       "      <td>0.43875</td>\n",
       "    </tr>\n",
       "    <tr>\n",
       "      <th>1981-01-01</th>\n",
       "      <td>-9.673</td>\n",
       "      <td>NaN</td>\n",
       "      <td>NaN</td>\n",
       "      <td>6.800</td>\n",
       "      <td>75.433</td>\n",
       "      <td>0.43875</td>\n",
       "    </tr>\n",
       "    <tr>\n",
       "      <th>1982-01-01</th>\n",
       "      <td>-9.142</td>\n",
       "      <td>NaN</td>\n",
       "      <td>NaN</td>\n",
       "      <td>6.400</td>\n",
       "      <td>64.460</td>\n",
       "      <td>0.43875</td>\n",
       "    </tr>\n",
       "    <tr>\n",
       "      <th>1983-01-01</th>\n",
       "      <td>-6.842</td>\n",
       "      <td>NaN</td>\n",
       "      <td>NaN</td>\n",
       "      <td>9.000</td>\n",
       "      <td>111.149</td>\n",
       "      <td>0.43875</td>\n",
       "    </tr>\n",
       "    <tr>\n",
       "      <th>1984-01-01</th>\n",
       "      <td>-1.381</td>\n",
       "      <td>NaN</td>\n",
       "      <td>NaN</td>\n",
       "      <td>8.900</td>\n",
       "      <td>110.209</td>\n",
       "      <td>0.43875</td>\n",
       "    </tr>\n",
       "  </tbody>\n",
       "</table>\n",
       "</div>"
      ],
      "text/plain": [
       "            Current account balance  General government net debt  \\\n",
       "Year                                                               \n",
       "1980-01-01                   -5.175                          NaN   \n",
       "1981-01-01                   -9.673                          NaN   \n",
       "1982-01-01                   -9.142                          NaN   \n",
       "1983-01-01                   -6.842                          NaN   \n",
       "1984-01-01                   -1.381                          NaN   \n",
       "\n",
       "            General government total expenditure  Unemployment rate      CPI  \\\n",
       "Year                                                                           \n",
       "1980-01-01                                   NaN              7.326   59.145   \n",
       "1981-01-01                                   NaN              6.800   75.433   \n",
       "1982-01-01                                   NaN              6.400   64.460   \n",
       "1983-01-01                                   NaN              9.000  111.149   \n",
       "1984-01-01                                   NaN              8.900  110.209   \n",
       "\n",
       "                CBI  \n",
       "Year                 \n",
       "1980-01-01  0.43875  \n",
       "1981-01-01  0.43875  \n",
       "1982-01-01  0.43875  \n",
       "1983-01-01  0.43875  \n",
       "1984-01-01  0.43875  "
      ]
     },
     "execution_count": 82,
     "metadata": {},
     "output_type": "execute_result"
    }
   ],
   "source": [
    "# We can't use interpolate because of the large number of missing values at the beggining of the dataset\n",
    "peru_interpolated = peru.interpolate(method='nearest').head()\n",
    "peru_interpolated.head()"
   ]
  },
  {
   "cell_type": "code",
   "execution_count": 83,
   "id": "3a2e5a8f-296f-456b-9f08-f1d56ebca141",
   "metadata": {
    "tags": []
   },
   "outputs": [
    {
     "data": {
      "text/html": [
       "<div>\n",
       "<style scoped>\n",
       "    .dataframe tbody tr th:only-of-type {\n",
       "        vertical-align: middle;\n",
       "    }\n",
       "\n",
       "    .dataframe tbody tr th {\n",
       "        vertical-align: top;\n",
       "    }\n",
       "\n",
       "    .dataframe thead th {\n",
       "        text-align: right;\n",
       "    }\n",
       "</style>\n",
       "<table border=\"1\" class=\"dataframe\">\n",
       "  <thead>\n",
       "    <tr style=\"text-align: right;\">\n",
       "      <th></th>\n",
       "      <th>Current account balance</th>\n",
       "      <th>General government net debt</th>\n",
       "      <th>General government total expenditure</th>\n",
       "      <th>Unemployment rate</th>\n",
       "      <th>CPI</th>\n",
       "      <th>CBI</th>\n",
       "    </tr>\n",
       "  </thead>\n",
       "  <tbody>\n",
       "    <tr>\n",
       "      <th>count</th>\n",
       "      <td>21.000000</td>\n",
       "      <td>21.000000</td>\n",
       "      <td>21.000000</td>\n",
       "      <td>21.000000</td>\n",
       "      <td>21.000000</td>\n",
       "      <td>2.100000e+01</td>\n",
       "    </tr>\n",
       "    <tr>\n",
       "      <th>mean</th>\n",
       "      <td>-1.538429</td>\n",
       "      <td>17.664095</td>\n",
       "      <td>20.952190</td>\n",
       "      <td>8.064381</td>\n",
       "      <td>2.657238</td>\n",
       "      <td>8.112500e-01</td>\n",
       "    </tr>\n",
       "    <tr>\n",
       "      <th>std</th>\n",
       "      <td>2.203459</td>\n",
       "      <td>13.400022</td>\n",
       "      <td>1.690879</td>\n",
       "      <td>1.653685</td>\n",
       "      <td>1.197392</td>\n",
       "      <td>1.137640e-16</td>\n",
       "    </tr>\n",
       "    <tr>\n",
       "      <th>min</th>\n",
       "      <td>-4.814000</td>\n",
       "      <td>1.499000</td>\n",
       "      <td>18.593000</td>\n",
       "      <td>5.938000</td>\n",
       "      <td>0.192000</td>\n",
       "      <td>8.112500e-01</td>\n",
       "    </tr>\n",
       "    <tr>\n",
       "      <th>25%</th>\n",
       "      <td>-2.868000</td>\n",
       "      <td>6.912000</td>\n",
       "      <td>19.831000</td>\n",
       "      <td>6.742000</td>\n",
       "      <td>1.827000</td>\n",
       "      <td>8.112500e-01</td>\n",
       "    </tr>\n",
       "    <tr>\n",
       "      <th>50%</th>\n",
       "      <td>-1.975000</td>\n",
       "      <td>12.175000</td>\n",
       "      <td>20.946000</td>\n",
       "      <td>7.880000</td>\n",
       "      <td>2.804000</td>\n",
       "      <td>8.112500e-01</td>\n",
       "    </tr>\n",
       "    <tr>\n",
       "      <th>75%</th>\n",
       "      <td>-0.520000</td>\n",
       "      <td>31.966000</td>\n",
       "      <td>21.352000</td>\n",
       "      <td>9.246000</td>\n",
       "      <td>3.548000</td>\n",
       "      <td>8.112500e-01</td>\n",
       "    </tr>\n",
       "    <tr>\n",
       "      <th>max</th>\n",
       "      <td>3.331000</td>\n",
       "      <td>38.672000</td>\n",
       "      <td>26.862000</td>\n",
       "      <td>13.000000</td>\n",
       "      <td>5.788000</td>\n",
       "      <td>8.112500e-01</td>\n",
       "    </tr>\n",
       "  </tbody>\n",
       "</table>\n",
       "</div>"
      ],
      "text/plain": [
       "       Current account balance  General government net debt  \\\n",
       "count                21.000000                    21.000000   \n",
       "mean                 -1.538429                    17.664095   \n",
       "std                   2.203459                    13.400022   \n",
       "min                  -4.814000                     1.499000   \n",
       "25%                  -2.868000                     6.912000   \n",
       "50%                  -1.975000                    12.175000   \n",
       "75%                  -0.520000                    31.966000   \n",
       "max                   3.331000                    38.672000   \n",
       "\n",
       "       General government total expenditure  Unemployment rate        CPI  \\\n",
       "count                             21.000000          21.000000  21.000000   \n",
       "mean                              20.952190           8.064381   2.657238   \n",
       "std                                1.690879           1.653685   1.197392   \n",
       "min                               18.593000           5.938000   0.192000   \n",
       "25%                               19.831000           6.742000   1.827000   \n",
       "50%                               20.946000           7.880000   2.804000   \n",
       "75%                               21.352000           9.246000   3.548000   \n",
       "max                               26.862000          13.000000   5.788000   \n",
       "\n",
       "                CBI  \n",
       "count  2.100000e+01  \n",
       "mean   8.112500e-01  \n",
       "std    1.137640e-16  \n",
       "min    8.112500e-01  \n",
       "25%    8.112500e-01  \n",
       "50%    8.112500e-01  \n",
       "75%    8.112500e-01  \n",
       "max    8.112500e-01  "
      ]
     },
     "execution_count": 83,
     "metadata": {},
     "output_type": "execute_result"
    }
   ],
   "source": [
    "peru_dropped.describe()"
   ]
  },
  {
   "cell_type": "code",
   "execution_count": 84,
   "id": "1e64273f-2c11-4b63-94f0-4f18213a9832",
   "metadata": {
    "tags": []
   },
   "outputs": [
    {
     "data": {
      "text/html": [
       "<div>\n",
       "<style scoped>\n",
       "    .dataframe tbody tr th:only-of-type {\n",
       "        vertical-align: middle;\n",
       "    }\n",
       "\n",
       "    .dataframe tbody tr th {\n",
       "        vertical-align: top;\n",
       "    }\n",
       "\n",
       "    .dataframe thead th {\n",
       "        text-align: right;\n",
       "    }\n",
       "</style>\n",
       "<table border=\"1\" class=\"dataframe\">\n",
       "  <thead>\n",
       "    <tr style=\"text-align: right;\">\n",
       "      <th></th>\n",
       "      <th>Current account balance</th>\n",
       "      <th>General government net debt</th>\n",
       "      <th>General government total expenditure</th>\n",
       "      <th>Unemployment rate</th>\n",
       "      <th>CPI</th>\n",
       "      <th>CBI</th>\n",
       "    </tr>\n",
       "  </thead>\n",
       "  <tbody>\n",
       "    <tr>\n",
       "      <th>count</th>\n",
       "      <td>42.000000</td>\n",
       "      <td>42.000000</td>\n",
       "      <td>42.000000</td>\n",
       "      <td>42.000000</td>\n",
       "      <td>42.000000</td>\n",
       "      <td>42.000000</td>\n",
       "    </tr>\n",
       "    <tr>\n",
       "      <th>mean</th>\n",
       "      <td>-3.368333</td>\n",
       "      <td>9.303190</td>\n",
       "      <td>11.036762</td>\n",
       "      <td>7.779119</td>\n",
       "      <td>308.276262</td>\n",
       "      <td>0.685506</td>\n",
       "    </tr>\n",
       "    <tr>\n",
       "      <th>std</th>\n",
       "      <td>3.052220</td>\n",
       "      <td>12.972889</td>\n",
       "      <td>10.723288</td>\n",
       "      <td>1.752538</td>\n",
       "      <td>1251.651998</td>\n",
       "      <td>0.201162</td>\n",
       "    </tr>\n",
       "    <tr>\n",
       "      <th>min</th>\n",
       "      <td>-9.673000</td>\n",
       "      <td>0.000000</td>\n",
       "      <td>0.000000</td>\n",
       "      <td>4.156000</td>\n",
       "      <td>0.000000</td>\n",
       "      <td>0.000000</td>\n",
       "    </tr>\n",
       "    <tr>\n",
       "      <th>25%</th>\n",
       "      <td>-5.428250</td>\n",
       "      <td>0.000000</td>\n",
       "      <td>0.000000</td>\n",
       "      <td>6.710500</td>\n",
       "      <td>2.396750</td>\n",
       "      <td>0.438750</td>\n",
       "    </tr>\n",
       "    <tr>\n",
       "      <th>50%</th>\n",
       "      <td>-2.966000</td>\n",
       "      <td>2.088000</td>\n",
       "      <td>18.877500</td>\n",
       "      <td>7.863500</td>\n",
       "      <td>3.710500</td>\n",
       "      <td>0.811250</td>\n",
       "    </tr>\n",
       "    <tr>\n",
       "      <th>75%</th>\n",
       "      <td>-1.285000</td>\n",
       "      <td>12.829750</td>\n",
       "      <td>20.949750</td>\n",
       "      <td>8.975000</td>\n",
       "      <td>71.261750</td>\n",
       "      <td>0.811250</td>\n",
       "    </tr>\n",
       "    <tr>\n",
       "      <th>max</th>\n",
       "      <td>3.331000</td>\n",
       "      <td>38.672000</td>\n",
       "      <td>26.862000</td>\n",
       "      <td>13.000000</td>\n",
       "      <td>7481.691000</td>\n",
       "      <td>0.811250</td>\n",
       "    </tr>\n",
       "  </tbody>\n",
       "</table>\n",
       "</div>"
      ],
      "text/plain": [
       "       Current account balance  General government net debt  \\\n",
       "count                42.000000                    42.000000   \n",
       "mean                 -3.368333                     9.303190   \n",
       "std                   3.052220                    12.972889   \n",
       "min                  -9.673000                     0.000000   \n",
       "25%                  -5.428250                     0.000000   \n",
       "50%                  -2.966000                     2.088000   \n",
       "75%                  -1.285000                    12.829750   \n",
       "max                   3.331000                    38.672000   \n",
       "\n",
       "       General government total expenditure  Unemployment rate          CPI  \\\n",
       "count                             42.000000          42.000000    42.000000   \n",
       "mean                              11.036762           7.779119   308.276262   \n",
       "std                               10.723288           1.752538  1251.651998   \n",
       "min                                0.000000           4.156000     0.000000   \n",
       "25%                                0.000000           6.710500     2.396750   \n",
       "50%                               18.877500           7.863500     3.710500   \n",
       "75%                               20.949750           8.975000    71.261750   \n",
       "max                               26.862000          13.000000  7481.691000   \n",
       "\n",
       "             CBI  \n",
       "count  42.000000  \n",
       "mean    0.685506  \n",
       "std     0.201162  \n",
       "min     0.000000  \n",
       "25%     0.438750  \n",
       "50%     0.811250  \n",
       "75%     0.811250  \n",
       "max     0.811250  "
      ]
     },
     "execution_count": 84,
     "metadata": {},
     "output_type": "execute_result"
    }
   ],
   "source": [
    "peru_filled.describe()"
   ]
  },
  {
   "cell_type": "markdown",
   "id": "04078b1a",
   "metadata": {},
   "source": [
    "# <a href='#t2'>12. Probabilidades</a>"
   ]
  },
  {
   "cell_type": "markdown",
   "id": "9b413c00",
   "metadata": {},
   "source": [
    "## <a id='2.1.'> 12.1 Calculando probabilidades </a> \n",
    "Analizamos el dataframe de negocios, que muestra los negocios que un empleado hizo con diferentes clientes durante el último año. Contiene la siguiente información:\n",
    "- producto: producto del negocio\n",
    "- cliente: Nuevo o Actual\n",
    "- estado: Ganado o Perdido\n",
    "- monto: monto del negocio\n",
    "- num_usuarios: número de usuarios del producto\n",
    "\n",
    "Calculemos la probabilidad de seleccionar un negocio para los diferentes tipos de productos.\n"
   ]
  },
  {
   "cell_type": "code",
   "execution_count": 85,
   "id": "3723bb84",
   "metadata": {},
   "outputs": [
    {
     "data": {
      "text/html": [
       "<div>\n",
       "<style scoped>\n",
       "    .dataframe tbody tr th:only-of-type {\n",
       "        vertical-align: middle;\n",
       "    }\n",
       "\n",
       "    .dataframe tbody tr th {\n",
       "        vertical-align: top;\n",
       "    }\n",
       "\n",
       "    .dataframe thead th {\n",
       "        text-align: right;\n",
       "    }\n",
       "</style>\n",
       "<table border=\"1\" class=\"dataframe\">\n",
       "  <thead>\n",
       "    <tr style=\"text-align: right;\">\n",
       "      <th></th>\n",
       "      <th>product</th>\n",
       "      <th>client</th>\n",
       "      <th>status</th>\n",
       "      <th>amount</th>\n",
       "      <th>num_users</th>\n",
       "    </tr>\n",
       "  </thead>\n",
       "  <tbody>\n",
       "    <tr>\n",
       "      <th>0</th>\n",
       "      <td>Product F</td>\n",
       "      <td>Current</td>\n",
       "      <td>Won</td>\n",
       "      <td>7389.52</td>\n",
       "      <td>19</td>\n",
       "    </tr>\n",
       "    <tr>\n",
       "      <th>1</th>\n",
       "      <td>Product C</td>\n",
       "      <td>New</td>\n",
       "      <td>Won</td>\n",
       "      <td>4493.01</td>\n",
       "      <td>43</td>\n",
       "    </tr>\n",
       "    <tr>\n",
       "      <th>2</th>\n",
       "      <td>Product B</td>\n",
       "      <td>New</td>\n",
       "      <td>Won</td>\n",
       "      <td>5738.09</td>\n",
       "      <td>87</td>\n",
       "    </tr>\n",
       "    <tr>\n",
       "      <th>3</th>\n",
       "      <td>Product I</td>\n",
       "      <td>Current</td>\n",
       "      <td>Won</td>\n",
       "      <td>2591.24</td>\n",
       "      <td>83</td>\n",
       "    </tr>\n",
       "    <tr>\n",
       "      <th>4</th>\n",
       "      <td>Product E</td>\n",
       "      <td>Current</td>\n",
       "      <td>Won</td>\n",
       "      <td>6622.97</td>\n",
       "      <td>17</td>\n",
       "    </tr>\n",
       "  </tbody>\n",
       "</table>\n",
       "</div>"
      ],
      "text/plain": [
       "     product   client status   amount  num_users\n",
       "0  Product F  Current    Won  7389.52         19\n",
       "1  Product C      New    Won  4493.01         43\n",
       "2  Product B      New    Won  5738.09         87\n",
       "3  Product I  Current    Won  2591.24         83\n",
       "4  Product E  Current    Won  6622.97         17"
      ]
     },
     "execution_count": 85,
     "metadata": {},
     "output_type": "execute_result"
    }
   ],
   "source": [
    ">>> deals = pd.read_csv('../Datasets/deals.csv')\n",
    ">>> deals.head()"
   ]
  },
  {
   "cell_type": "code",
   "execution_count": 86,
   "id": "a2bf4068",
   "metadata": {},
   "outputs": [
    {
     "data": {
      "text/plain": [
       "product\n",
       "Product B    62\n",
       "Product D    40\n",
       "Product A    23\n",
       "Product C    15\n",
       "Product F    11\n",
       "Product H     8\n",
       "Product I     7\n",
       "Product E     5\n",
       "Product N     3\n",
       "Product G     2\n",
       "Product J     2\n",
       "Name: count, dtype: int64"
      ]
     },
     "execution_count": 86,
     "metadata": {},
     "output_type": "execute_result"
    }
   ],
   "source": [
    "# We first count the number of deals with each product\n",
    "counts = deals['product'].value_counts()\n",
    "counts"
   ]
  },
  {
   "cell_type": "code",
   "execution_count": 87,
   "id": "51ae1c2b",
   "metadata": {},
   "outputs": [
    {
     "name": "stdout",
     "output_type": "stream",
     "text": [
      "product\n",
      "Product B    0.348315\n",
      "Product D    0.224719\n",
      "Product A    0.129213\n",
      "Product C    0.084270\n",
      "Product F    0.061798\n",
      "Product H    0.044944\n",
      "Product I    0.039326\n",
      "Product E    0.028090\n",
      "Product N    0.016854\n",
      "Product G    0.011236\n",
      "Product J    0.011236\n",
      "Name: count, dtype: float64\n"
     ]
    }
   ],
   "source": [
    "# We calculate probability of picking a deal with each product\n",
    "probs = counts / counts.sum()\n",
    "print(probs)"
   ]
  },
  {
   "cell_type": "code",
   "execution_count": 88,
   "id": "929ab5f4",
   "metadata": {},
   "outputs": [
    {
     "data": {
      "text/plain": [
       "np.float64(1.0)"
      ]
     },
     "execution_count": 88,
     "metadata": {},
     "output_type": "execute_result"
    }
   ],
   "source": [
    "# We sum the probabilities and get 1 or 100% \n",
    "round(probs.sum(), 2)"
   ]
  },
  {
   "cell_type": "markdown",
   "id": "f7940151",
   "metadata": {},
   "source": [
    "## <a id='2.2.'> 12.2 Muestreo </a> \n",
    "Supongamos que queremos seleccionar aleatoriamente diez negocios para poder comunicarnos con cada cliente y preguntarles si estaban satisfechos con el servicio que recibieron. Vamos a realizar un muestreo tanto con reemplazo como sin reemplazo utilizando el método ```sample```."
   ]
  },
  {
   "cell_type": "code",
   "execution_count": 89,
   "id": "07b3f9a5",
   "metadata": {},
   "outputs": [],
   "source": [
    "# We set a random seed so we can repeat the experiment\n",
    "np.random.seed(42)"
   ]
  },
  {
   "cell_type": "code",
   "execution_count": 90,
   "id": "2b64fcde",
   "metadata": {},
   "outputs": [
    {
     "data": {
      "text/html": [
       "<div>\n",
       "<style scoped>\n",
       "    .dataframe tbody tr th:only-of-type {\n",
       "        vertical-align: middle;\n",
       "    }\n",
       "\n",
       "    .dataframe tbody tr th {\n",
       "        vertical-align: top;\n",
       "    }\n",
       "\n",
       "    .dataframe thead th {\n",
       "        text-align: right;\n",
       "    }\n",
       "</style>\n",
       "<table border=\"1\" class=\"dataframe\">\n",
       "  <thead>\n",
       "    <tr style=\"text-align: right;\">\n",
       "      <th></th>\n",
       "      <th>product</th>\n",
       "      <th>client</th>\n",
       "      <th>status</th>\n",
       "      <th>amount</th>\n",
       "      <th>num_users</th>\n",
       "    </tr>\n",
       "  </thead>\n",
       "  <tbody>\n",
       "    <tr>\n",
       "      <th>19</th>\n",
       "      <td>Product I</td>\n",
       "      <td>Current</td>\n",
       "      <td>Won</td>\n",
       "      <td>3220.45</td>\n",
       "      <td>45</td>\n",
       "    </tr>\n",
       "    <tr>\n",
       "      <th>45</th>\n",
       "      <td>Product B</td>\n",
       "      <td>Current</td>\n",
       "      <td>Won</td>\n",
       "      <td>8614.12</td>\n",
       "      <td>17</td>\n",
       "    </tr>\n",
       "    <tr>\n",
       "      <th>140</th>\n",
       "      <td>Product B</td>\n",
       "      <td>Current</td>\n",
       "      <td>Lost</td>\n",
       "      <td>5856.18</td>\n",
       "      <td>45</td>\n",
       "    </tr>\n",
       "    <tr>\n",
       "      <th>30</th>\n",
       "      <td>Product C</td>\n",
       "      <td>New</td>\n",
       "      <td>Won</td>\n",
       "      <td>6151.14</td>\n",
       "      <td>66</td>\n",
       "    </tr>\n",
       "    <tr>\n",
       "      <th>67</th>\n",
       "      <td>Product B</td>\n",
       "      <td>Current</td>\n",
       "      <td>Won</td>\n",
       "      <td>4571.26</td>\n",
       "      <td>19</td>\n",
       "    </tr>\n",
       "    <tr>\n",
       "      <th>16</th>\n",
       "      <td>Product D</td>\n",
       "      <td>Current</td>\n",
       "      <td>Won</td>\n",
       "      <td>5282.57</td>\n",
       "      <td>58</td>\n",
       "    </tr>\n",
       "    <tr>\n",
       "      <th>119</th>\n",
       "      <td>Product B</td>\n",
       "      <td>Current</td>\n",
       "      <td>Won</td>\n",
       "      <td>1597.44</td>\n",
       "      <td>37</td>\n",
       "    </tr>\n",
       "    <tr>\n",
       "      <th>174</th>\n",
       "      <td>Product D</td>\n",
       "      <td>Current</td>\n",
       "      <td>Won</td>\n",
       "      <td>6377.50</td>\n",
       "      <td>12</td>\n",
       "    </tr>\n",
       "    <tr>\n",
       "      <th>109</th>\n",
       "      <td>Product H</td>\n",
       "      <td>Current</td>\n",
       "      <td>Won</td>\n",
       "      <td>5257.16</td>\n",
       "      <td>22</td>\n",
       "    </tr>\n",
       "    <tr>\n",
       "      <th>141</th>\n",
       "      <td>Product B</td>\n",
       "      <td>Current</td>\n",
       "      <td>Won</td>\n",
       "      <td>4795.64</td>\n",
       "      <td>8</td>\n",
       "    </tr>\n",
       "  </tbody>\n",
       "</table>\n",
       "</div>"
      ],
      "text/plain": [
       "       product   client status   amount  num_users\n",
       "19   Product I  Current    Won  3220.45         45\n",
       "45   Product B  Current    Won  8614.12         17\n",
       "140  Product B  Current   Lost  5856.18         45\n",
       "30   Product C      New    Won  6151.14         66\n",
       "67   Product B  Current    Won  4571.26         19\n",
       "16   Product D  Current    Won  5282.57         58\n",
       "119  Product B  Current    Won  1597.44         37\n",
       "174  Product D  Current    Won  6377.50         12\n",
       "109  Product H  Current    Won  5257.16         22\n",
       "141  Product B  Current    Won  4795.64          8"
      ]
     },
     "execution_count": 90,
     "metadata": {},
     "output_type": "execute_result"
    }
   ],
   "source": [
    "sample_without_replacement = deals.sample(10, replace = False)\n",
    "sample_without_replacement"
   ]
  },
  {
   "cell_type": "code",
   "execution_count": 91,
   "id": "6a230519",
   "metadata": {},
   "outputs": [
    {
     "data": {
      "text/html": [
       "<div>\n",
       "<style scoped>\n",
       "    .dataframe tbody tr th:only-of-type {\n",
       "        vertical-align: middle;\n",
       "    }\n",
       "\n",
       "    .dataframe tbody tr th {\n",
       "        vertical-align: top;\n",
       "    }\n",
       "\n",
       "    .dataframe thead th {\n",
       "        text-align: right;\n",
       "    }\n",
       "</style>\n",
       "<table border=\"1\" class=\"dataframe\">\n",
       "  <thead>\n",
       "    <tr style=\"text-align: right;\">\n",
       "      <th></th>\n",
       "      <th>product</th>\n",
       "      <th>client</th>\n",
       "      <th>status</th>\n",
       "      <th>amount</th>\n",
       "      <th>num_users</th>\n",
       "    </tr>\n",
       "  </thead>\n",
       "  <tbody>\n",
       "    <tr>\n",
       "      <th>102</th>\n",
       "      <td>Product D</td>\n",
       "      <td>New</td>\n",
       "      <td>Lost</td>\n",
       "      <td>1196.53</td>\n",
       "      <td>63</td>\n",
       "    </tr>\n",
       "    <tr>\n",
       "      <th>92</th>\n",
       "      <td>Product A</td>\n",
       "      <td>Current</td>\n",
       "      <td>Won</td>\n",
       "      <td>4509.96</td>\n",
       "      <td>92</td>\n",
       "    </tr>\n",
       "    <tr>\n",
       "      <th>14</th>\n",
       "      <td>Product B</td>\n",
       "      <td>Current</td>\n",
       "      <td>Lost</td>\n",
       "      <td>7030.54</td>\n",
       "      <td>41</td>\n",
       "    </tr>\n",
       "    <tr>\n",
       "      <th>106</th>\n",
       "      <td>Product H</td>\n",
       "      <td>Current</td>\n",
       "      <td>Won</td>\n",
       "      <td>4547.97</td>\n",
       "      <td>13</td>\n",
       "    </tr>\n",
       "    <tr>\n",
       "      <th>71</th>\n",
       "      <td>Product A</td>\n",
       "      <td>Current</td>\n",
       "      <td>Won</td>\n",
       "      <td>5945.63</td>\n",
       "      <td>55</td>\n",
       "    </tr>\n",
       "    <tr>\n",
       "      <th>20</th>\n",
       "      <td>Product F</td>\n",
       "      <td>Current</td>\n",
       "      <td>Lost</td>\n",
       "      <td>6849.12</td>\n",
       "      <td>19</td>\n",
       "    </tr>\n",
       "    <tr>\n",
       "      <th>102</th>\n",
       "      <td>Product D</td>\n",
       "      <td>New</td>\n",
       "      <td>Lost</td>\n",
       "      <td>1196.53</td>\n",
       "      <td>63</td>\n",
       "    </tr>\n",
       "    <tr>\n",
       "      <th>121</th>\n",
       "      <td>Product B</td>\n",
       "      <td>Current</td>\n",
       "      <td>Won</td>\n",
       "      <td>4831.73</td>\n",
       "      <td>12</td>\n",
       "    </tr>\n",
       "    <tr>\n",
       "      <th>74</th>\n",
       "      <td>Product D</td>\n",
       "      <td>Current</td>\n",
       "      <td>Lost</td>\n",
       "      <td>4274.80</td>\n",
       "      <td>9</td>\n",
       "    </tr>\n",
       "    <tr>\n",
       "      <th>87</th>\n",
       "      <td>Product C</td>\n",
       "      <td>Current</td>\n",
       "      <td>Won</td>\n",
       "      <td>3579.63</td>\n",
       "      <td>3</td>\n",
       "    </tr>\n",
       "  </tbody>\n",
       "</table>\n",
       "</div>"
      ],
      "text/plain": [
       "       product   client status   amount  num_users\n",
       "102  Product D      New   Lost  1196.53         63\n",
       "92   Product A  Current    Won  4509.96         92\n",
       "14   Product B  Current   Lost  7030.54         41\n",
       "106  Product H  Current    Won  4547.97         13\n",
       "71   Product A  Current    Won  5945.63         55\n",
       "20   Product F  Current   Lost  6849.12         19\n",
       "102  Product D      New   Lost  1196.53         63\n",
       "121  Product B  Current    Won  4831.73         12\n",
       "74   Product D  Current   Lost  4274.80          9\n",
       "87   Product C  Current    Won  3579.63          3"
      ]
     },
     "execution_count": 91,
     "metadata": {},
     "output_type": "execute_result"
    }
   ],
   "source": [
    "# We set a random seed so we can repeat the experiment\n",
    "np.random.seed(42)\n",
    "\n",
    "# We sample 10 deals with replacement\n",
    "sample_with_replacement = deals.sample(10, replace = True)\n",
    "sample_with_replacement"
   ]
  },
  {
   "cell_type": "markdown",
   "id": "b94a896b",
   "metadata": {},
   "source": [
    "Dado que queremos obtener el mayor número posible de opiniones variadas, en este ejemplo, sería mejor hacer un muestreo sin reemplazo.\n"
   ]
  },
  {
   "cell_type": "markdown",
   "id": "307106c3",
   "metadata": {},
   "source": [
    "# <a id='t3'>13. Distribuciones usando scipy.stats</a>\n"
   ]
  },
  {
   "cell_type": "markdown",
   "id": "73e363b9",
   "metadata": {},
   "source": [
    "Más información de scipy.stats: https://docs.scipy.org/doc/scipy/reference/stats.html"
   ]
  },
  {
   "cell_type": "markdown",
   "id": "72ef9ff8",
   "metadata": {},
   "source": [
    "## <a id='3.1.'> 13.1 Distribuciones de probabilidad discretas </a> \n",
    "Una distribución de probabilidad es una función matemática que describe la probabilidad de obtener diferentes resultados posibles en un experimento o proceso aleatorio. Proporciona una forma de modelar la incertidumbre y la aleatoriedad en varios campos como la estadística, la teoría de probabilidades y el aprendizaje automático. Las distribuciones de probabilidad pueden ser discretas o continuas, dependiendo de la naturaleza de la variable aleatoria que describen. Veremos distribuciones discretas. Primero, con un ejemplo de una distribución empírica y luego, una distribución uniforme de dados.\n"
   ]
  },
  {
   "cell_type": "markdown",
   "id": "419f3406",
   "metadata": {},
   "source": [
    "### <a id='3.1.1'> Distribución empírica discreta </a>  \n"
   ]
  },
  {
   "cell_type": "code",
   "execution_count": 92,
   "id": "b88ee41d",
   "metadata": {},
   "outputs": [],
   "source": [
    "data = {'group_id': ['A', 'B', 'C', 'D', 'E', 'F', 'G', 'H', 'I', 'J', 'K', 'L'],\n",
    "        'group_size': [3, 5, 6, 2, 4, 2, 3, 2, 5, 2, 3, 7]}\n",
    "\n",
    "data = pd.DataFrame(data)"
   ]
  },
  {
   "cell_type": "markdown",
   "id": "4c913e8b",
   "metadata": {},
   "source": [
    "Supongamos que tenemos 12 grupos diferentes y queremos seleccionarlos aleatoriamente. Veamos la distribución de probabilidad de que se elijan grupos de diferentes tamaños.\n",
    "\n",
    "Primero, creamos un histograma de la columna `group_size` para ver cómo está distribuida. Podemos ver que la mayoría de los grupos consisten en solo 2 o 3 personas."
   ]
  },
  {
   "cell_type": "code",
   "execution_count": 93,
   "id": "cdb215a2",
   "metadata": {},
   "outputs": [
    {
     "data": {
      "image/png": "[encoded data removed]",
      "text/plain": [
       "<Figure size 640x480 with 1 Axes>"
      ]
     },
     "metadata": {},
     "output_type": "display_data"
    }
   ],
   "source": [
    "data['group_size'].hist(bins = [2, 3, 4, 5, 6, 7, 8])\n",
    "plt.ylabel('# of Groups')\n",
    "plt.xlabel('Number of people')\n",
    "plt.show()"
   ]
  },
  {
   "cell_type": "markdown",
   "id": "2fa11600",
   "metadata": {},
   "source": [
    "Luego, contamos las ocurrencias de cada `group_size` en `restaurant_groups`. Posteriormente, dividimos por el número total de filas en `restaurant_groups` para determinar la probabilidad asociada con seleccionar aleatoriamente un grupo de cada tamaño. Los resultados se almacenan en un DataFrame llamado `size_dist`. Después de esto, restablecemos el índice de `size_dist` y procedemos a renombrar sus columnas a 'group_size' y 'prob'.\n"
   ]
  },
  {
   "cell_type": "code",
   "execution_count": 94,
   "id": "e1a58fb4",
   "metadata": {},
   "outputs": [
    {
     "data": {
      "text/html": [
       "<div>\n",
       "<style scoped>\n",
       "    .dataframe tbody tr th:only-of-type {\n",
       "        vertical-align: middle;\n",
       "    }\n",
       "\n",
       "    .dataframe tbody tr th {\n",
       "        vertical-align: top;\n",
       "    }\n",
       "\n",
       "    .dataframe thead th {\n",
       "        text-align: right;\n",
       "    }\n",
       "</style>\n",
       "<table border=\"1\" class=\"dataframe\">\n",
       "  <thead>\n",
       "    <tr style=\"text-align: right;\">\n",
       "      <th></th>\n",
       "      <th>group_size</th>\n",
       "      <th>prob</th>\n",
       "    </tr>\n",
       "  </thead>\n",
       "  <tbody>\n",
       "    <tr>\n",
       "      <th>0</th>\n",
       "      <td>2</td>\n",
       "      <td>0.333333</td>\n",
       "    </tr>\n",
       "    <tr>\n",
       "      <th>1</th>\n",
       "      <td>3</td>\n",
       "      <td>0.250000</td>\n",
       "    </tr>\n",
       "    <tr>\n",
       "      <th>2</th>\n",
       "      <td>4</td>\n",
       "      <td>0.083333</td>\n",
       "    </tr>\n",
       "    <tr>\n",
       "      <th>3</th>\n",
       "      <td>5</td>\n",
       "      <td>0.166667</td>\n",
       "    </tr>\n",
       "    <tr>\n",
       "      <th>4</th>\n",
       "      <td>6</td>\n",
       "      <td>0.083333</td>\n",
       "    </tr>\n",
       "    <tr>\n",
       "      <th>5</th>\n",
       "      <td>7</td>\n",
       "      <td>0.083333</td>\n",
       "    </tr>\n",
       "  </tbody>\n",
       "</table>\n",
       "</div>"
      ],
      "text/plain": [
       "   group_size      prob\n",
       "0           2  0.333333\n",
       "1           3  0.250000\n",
       "2           4  0.083333\n",
       "3           5  0.166667\n",
       "4           6  0.083333\n",
       "5           7  0.083333"
      ]
     },
     "execution_count": 94,
     "metadata": {},
     "output_type": "execute_result"
    }
   ],
   "source": [
    "# We create probability distribution\n",
    "size_dist = data.groupby('group_size').count() / len(data)\n",
    "\n",
    "# We reset index and rename columns\n",
    "size_dist = size_dist.reset_index()\n",
    "size_dist.columns = ['group_size', 'prob']\n",
    "\n",
    "size_dist"
   ]
  },
  {
   "cell_type": "markdown",
   "id": "35aed032",
   "metadata": {},
   "source": [
    "Observamos que los grupos de 2, 3 y 5 personas son los más propensos a ser elegidos. A continuación, calculamos el valor esperado de la `size_distribution`, que representa el tamaño de grupo anticipado. Esto implica multiplicar cada `group_size` por su probabilidad correspondiente (`prob`) y sumar los resultados.\n"
   ]
  },
  {
   "cell_type": "code",
   "execution_count": 95,
   "id": "a5632d62",
   "metadata": {},
   "outputs": [
    {
     "name": "stdout",
     "output_type": "stream",
     "text": [
      "3.67\n"
     ]
    }
   ],
   "source": [
    "# We calculate the expected value\n",
    "expected_value = np.sum(size_dist['group_size'] * size_dist['prob'])\n",
    "print(round(expected_value, 2))"
   ]
  },
  {
   "cell_type": "markdown",
   "id": "36528663",
   "metadata": {},
   "source": [
    "Finalmente, determinamos la probabilidad de seleccionar aleatoriamente un grupo compuesto por 4 o más personas subagrupando esos grupos. Posteriormente, sumamos las probabilidades asociadas con la elección de grupos de este tamaño o más grandes.\n"
   ]
  },
  {
   "cell_type": "code",
   "execution_count": 96,
   "id": "f676099d",
   "metadata": {},
   "outputs": [
    {
     "name": "stdout",
     "output_type": "stream",
     "text": [
      "0.41666666666666663\n"
     ]
    }
   ],
   "source": [
    "# Subset groups of size 4 or more\n",
    "groups_4_or_more = size_dist[size_dist['group_size'] >= 4]\n",
    "\n",
    "# Sum the probabilities of groups_4_or_more\n",
    "prob_4_or_more = groups_4_or_more['prob'].sum()\n",
    "print(prob_4_or_more)"
   ]
  },
  {
   "cell_type": "markdown",
   "id": "22e0de9e",
   "metadata": {},
   "source": [
    "### <a id='3.1.2'> Distribución Uniforme Discreta </a>  "
   ]
  },
  {
   "cell_type": "code",
   "execution_count": 97,
   "id": "9df8505a",
   "metadata": {},
   "outputs": [],
   "source": [
    "dado  = {'number': [1, 2, 3, 4, 5, 6],\n",
    "        'times': [1, 1, 1, 1, 1, 1]}\n",
    "\n",
    "dado  = pd.DataFrame(dado)"
   ]
  },
  {
   "cell_type": "markdown",
   "id": "ddded25e",
   "metadata": {},
   "source": [
    "Al trazar el histograma, podemos ver que cada número del dado tiene la misma probabilidad de ser elegido al lanzar el dado.\n"
   ]
  },
  {
   "cell_type": "code",
   "execution_count": 98,
   "id": "94f58e50",
   "metadata": {},
   "outputs": [
    {
     "data": {
      "image/png": "[encoded data removed]",
      "text/plain": [
       "<Figure size 640x480 with 1 Axes>"
      ]
     },
     "metadata": {},
     "output_type": "display_data"
    }
   ],
   "source": [
    "dado['number'].hist(bins = [1, 2, 3, 4, 5, 6, 7])\n",
    "plt.ylabel('number of times')\n",
    "plt.xlabel('die number')\n",
    "plt.show()"
   ]
  },
  {
   "cell_type": "markdown",
   "id": "86a887cf",
   "metadata": {},
   "source": [
    "Cada número tiene 1/6 o 17% de probabilidad de ser seleccionado"
   ]
  },
  {
   "cell_type": "code",
   "execution_count": 99,
   "id": "becb47e3",
   "metadata": {},
   "outputs": [
    {
     "data": {
      "text/html": [
       "<div>\n",
       "<style scoped>\n",
       "    .dataframe tbody tr th:only-of-type {\n",
       "        vertical-align: middle;\n",
       "    }\n",
       "\n",
       "    .dataframe tbody tr th {\n",
       "        vertical-align: top;\n",
       "    }\n",
       "\n",
       "    .dataframe thead th {\n",
       "        text-align: right;\n",
       "    }\n",
       "</style>\n",
       "<table border=\"1\" class=\"dataframe\">\n",
       "  <thead>\n",
       "    <tr style=\"text-align: right;\">\n",
       "      <th></th>\n",
       "      <th>number</th>\n",
       "      <th>prob</th>\n",
       "    </tr>\n",
       "  </thead>\n",
       "  <tbody>\n",
       "    <tr>\n",
       "      <th>0</th>\n",
       "      <td>1</td>\n",
       "      <td>0.166667</td>\n",
       "    </tr>\n",
       "    <tr>\n",
       "      <th>1</th>\n",
       "      <td>2</td>\n",
       "      <td>0.166667</td>\n",
       "    </tr>\n",
       "    <tr>\n",
       "      <th>2</th>\n",
       "      <td>3</td>\n",
       "      <td>0.166667</td>\n",
       "    </tr>\n",
       "    <tr>\n",
       "      <th>3</th>\n",
       "      <td>4</td>\n",
       "      <td>0.166667</td>\n",
       "    </tr>\n",
       "    <tr>\n",
       "      <th>4</th>\n",
       "      <td>5</td>\n",
       "      <td>0.166667</td>\n",
       "    </tr>\n",
       "    <tr>\n",
       "      <th>5</th>\n",
       "      <td>6</td>\n",
       "      <td>0.166667</td>\n",
       "    </tr>\n",
       "  </tbody>\n",
       "</table>\n",
       "</div>"
      ],
      "text/plain": [
       "   number      prob\n",
       "0       1  0.166667\n",
       "1       2  0.166667\n",
       "2       3  0.166667\n",
       "3       4  0.166667\n",
       "4       5  0.166667\n",
       "5       6  0.166667"
      ]
     },
     "execution_count": 99,
     "metadata": {},
     "output_type": "execute_result"
    }
   ],
   "source": [
    "# We create probability distribution\n",
    "number_dist = dado.groupby('number').count() / len(dado)\n",
    "\n",
    "# We reset index and rename columns\n",
    "number_dist = number_dist.reset_index()\n",
    "number_dist.columns = ['number', 'prob']\n",
    "\n",
    "number_dist"
   ]
  },
  {
   "cell_type": "markdown",
   "id": "2bcdaa35",
   "metadata": {},
   "source": [
    "El valor esperado del dado es 3.5"
   ]
  },
  {
   "cell_type": "code",
   "execution_count": 100,
   "id": "64ffa752",
   "metadata": {},
   "outputs": [
    {
     "data": {
      "text/plain": [
       "np.float64(3.5)"
      ]
     },
     "execution_count": 100,
     "metadata": {},
     "output_type": "execute_result"
    }
   ],
   "source": [
    "np.mean(dado['number'])"
   ]
  },
  {
   "cell_type": "markdown",
   "id": "122cf985",
   "metadata": {},
   "source": [
    "Podemos hacer un muestreo con reemplazo para simular 10 lanzamientos del dado y ver cómo cambia la distribución.\n"
   ]
  },
  {
   "cell_type": "code",
   "execution_count": 101,
   "id": "07f20b9d",
   "metadata": {},
   "outputs": [
    {
     "data": {
      "text/html": [
       "<div>\n",
       "<style scoped>\n",
       "    .dataframe tbody tr th:only-of-type {\n",
       "        vertical-align: middle;\n",
       "    }\n",
       "\n",
       "    .dataframe tbody tr th {\n",
       "        vertical-align: top;\n",
       "    }\n",
       "\n",
       "    .dataframe thead th {\n",
       "        text-align: right;\n",
       "    }\n",
       "</style>\n",
       "<table border=\"1\" class=\"dataframe\">\n",
       "  <thead>\n",
       "    <tr style=\"text-align: right;\">\n",
       "      <th></th>\n",
       "      <th>number</th>\n",
       "      <th>times</th>\n",
       "    </tr>\n",
       "  </thead>\n",
       "  <tbody>\n",
       "    <tr>\n",
       "      <th>4</th>\n",
       "      <td>5</td>\n",
       "      <td>1</td>\n",
       "    </tr>\n",
       "    <tr>\n",
       "      <th>3</th>\n",
       "      <td>4</td>\n",
       "      <td>1</td>\n",
       "    </tr>\n",
       "    <tr>\n",
       "      <th>2</th>\n",
       "      <td>3</td>\n",
       "      <td>1</td>\n",
       "    </tr>\n",
       "    <tr>\n",
       "      <th>5</th>\n",
       "      <td>6</td>\n",
       "      <td>1</td>\n",
       "    </tr>\n",
       "    <tr>\n",
       "      <th>4</th>\n",
       "      <td>5</td>\n",
       "      <td>1</td>\n",
       "    </tr>\n",
       "    <tr>\n",
       "      <th>1</th>\n",
       "      <td>2</td>\n",
       "      <td>1</td>\n",
       "    </tr>\n",
       "    <tr>\n",
       "      <th>3</th>\n",
       "      <td>4</td>\n",
       "      <td>1</td>\n",
       "    </tr>\n",
       "    <tr>\n",
       "      <th>5</th>\n",
       "      <td>6</td>\n",
       "      <td>1</td>\n",
       "    </tr>\n",
       "    <tr>\n",
       "      <th>5</th>\n",
       "      <td>6</td>\n",
       "      <td>1</td>\n",
       "    </tr>\n",
       "    <tr>\n",
       "      <th>1</th>\n",
       "      <td>2</td>\n",
       "      <td>1</td>\n",
       "    </tr>\n",
       "  </tbody>\n",
       "</table>\n",
       "</div>"
      ],
      "text/plain": [
       "   number  times\n",
       "4       5      1\n",
       "3       4      1\n",
       "2       3      1\n",
       "5       6      1\n",
       "4       5      1\n",
       "1       2      1\n",
       "3       4      1\n",
       "5       6      1\n",
       "5       6      1\n",
       "1       2      1"
      ]
     },
     "execution_count": 101,
     "metadata": {},
     "output_type": "execute_result"
    }
   ],
   "source": [
    "rolls_10 = dado.sample(10, replace = True)\n",
    "rolls_10"
   ]
  },
  {
   "cell_type": "markdown",
   "id": "0a23f2cf",
   "metadata": {},
   "source": [
    "Visualizamos la distribución y calculamos la media de la muestra, observamos que la media de la muestra no es el valor esperado, pero está cerca."
   ]
  },
  {
   "cell_type": "code",
   "execution_count": 102,
   "id": "fbffcf40",
   "metadata": {},
   "outputs": [
    {
     "data": {
      "image/png": "[encoded data removed]",
      "text/plain": [
       "<Figure size 640x480 with 1 Axes>"
      ]
     },
     "metadata": {},
     "output_type": "display_data"
    }
   ],
   "source": [
    "rolls_10['number'].hist(bins = np.linspace(1, 7, 7))\n",
    "plt.ylabel('number of times')\n",
    "plt.xlabel('die number')\n",
    "plt.show()"
   ]
  },
  {
   "cell_type": "code",
   "execution_count": 103,
   "id": "90bd115f",
   "metadata": {},
   "outputs": [
    {
     "data": {
      "text/plain": [
       "np.float64(4.3)"
      ]
     },
     "execution_count": 103,
     "metadata": {},
     "output_type": "execute_result"
    }
   ],
   "source": [
    "np.mean(rolls_10['number'])"
   ]
  },
  {
   "cell_type": "markdown",
   "id": "6664cf0d",
   "metadata": {},
   "source": [
    "¿Qué pasaría si tuviéramos 100 lanzamientos en lugar de solo 10? Vamos a ver..."
   ]
  },
  {
   "cell_type": "code",
   "execution_count": 104,
   "id": "474872ca",
   "metadata": {},
   "outputs": [
    {
     "data": {
      "image/png": "[encoded data removed]",
      "text/plain": [
       "<Figure size 640x480 with 1 Axes>"
      ]
     },
     "metadata": {},
     "output_type": "display_data"
    }
   ],
   "source": [
    "rolls_100 = dado.sample(100, replace = True)\n",
    "\n",
    "rolls_100['number'].hist(bins = np.linspace(1, 7, 7))\n",
    "plt.ylabel('number of times')\n",
    "plt.xlabel('die number')\n",
    "plt.show()"
   ]
  },
  {
   "cell_type": "markdown",
   "id": "11562d63",
   "metadata": {},
   "source": [
    "La distribución se parecería más a una distribución uniforme y la media de la muestra se acercaría más al valor esperado.\n"
   ]
  },
  {
   "cell_type": "code",
   "execution_count": 105,
   "id": "90a22aab",
   "metadata": {},
   "outputs": [
    {
     "data": {
      "text/plain": [
       "np.float64(3.38)"
      ]
     },
     "execution_count": 105,
     "metadata": {},
     "output_type": "execute_result"
    }
   ],
   "source": [
    "np.mean(rolls_100['number'])"
   ]
  },
  {
   "cell_type": "markdown",
   "id": "bd3fbb0a",
   "metadata": {},
   "source": [
    "Que tal si hacemos 1000 lanzamientos?"
   ]
  },
  {
   "cell_type": "code",
   "execution_count": 106,
   "id": "9c74a16a",
   "metadata": {},
   "outputs": [
    {
     "data": {
      "image/png": "[encoded data removed]",
      "text/plain": [
       "<Figure size 640x480 with 1 Axes>"
      ]
     },
     "metadata": {},
     "output_type": "display_data"
    }
   ],
   "source": [
    "rolls_1000 = dado.sample(1000, replace = True)\n",
    "\n",
    "rolls_1000['number'].hist(bins = np.linspace(1, 7, 7))\n",
    "plt.ylabel('number of times')\n",
    "plt.xlabel('die number')\n",
    "plt.show()"
   ]
  },
  {
   "cell_type": "code",
   "execution_count": 107,
   "id": "94f0f617",
   "metadata": {},
   "outputs": [
    {
     "data": {
      "text/plain": [
       "np.float64(3.493)"
      ]
     },
     "execution_count": 107,
     "metadata": {},
     "output_type": "execute_result"
    }
   ],
   "source": [
    "np.mean(rolls_1000['number'])"
   ]
  },
  {
   "cell_type": "markdown",
   "id": "0d5b3677",
   "metadata": {},
   "source": [
    "Observamos que la media de la muestra ahora está aún más cerca de la media esperada, estamos viendo la **Ley de los Grandes Números** en acción. La **Ley de los Grandes Números** establece que a medida que el tamaño de la muestra de un experimento aleatorio aumenta, el promedio de los valores observados converge a la media esperada (teórica), indicando que las muestras grandes proporcionan estimaciones más precisas de los parámetros de la población. ¿Qué crees que pasaría si muestreamos 10000 veces?"
   ]
  },
  {
   "cell_type": "markdown",
   "id": "cde9c726",
   "metadata": {},
   "source": [
    "## <a id='3.2.'> 13.2 Distribuciones de probabilidad continuas </a>\n",
    "\n",
    "Las distribuciones de probabilidad continuas describen la probabilidad de obtener cualquier valor específico dentro de un rango continuo de posibles resultados. A diferencia de las distribuciones discretas, manejan posibilidades infinitas y se caracterizan por las Funciones de Densidad de Probabilidad (PDFs), que representan la densidad de probabilidad en cada punto. La Función de Distribución Acumulativa (CDF) asociada con estas distribuciones da la probabilidad de que una variable aleatoria sea menor o igual a un valor específico. Ejemplos comunes incluyen la distribución normal y la distribución exponencial."
   ]
  },
  {
   "attachments": {
    "image.png": {
     "image/png": "[encoded data removed]"
    }
   },
   "cell_type": "markdown",
   "id": "30e6279c",
   "metadata": {},
   "source": [
    "### <a id='3.2.1'> Distribución uniforme continua </a> \n",
    "\n",
    "La distribución uniforme continua representa resultados donde cualquier valor dentro de un rango continuo especificado es igualmente probable. Se define por dos parámetros: los valores mínimo y máximo del rango.\n",
    "\n",
    "\n",
    "[![image.png](attachment:image.png)](https://docs.scipy.org/doc/scipy/reference/generated/scipy.stats.uniform.html#scipy.stats.uniform)"
   ]
  },
  {
   "cell_type": "code",
   "execution_count": 108,
   "id": "832f29ff",
   "metadata": {},
   "outputs": [],
   "source": [
    ">>> from scipy.stats import uniform"
   ]
  },
  {
   "cell_type": "markdown",
   "id": "d4666a5e",
   "metadata": {},
   "source": [
    "Supongamos que estamos esperando en la fila para un autobús y tiene la misma probabilidad de llegar en cualquier momento entre las 12:00 pm y las 12:15 pm. Calculemos algunas probabilidades utilizando `cdf` (función de distribución acumulativa).\n",
    "\n",
    "La probabilidad de que el autobús llegue en cualquier momento durante esos 15 minutos siempre será uno, ya que es la suma de todas las probabilidades:\n"
   ]
  },
  {
   "cell_type": "code",
   "execution_count": 109,
   "id": "95075eea",
   "metadata": {},
   "outputs": [
    {
     "data": {
      "text/plain": [
       "np.float64(1.0)"
      ]
     },
     "execution_count": 109,
     "metadata": {},
     "output_type": "execute_result"
    }
   ],
   "source": [
    "uniform.cdf(15, 0, 15)"
   ]
  },
  {
   "cell_type": "markdown",
   "id": "46b14cc1",
   "metadata": {},
   "source": [
    "La probabilidad de que el autobús llegue durante los primeros siete minutos:\n"
   ]
  },
  {
   "cell_type": "code",
   "execution_count": 110,
   "id": "1332a3d6",
   "metadata": {},
   "outputs": [
    {
     "data": {
      "text/plain": [
       "np.float64(0.4666666666666667)"
      ]
     },
     "execution_count": 110,
     "metadata": {},
     "output_type": "execute_result"
    }
   ],
   "source": [
    "uniform.cdf(7, 0, 15)"
   ]
  },
  {
   "cell_type": "markdown",
   "id": "8e75920a",
   "metadata": {},
   "source": [
    "¿Qué hay de la probabilidad de esperar más de cuatro minutos pero menos de siete?\n"
   ]
  },
  {
   "cell_type": "code",
   "execution_count": 111,
   "id": "afc2e8cd",
   "metadata": {},
   "outputs": [
    {
     "data": {
      "text/plain": [
       "np.float64(0.2)"
      ]
     },
     "execution_count": 111,
     "metadata": {},
     "output_type": "execute_result"
    }
   ],
   "source": [
    "uniform.cdf(7, 0, 15) - uniform.cdf(4, 0, 15)"
   ]
  },
  {
   "cell_type": "markdown",
   "id": "69df0608",
   "metadata": {},
   "source": [
    "Ahora, generemos valores aleatorios usando la distribución uniforme con la función `rvs`. Ponemos como entrada el valor mínimo, el valor máximo y luego el tamaño de la muestra.\n"
   ]
  },
  {
   "cell_type": "code",
   "execution_count": 112,
   "id": "001546e5",
   "metadata": {},
   "outputs": [
    {
     "data": {
      "text/plain": [
       "array([ 4.52066811, 11.2141407 ,  7.54080585,  3.48319043, 13.4936186 ,\n",
       "        5.75836832,  8.15329292, 13.59708166,  9.36356994,  1.75347061,\n",
       "       14.09748185,  9.4156208 ,  5.02358422,  2.08908109, 11.91037784])"
      ]
     },
     "execution_count": 112,
     "metadata": {},
     "output_type": "execute_result"
    }
   ],
   "source": [
    "uniform.rvs(0, 15, size = 15)"
   ]
  },
  {
   "cell_type": "markdown",
   "id": "14086d25",
   "metadata": {},
   "source": [
    "Si quieres que nuestra muestra sea replicable, no olvides añadir una semilla aleatoria.\n"
   ]
  },
  {
   "cell_type": "code",
   "execution_count": 113,
   "id": "c616ba4a",
   "metadata": {},
   "outputs": [
    {
     "data": {
      "text/plain": [
       "array([ 5.61810178, 14.2607146 , 10.97990913,  8.97987726,  2.34027961,\n",
       "        2.33991781,  0.87125418, 12.99264219,  9.01672518, 10.62108867,\n",
       "        0.30876741, 14.54864778, 12.48663961,  3.18508666,  2.72737451])"
      ]
     },
     "execution_count": 113,
     "metadata": {},
     "output_type": "execute_result"
    }
   ],
   "source": [
    "np.random.seed(42)\n",
    "uniform.rvs(0, 15, size = 15)"
   ]
  },
  {
   "cell_type": "markdown",
   "id": "af6cb257",
   "metadata": {},
   "source": [
    "Ahora, otro ejemplo. Tu computadora necesita una actualización y podría reiniciarse en cualquier momento en los próximos 30 minutos. Nuevamente, calculemos algunas probabilidades utilizando `cdf`.\n"
   ]
  },
  {
   "cell_type": "code",
   "execution_count": 114,
   "id": "d456d839",
   "metadata": {},
   "outputs": [
    {
     "name": "stdout",
     "output_type": "stream",
     "text": [
      "0.16666666666666666\n"
     ]
    }
   ],
   "source": [
    "# What is the probability of waiting less than 5 mins ? \n",
    "prob_less_5 = uniform.cdf(5, 0, 30)\n",
    "print(prob_less_5)"
   ]
  },
  {
   "cell_type": "code",
   "execution_count": 115,
   "id": "c7d2feed",
   "metadata": {},
   "outputs": [
    {
     "name": "stdout",
     "output_type": "stream",
     "text": [
      "0.16666666666666666\n"
     ]
    }
   ],
   "source": [
    "# What is the probability of waiting more than 5 mins ? \n",
    "prob_more_5 = 1 - uniform.cdf(5, 0, 30)\n",
    "print(prob_less_5)"
   ]
  },
  {
   "cell_type": "code",
   "execution_count": 116,
   "id": "23aaf936",
   "metadata": {},
   "outputs": [
    {
     "name": "stdout",
     "output_type": "stream",
     "text": [
      "0.3333333333333333\n"
     ]
    }
   ],
   "source": [
    "# What is the probability of waiting more than 10 mins and less than 20 ? \n",
    "prob_more_10_less_20 = uniform.cdf(20, 0, 30) - uniform.cdf(10, 0, 30)\n",
    "print(prob_more_10_less_20)"
   ]
  },
  {
   "cell_type": "markdown",
   "id": "9f8213c3",
   "metadata": {},
   "source": [
    "Ahora podemos generar 10000 muestras del tiempo de espera. Al trazar las muestras en un histograma, podemos ver fácilmente que sigue una distribución uniforme continua.\n"
   ]
  },
  {
   "cell_type": "code",
   "execution_count": 117,
   "id": "77a3b7b0",
   "metadata": {},
   "outputs": [],
   "source": [
    "# We generate 1000 wait times between 0 and 30 mins\n",
    "wait_times = uniform.rvs(0, 30, size=10000)"
   ]
  },
  {
   "cell_type": "code",
   "execution_count": 118,
   "id": "a6eb9312",
   "metadata": {},
   "outputs": [
    {
     "data": {
      "image/png": "[encoded data removed]",
      "text/plain": [
       "<Figure size 640x480 with 1 Axes>"
      ]
     },
     "metadata": {},
     "output_type": "display_data"
    }
   ],
   "source": [
    "# We create a histogram of simulated times\n",
    "plt.hist(wait_times)\n",
    "plt.show()"
   ]
  },
  {
   "attachments": {
    "image.png": {
     "image/png": "[encoded data removed]"
    }
   },
   "cell_type": "markdown",
   "id": "62a98a6d",
   "metadata": {},
   "source": [
    "### <a id='3.2.2'> Distribución binomial </a> \n",
    "La distribución binomial modela el número de éxitos en un número fijo de ensayos de Bernoulli independientes, cada uno con la misma probabilidad de éxito. Se caracteriza por dos parámetros: el número de ensayos y la probabilidad de éxito en cada ensayo.\n",
    "\n",
    "\n",
    "[![image.png](attachment:image.png)](https://docs.scipy.org/doc/scipy/reference/generated/scipy.stats.binom.html#scipy.stats.binom)"
   ]
  },
  {
   "cell_type": "code",
   "execution_count": 119,
   "id": "473eaabe",
   "metadata": {},
   "outputs": [],
   "source": [
    ">>> from scipy.stats import binom"
   ]
  },
  {
   "cell_type": "markdown",
   "id": "95aa4126",
   "metadata": {},
   "source": [
    "Simulemos diferentes lanzamientos de una moneda.\n"
   ]
  },
  {
   "cell_type": "code",
   "execution_count": 120,
   "id": "0d3bba7e",
   "metadata": {},
   "outputs": [
    {
     "data": {
      "text/plain": [
       "array([0])"
      ]
     },
     "execution_count": 120,
     "metadata": {},
     "output_type": "execute_result"
    }
   ],
   "source": [
    "# We flip 1 coin with a 50% chance of success, one time\n",
    "binom.rvs(1, 0.5, size= 1)"
   ]
  },
  {
   "cell_type": "code",
   "execution_count": 121,
   "id": "1d6a3027",
   "metadata": {},
   "outputs": [
    {
     "data": {
      "text/plain": [
       "array([0, 0, 0, 0, 0, 0, 1, 0, 1, 0])"
      ]
     },
     "execution_count": 121,
     "metadata": {},
     "output_type": "execute_result"
    }
   ],
   "source": [
    "# We flip 1 coin with a 50% chance of success, ten times\n",
    "binom.rvs(1, 0.5, size= 10)"
   ]
  },
  {
   "cell_type": "markdown",
   "id": "4899f51a",
   "metadata": {},
   "source": [
    "Podemos intercambiar el primer y el último argumento. El resultado nos dará la suma de éxitos.\n"
   ]
  },
  {
   "cell_type": "code",
   "execution_count": 122,
   "id": "cd49078f",
   "metadata": {},
   "outputs": [
    {
     "data": {
      "text/plain": [
       "array([7])"
      ]
     },
     "execution_count": 122,
     "metadata": {},
     "output_type": "execute_result"
    }
   ],
   "source": [
    "# We flip 10 coins with a 50% chance of success, one time each coin\n",
    "binom.rvs(10, 0.5, size= 1)"
   ]
  },
  {
   "cell_type": "markdown",
   "id": "1893e018",
   "metadata": {},
   "source": [
    "Si establecemos 3 como el primer argumento y el tamaño en 5, entonces estamos lanzando 3 monedas, 5 veces cada una. Devuelve 5 números, que representan el número de caras entre las 3 monedas en cada lanzamiento.\n"
   ]
  },
  {
   "cell_type": "code",
   "execution_count": 123,
   "id": "afe97cb6",
   "metadata": {},
   "outputs": [
    {
     "data": {
      "text/plain": [
       "array([3, 2, 2, 0, 3, 3, 3, 2, 1, 3])"
      ]
     },
     "execution_count": 123,
     "metadata": {},
     "output_type": "execute_result"
    }
   ],
   "source": [
    "# We flip 3 coins with a 50% chance of success, ten times each coin\n",
    "binom.rvs(3, 0.5, size= 10)"
   ]
  },
  {
   "cell_type": "markdown",
   "id": "4f8092d8",
   "metadata": {},
   "source": [
    "También podemos hacer que un lado sea más pesado que el otro, lo que significa que un resultado será más probable que el otro. Supongamos que el lado de las caras es más pesado. En lugar de un 50% de probabilidad, ahora tenemos un 75% de probabilidad de obtener caras. El resultado tendrá números más altos, ya que ahora es más probable obtener un éxito (caras).\n"
   ]
  },
  {
   "cell_type": "code",
   "execution_count": 124,
   "id": "7d04808a",
   "metadata": {},
   "outputs": [
    {
     "data": {
      "text/plain": [
       "array([3, 2, 3, 1, 3, 3, 2, 2, 2, 3])"
      ]
     },
     "execution_count": 124,
     "metadata": {},
     "output_type": "execute_result"
    }
   ],
   "source": [
    "binom.rvs(3, 0.75, size= 10)"
   ]
  },
  {
   "cell_type": "markdown",
   "id": "f17534b8",
   "metadata": {},
   "source": [
    "Podemos hacer lo contrario, haciendo que el lado de las cruces sea más probable. En lugar de un 50% de probabilidad, ahora tenemos un 25% de probabilidad de obtener caras. El resultado tendrá números más bajos, ya que ahora es más probable obtener un fallo (cruces)."
   ]
  },
  {
   "cell_type": "code",
   "execution_count": 125,
   "id": "594f25fe",
   "metadata": {},
   "outputs": [
    {
     "data": {
      "text/plain": [
       "array([0, 1, 3, 1, 1, 2, 0, 1, 1, 1])"
      ]
     },
     "execution_count": 125,
     "metadata": {},
     "output_type": "execute_result"
    }
   ],
   "source": [
    "binom.rvs(3, 0.25, size= 10)"
   ]
  },
  {
   "cell_type": "markdown",
   "id": "1debbfee",
   "metadata": {},
   "source": [
    "Podemos ver la distribución de lanzar 10 monedas varias veces con una probabilidad del 50% de obtener caras. La mayoría de los resultados se ubicarán en el medio. El valor esperado en la distribución binomial es $n \\times p$, lo que en este caso significa $10 \\times 0.5 = 5$.\n"
   ]
  },
  {
   "cell_type": "code",
   "execution_count": 126,
   "id": "a4893617",
   "metadata": {},
   "outputs": [
    {
     "data": {
      "image/png": "[encoded data removed]",
      "text/plain": [
       "<Figure size 640x480 with 1 Axes>"
      ]
     },
     "metadata": {},
     "output_type": "display_data"
    }
   ],
   "source": [
    "flips = binom.rvs(10, 0.5, size= 100)\n",
    "plt.hist(flips)\n",
    "plt.show()"
   ]
  },
  {
   "cell_type": "markdown",
   "id": "22ce24bd",
   "metadata": {},
   "source": [
    "Para obtener la probabilidad de éxitos dado un número de ensayos, podemos usar `binom.pmf`, que se refiere a la Función de Masa de Probabilidad (PMF) para una distribución binomial con el primer argumento siendo el número de caras, el segundo, el número de ensayos y el tercero, la probabilidad de éxito.\n",
    "\n",
    "Podemos usar `binom.cdf` para calcular la probabilidad de que una variable aleatoria binomial sea menor o igual a un valor especificado.\n"
   ]
  },
  {
   "cell_type": "markdown",
   "id": "bd4a656c",
   "metadata": {},
   "source": [
    "¿Cuál sería la probabilidad de obtener 7 caras en 10 lanzamientos?\n"
   ]
  },
  {
   "cell_type": "code",
   "execution_count": 127,
   "id": "2cd227aa",
   "metadata": {},
   "outputs": [
    {
     "data": {
      "text/plain": [
       "np.float64(0.11718749999999996)"
      ]
     },
     "execution_count": 127,
     "metadata": {},
     "output_type": "execute_result"
    }
   ],
   "source": [
    "# binom.pmf( # heads, # trials, prob of success)\n",
    "binom.pmf(7, 10, 0.5)"
   ]
  },
  {
   "cell_type": "markdown",
   "id": "20c887f6",
   "metadata": {},
   "source": [
    "¿Y la probabilidad de obtener 7 o menos caras en 10 lanzamientos?\n"
   ]
  },
  {
   "cell_type": "code",
   "execution_count": 128,
   "id": "c453bda0",
   "metadata": {},
   "outputs": [
    {
     "data": {
      "text/plain": [
       "np.float64(0.9453125)"
      ]
     },
     "execution_count": 128,
     "metadata": {},
     "output_type": "execute_result"
    }
   ],
   "source": [
    "# binom.cdf( # heads, # trials, prob of success)\n",
    "binom.cdf(7, 10, 0.5)"
   ]
  },
  {
   "cell_type": "markdown",
   "id": "e88b9ce9",
   "metadata": {},
   "source": [
    "¿Qué tal la probabilidad de obtener más de 7 caras?"
   ]
  },
  {
   "cell_type": "code",
   "execution_count": 129,
   "id": "589bfe2b",
   "metadata": {},
   "outputs": [
    {
     "data": {
      "text/plain": [
       "np.float64(0.0546875)"
      ]
     },
     "execution_count": 129,
     "metadata": {},
     "output_type": "execute_result"
    }
   ],
   "source": [
    "1 - binom.cdf(7, 10, 0.5)"
   ]
  },
  {
   "attachments": {
    "image.png": {
     "image/png": "[encoded data removed]"
    }
   },
   "cell_type": "markdown",
   "id": "3f14acc9",
   "metadata": {},
   "source": [
    "### <a id='3.2.3'> Distribución normal </a> \n",
    "La distribución normal modela una distribución de probabilidad continua donde los datos tienden a agruparse alrededor de una media central, siguiendo una curva en forma de campana. Se caracteriza por dos parámetros: la media $(\\mu)$ que representa la tendencia central y la desviación estándar $(\\sigma)$ que determina la dispersión o el grado de dispersión de los datos. Aproximadamente el 68% de los datos se encuentran dentro de una desviación estándar de la media, el 95% dentro de dos desviaciones estándar y el 99.7% dentro de tres desviaciones estándar. Las colas de la distribución se extienden infinitamente en ambas direcciones, disminuyendo gradualmente en densidad de probabilidad. El área total bajo la curva es 1, reflejando la probabilidad de que un valor elegido al azar se encuentre dentro de la distribución. Debido al Teorema del Límite Central, muchos fenómenos del mundo real tienden a exhibir una distribución normal, lo que refuerza su amplia aplicabilidad en el análisis estadístico.\n",
    "\n",
    "\n",
    "[![image.png](attachment:image.png)](https://docs.scipy.org/doc/scipy/reference/generated/scipy.stats.norm.html#scipy.stats.norm)"
   ]
  },
  {
   "cell_type": "code",
   "execution_count": 130,
   "id": "d8bdc99e",
   "metadata": {},
   "outputs": [],
   "source": [
    ">>> from scipy.stats import norm"
   ]
  },
  {
   "cell_type": "markdown",
   "id": "b3b011c8",
   "metadata": {},
   "source": [
    "Volvamos al dataframe `deals`. Dado que cada negocio fue diferente, generaron diferentes cantidades de dinero, las cuales están almacenadas en la columna `amount`. Determinemos la probabilidad de vender diferentes montos, pero primero, veamos qué distribución sigue la columna `amount`.\n"
   ]
  },
  {
   "cell_type": "code",
   "execution_count": 131,
   "id": "9bbfd83b",
   "metadata": {},
   "outputs": [
    {
     "data": {
      "image/png": "[encoded data removed]",
      "text/plain": [
       "<Figure size 640x480 with 1 Axes>"
      ]
     },
     "metadata": {},
     "output_type": "display_data"
    }
   ],
   "source": [
    "# Let's create a histogram of the amount column\n",
    "deals['amount'].hist(bins=10)\n",
    "plt.show()"
   ]
  },
  {
   "cell_type": "code",
   "execution_count": 132,
   "id": "839b4c24",
   "metadata": {},
   "outputs": [],
   "source": [
    "# We define the mean and std\n",
    "mean = deals['amount'].mean()\n",
    "std = deals['amount'].std()"
   ]
  },
  {
   "cell_type": "markdown",
   "id": "f6368331",
   "metadata": {},
   "source": [
    "¿Cuál es la probabilidad de que un negocio se cierre con menos de \\$6500?\n"
   ]
  },
  {
   "cell_type": "code",
   "execution_count": 133,
   "id": "37b9a9f3",
   "metadata": {},
   "outputs": [
    {
     "data": {
      "text/plain": [
       "np.float64(0.7939331610978386)"
      ]
     },
     "execution_count": 133,
     "metadata": {},
     "output_type": "execute_result"
    }
   ],
   "source": [
    "norm.cdf(6500, mean, std)"
   ]
  },
  {
   "cell_type": "markdown",
   "id": "500ab5f4",
   "metadata": {},
   "source": [
    "¿Cuál es la probabilidad de que un negocio se cierre con más de \\$1000?\n"
   ]
  },
  {
   "cell_type": "code",
   "execution_count": 134,
   "id": "f6d6a852",
   "metadata": {},
   "outputs": [
    {
     "data": {
      "text/plain": [
       "np.float64(0.9679962803797578)"
      ]
     },
     "execution_count": 134,
     "metadata": {},
     "output_type": "execute_result"
    }
   ],
   "source": [
    "1 - norm.cdf(1000, mean, std)"
   ]
  },
  {
   "cell_type": "markdown",
   "id": "b74b0553",
   "metadata": {},
   "source": [
    "¿Cuál es la probabilidad de que un negocio valga entre 1000 y 6500?\n"
   ]
  },
  {
   "cell_type": "code",
   "execution_count": 135,
   "id": "03f52c6d",
   "metadata": {},
   "outputs": [
    {
     "data": {
      "text/plain": [
       "np.float64(0.7619294414775964)"
      ]
     },
     "execution_count": 135,
     "metadata": {},
     "output_type": "execute_result"
    }
   ],
   "source": [
    "norm.cdf(6500, mean, std) - norm.cdf(1000, mean, std)"
   ]
  },
  {
   "cell_type": "markdown",
   "id": "e3e10fc9",
   "metadata": {},
   "source": [
    "Calcula el monto por debajo del cual se cerrarán el 50% de los negocios.\n"
   ]
  },
  {
   "cell_type": "code",
   "execution_count": 136,
   "id": "c2833e0a",
   "metadata": {},
   "outputs": [
    {
     "data": {
      "text/plain": [
       "np.float64(4812.000337078652)"
      ]
     },
     "execution_count": 136,
     "metadata": {},
     "output_type": "execute_result"
    }
   ],
   "source": [
    "norm.ppf(0.50, mean, std)"
   ]
  },
  {
   "cell_type": "markdown",
   "id": "258bf64f",
   "metadata": {},
   "source": [
    "Ahora podemos generar valores aleatorios con la media y la desviación estándar. Luego, podemos graficarlos para ver su distribución.\n"
   ]
  },
  {
   "cell_type": "code",
   "execution_count": 137,
   "id": "99e6cc0d",
   "metadata": {},
   "outputs": [
    {
     "data": {
      "image/png": "[encoded data removed]",
      "text/plain": [
       "<Figure size 640x480 with 1 Axes>"
      ]
     },
     "metadata": {},
     "output_type": "display_data"
    }
   ],
   "source": [
    "sales = norm.rvs(mean, std, size= 50)\n",
    "\n",
    "plt.hist(sales)\n",
    "plt.show()"
   ]
  },
  {
   "cell_type": "markdown",
   "id": "125c23c7",
   "metadata": {},
   "source": [
    "Para ver más sobre otras distribuciones de probabilidad disponibles en `scipy.stats` puedes ir a:\n",
    "https://docs.scipy.org/doc/scipy/reference/stats.html"
   ]
  },
  {
   "cell_type": "code",
   "execution_count": null,
   "id": "5ceb70f6-c512-4571-9d4f-b8eb343593da",
   "metadata": {},
   "outputs": [],
   "source": []
  }
 ],
 "metadata": {
  "kernelspec": {
   "display_name": "Python 3 (ipykernel)",
   "language": "python",
   "name": "python3"
  },
  "language_info": {
   "codemirror_mode": {
    "name": "ipython",
    "version": 3
   },
   "file_extension": ".py",
   "mimetype": "text/x-python",
   "name": "python",
   "nbconvert_exporter": "python",
   "pygments_lexer": "ipython3",
   "version": "3.12.4"
  }
 },
 "nbformat": 4,
 "nbformat_minor": 5
}
